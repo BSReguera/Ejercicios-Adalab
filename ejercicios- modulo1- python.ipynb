{
 "cells": [
  {
   "cell_type": "markdown",
   "metadata": {},
   "source": [
    "## EJERCICIOS MODULO 1 - PYTHON - Estructuras de datos, control de flujo, funciones, clases y regex"
   ]
  },
  {
   "cell_type": "markdown",
   "metadata": {},
   "source": [
    "# Ejercicios VARIABLES"
   ]
  },
  {
   "cell_type": "code",
   "execution_count": 21,
   "metadata": {},
   "outputs": [
    {
     "name": "stdout",
     "output_type": "stream",
     "text": [
      "8\n"
     ]
    }
   ],
   "source": [
    "#1. Crea la variable `gatos` que sea un número con el valor `8`.\n",
    "gatos = 8\n",
    "print (gatos)"
   ]
  },
  {
   "cell_type": "code",
   "execution_count": 22,
   "metadata": {},
   "outputs": [
    {
     "name": "stdout",
     "output_type": "stream",
     "text": [
      "cuatro\n"
     ]
    }
   ],
   "source": [
    "#2. Crea la variable `perros`  que sea un texto de seis caracteres: la palabra `cuatro`.\n",
    "perros = \"cuatro\"\n",
    "print(perros)"
   ]
  },
  {
   "cell_type": "code",
   "execution_count": 23,
   "metadata": {},
   "outputs": [
    {
     "name": "stdout",
     "output_type": "stream",
     "text": [
      "8\n"
     ]
    }
   ],
   "source": [
    "#3. Imprime la variable `gatos`.\n",
    "print (gatos)"
   ]
  },
  {
   "cell_type": "code",
   "execution_count": 24,
   "metadata": {},
   "outputs": [
    {
     "name": "stdout",
     "output_type": "stream",
     "text": [
      "cuatro\n"
     ]
    }
   ],
   "source": [
    "#4. Imprime la variable `perros`.\n",
    "print(perros)"
   ]
  },
  {
   "cell_type": "code",
   "execution_count": 25,
   "metadata": {},
   "outputs": [
    {
     "name": "stdout",
     "output_type": "stream",
     "text": [
      "cuatro más perros\n"
     ]
    }
   ],
   "source": [
    "#5. Imprime la variable `perros` seguida por la palabra `más` y la palabra `perros` otra vez.\n",
    "print (perros + \" más \" + \"perros\")"
   ]
  },
  {
   "cell_type": "code",
   "execution_count": 26,
   "metadata": {},
   "outputs": [
    {
     "name": "stdout",
     "output_type": "stream",
     "text": [
      "cuatro más cuatro es igual a 8\n"
     ]
    }
   ],
   "source": [
    "#6. Consigue que el ordenador devuelva el siguiente texto, usando la variable `perros`: `cuatro más cuatro es igual a 8`.\n",
    "resultado = f\"{perros} más {perros} es igual a 8\"\n",
    "print(resultado)"
   ]
  },
  {
   "cell_type": "code",
   "execution_count": 27,
   "metadata": {},
   "outputs": [
    {
     "name": "stdout",
     "output_type": "stream",
     "text": [
      "cuatro más cuatro es igual a 8\n"
     ]
    }
   ],
   "source": [
    "#7. Consigue que el ordenador devuelva el siguiente texto, usando la variable `perros`: `cuatro + cuatro = 8`.\n",
    "resultado1 = f\"{perros} + {perros} = 8\"\n",
    "print(resultado)"
   ]
  },
  {
   "cell_type": "code",
   "execution_count": 28,
   "metadata": {},
   "outputs": [
    {
     "name": "stdout",
     "output_type": "stream",
     "text": [
      "2.0\n"
     ]
    }
   ],
   "source": [
    "#8. Define una variable `pizzas` con un valor `2` que sea del tipo float.\n",
    "pizzas = 2.0\n",
    "print(pizzas)"
   ]
  },
  {
   "cell_type": "code",
   "execution_count": 29,
   "metadata": {},
   "outputs": [
    {
     "name": "stdout",
     "output_type": "stream",
     "text": [
      "2\n"
     ]
    }
   ],
   "source": [
    "#9. Define `magdalenas` con un valor `2` que sea del tipo string.\n",
    "magdalenas = (\"2\")\n",
    "print(magdalenas)"
   ]
  },
  {
   "cell_type": "code",
   "execution_count": 30,
   "metadata": {},
   "outputs": [
    {
     "name": "stdout",
     "output_type": "stream",
     "text": [
      "0\n"
     ]
    }
   ],
   "source": [
    "#10. Define `postres` con un valor `0` que sea del tipo int.\n",
    "postre = 0\n",
    "print(postre)"
   ]
  },
  {
   "cell_type": "code",
   "execution_count": 31,
   "metadata": {},
   "outputs": [
    {
     "name": "stdout",
     "output_type": "stream",
     "text": [
      "<class 'float'>\n"
     ]
    }
   ],
   "source": [
    "#11. ¿Qué tipo de dato es la variable `pizzas`?\n",
    "pizzas = 2.0\n",
    "tipo_pizzas = type(pizzas)\n",
    "print(tipo_pizzas)"
   ]
  },
  {
   "cell_type": "code",
   "execution_count": 32,
   "metadata": {},
   "outputs": [
    {
     "name": "stdout",
     "output_type": "stream",
     "text": [
      "Es la variable magdalenas de tipo string? <class 'str'>\n"
     ]
    }
   ],
   "source": [
    "#12. ¿Es la variable `magdalenas` de tipo string?\n",
    "magdalenas = (\"2\")\n",
    "tipo_magdalenas = type(magdalenas)\n",
    "print(\"Es la variable magdalenas de tipo string?\", tipo_magdalenas)\n"
   ]
  },
  {
   "cell_type": "code",
   "execution_count": 33,
   "metadata": {},
   "outputs": [
    {
     "name": "stdout",
     "output_type": "stream",
     "text": [
      "<class 'int'>\n"
     ]
    }
   ],
   "source": [
    "#13. Define `postres` con un valor `0`.\n",
    "postres = 0\n",
    "tipo_postres = type(postres)\n",
    "print(tipo_postres)"
   ]
  },
  {
   "cell_type": "code",
   "execution_count": 34,
   "metadata": {},
   "outputs": [
    {
     "name": "stdout",
     "output_type": "stream",
     "text": [
      "10.0\n"
     ]
    }
   ],
   "source": [
    "#14. Calcula la suma de gatos y pizzas\n",
    "suma_gatosypizzas = gatos + pizzas\n",
    "print(suma_gatosypizzas)"
   ]
  },
  {
   "cell_type": "code",
   "execution_count": 35,
   "metadata": {},
   "outputs": [
    {
     "name": "stdout",
     "output_type": "stream",
     "text": [
      "la diferencia entre gatos y pizzas es: 6.0\n"
     ]
    }
   ],
   "source": [
    "#15. Calcula la diferencia entre `gatos` y `pizzas`.\n",
    "diferencia_gatosypizzas = gatos - pizzas\n",
    "print(\"la diferencia entre gatos y pizzas es:\", diferencia_gatosypizzas)"
   ]
  },
  {
   "cell_type": "code",
   "execution_count": 36,
   "metadata": {},
   "outputs": [
    {
     "name": "stdout",
     "output_type": "stream",
     "text": [
      "la multiplicación de la cantidad de gatos por 2 es: 16\n"
     ]
    }
   ],
   "source": [
    "#16. Multiplica las cantidad de gatos por 2.\n",
    "gatos2 = gatos *2\n",
    "print(\"la multiplicación de la cantidad de gatos por 2 es:\", gatos2)"
   ]
  },
  {
   "cell_type": "code",
   "execution_count": 37,
   "metadata": {},
   "outputs": [
    {
     "name": "stdout",
     "output_type": "stream",
     "text": [
      "la variable de piezas tiene un valor de: 16.0\n"
     ]
    }
   ],
   "source": [
    "#17. Crea una variable `piezas` que sea 8 veces la cantidad de `pizzas`.\n",
    "piezas = (pizzas *8)\n",
    "print(\"la variable de piezas tiene un valor de:\", piezas)"
   ]
  },
  {
   "cell_type": "code",
   "execution_count": 38,
   "metadata": {},
   "outputs": [
    {
     "name": "stdout",
     "output_type": "stream",
     "text": [
      "la cantidad de piezas aumentada es: 19.0\n"
     ]
    }
   ],
   "source": [
    "#18. Haz que la cantidad de `piezas` se aumente en 3.\n",
    "cantidadpiezas3 = piezas + 3\n",
    "print(\"la cantidad de piezas aumentada es:\", cantidadpiezas3)"
   ]
  },
  {
   "cell_type": "code",
   "execution_count": 39,
   "metadata": {},
   "outputs": [
    {
     "name": "stdout",
     "output_type": "stream",
     "text": [
      "la superficie es: 81\n"
     ]
    }
   ],
   "source": [
    "#19. Calcula el cuadrado de 9 y guárdalo en una variable llamada `superficie`.\n",
    "superficie = 9**2\n",
    "print(\"la superficie es:\", superficie)"
   ]
  },
  {
   "cell_type": "code",
   "execution_count": 40,
   "metadata": {},
   "outputs": [
    {
     "name": "stdout",
     "output_type": "stream",
     "text": [
      "La superficie por gato es: 10.125\n"
     ]
    }
   ],
   "source": [
    "#20. ¿Cuánta superficie hay por gato?\n",
    "gatos = 8 \n",
    "superficietotal = 81\n",
    "superficie_por_gatos = superficietotal /gatos \n",
    "print(\"La superficie por gato es:\", superficie_por_gatos)\n"
   ]
  },
  {
   "cell_type": "code",
   "execution_count": 41,
   "metadata": {},
   "outputs": [
    {
     "name": "stdout",
     "output_type": "stream",
     "text": [
      "La cantidad de piezas enteras por gato es: 2\n"
     ]
    }
   ],
   "source": [
    "#21. ¿Cuántas piezas enteras hay por gato?\n",
    "gatos = 8\n",
    "piezas = 16\n",
    "piezas_por_gato = piezas // gatos\n",
    "print(\"La cantidad de piezas enteras por gato es:\", piezas_por_gato)\n"
   ]
  },
  {
   "cell_type": "code",
   "execution_count": 42,
   "metadata": {},
   "outputs": [
    {
     "name": "stdout",
     "output_type": "stream",
     "text": [
      "La cantidad de piezas enteras por gato es: 0\n"
     ]
    }
   ],
   "source": [
    "#22. ¿Cuántas piezas te quedan si cada gato se come 21 piezas?\n",
    "gatos = 8\n",
    "piezas = 16\n",
    "piezas_restantes = piezas - (gatos * piezas_por_gato)\n",
    "print(\"La cantidad de piezas enteras por gato es:\", piezas_restantes)\n"
   ]
  },
  {
   "cell_type": "code",
   "execution_count": 43,
   "metadata": {},
   "outputs": [
    {
     "name": "stdout",
     "output_type": "stream",
     "text": [
      "La superficie por gato es: 10\n"
     ]
    }
   ],
   "source": [
    "#23. ¿Cuánta superficie hay por gato en metros cuadrados? Redondeala a un sólo decimal. Intenta calcularlo dentro del mismo `print()` en una sola línea.\n",
    "superficie_por_gatos = 10,125\n",
    "print(\"La superficie por gato es:\", round(superficietotal / gatos))\n",
    "\n"
   ]
  },
  {
   "cell_type": "code",
   "execution_count": 44,
   "metadata": {},
   "outputs": [
    {
     "name": "stdout",
     "output_type": "stream",
     "text": [
      "Es verdad que hay más gatos que pizzas: True\n"
     ]
    }
   ],
   "source": [
    "#24. ¿Es verdad que hay más gatos que pizzas?\n",
    "gatos = 8\n",
    "pizzas = 2.0\n",
    "print(\"Es verdad que hay más gatos que pizzas:\", gatos > pizzas)"
   ]
  },
  {
   "cell_type": "code",
   "execution_count": 45,
   "metadata": {},
   "outputs": [
    {
     "name": "stdout",
     "output_type": "stream",
     "text": [
      "Es verdad que hay menos gatos que superficie: True\n"
     ]
    }
   ],
   "source": [
    "#25. ¿Es verdad que hay menos gatos que superficie?\n",
    "gatos = 8\n",
    "superficie = 81\n",
    "print(\"Es verdad que hay menos gatos que superficie:\", gatos < superficie)"
   ]
  },
  {
   "cell_type": "code",
   "execution_count": 46,
   "metadata": {},
   "outputs": [
    {
     "name": "stdout",
     "output_type": "stream",
     "text": [
      "Es verdad que 2 veces la cantidad de pizzas es distinto de la cantidad de gatos: True\n"
     ]
    }
   ],
   "source": [
    "#26. ¿Es verdad que 2 veces la cantidad de pizzas es distinto de la cantidad de gatos?\n",
    "gatos = 8\n",
    "pizzas = 2.0\n",
    "print(\"Es verdad que 2 veces la cantidad de pizzas es distinto de la cantidad de gatos:\", 2* pizzas != gatos)"
   ]
  },
  {
   "cell_type": "code",
   "execution_count": 47,
   "metadata": {},
   "outputs": [
    {
     "name": "stdout",
     "output_type": "stream",
     "text": [
      "Es falso que 2 veces la cantidad de pizzas es igual a la cantidad de gatos: True\n"
     ]
    }
   ],
   "source": [
    "\n",
    "#27. ¿Es falso que 2 veces la cantidad de pizzas es igual a la cantidad de gatos?\n",
    "gatos = 8\n",
    "pizzas = 2.0\n",
    "print(\"Es falso que 2 veces la cantidad de pizzas es igual a la cantidad de gatos:\", not (2* pizzas == gatos))"
   ]
  },
  {
   "cell_type": "code",
   "execution_count": 48,
   "metadata": {},
   "outputs": [
    {
     "name": "stdout",
     "output_type": "stream",
     "text": [
      "La variable `piezas`, es mayor o igual a `pizzas` y `superficie` es distinto de cero: True\n"
     ]
    }
   ],
   "source": [
    "#28. La variable `piezas`, es mayor o igual a `pizzas` y `superficie` es distinto de cero?\n",
    "pizzas = 2.0\n",
    "piezas = 16\n",
    "superficie = 81\n",
    "print(\"La variable `piezas`, es mayor o igual a `pizzas` y `superficie` es distinto de cero:\", piezas >= pizzas and superficie !=0)"
   ]
  },
  {
   "cell_type": "code",
   "execution_count": 49,
   "metadata": {},
   "outputs": [
    {
     "name": "stdout",
     "output_type": "stream",
     "text": [
      "La variable `piezas`, es mayor o igual a `pizzas` y menor que `superficie`: True\n"
     ]
    }
   ],
   "source": [
    "#29. La variable `piezas`, es mayor o igual a `pizzas` y menor que `superficie`?\n",
    "pizzas = 2.0\n",
    "piezas = 16\n",
    "superficie = 81\n",
    "print(\"La variable `piezas`, es mayor o igual a `pizzas` y menor que `superficie`:\", piezas >= pizzas and piezas < superficie)"
   ]
  },
  {
   "cell_type": "code",
   "execution_count": 50,
   "metadata": {},
   "outputs": [
    {
     "name": "stdout",
     "output_type": "stream",
     "text": [
      "Me interesa saber si hay más pizzas que gatos, o si el residuo de piezas por gato es cero: True\n"
     ]
    }
   ],
   "source": [
    "#30. Me interesa saber si hay más pizzas que gatos, o si el residuo de piezas por gato es cero.\n",
    "pizzas = 2.0\n",
    "gatos = 8\n",
    "print(\"Me interesa saber si hay más pizzas que gatos, o si el residuo de piezas por gato es cero:\", pizzas > gatos or piezas % gatos ==0)"
   ]
  },
  {
   "cell_type": "code",
   "execution_count": 51,
   "metadata": {},
   "outputs": [
    {
     "name": "stdout",
     "output_type": "stream",
     "text": [
      "La variable `piezas`, es mayor o igual a `pizzas` y menor que `superficie`: True\n",
      " Comprueba el ejericio 29 en una linea: True\n"
     ]
    }
   ],
   "source": [
    "#31. Comprueba las comparaciones de 29. en una sola línea, sin usar la variable `piezas` más que una sola vez.\n",
    "pizzas = 2.0\n",
    "piezas = 16\n",
    "superficie = 81\n",
    "print(\"La variable `piezas`, es mayor o igual a `pizzas` y menor que `superficie`:\", piezas >= pizzas and piezas < superficie)\n",
    "print(\" Comprueba el ejericio 29 en una linea:\", pizzas > gatos or piezas % gatos == 0)"
   ]
  },
  {
   "cell_type": "code",
   "execution_count": 52,
   "metadata": {},
   "outputs": [
    {
     "name": "stdout",
     "output_type": "stream",
     "text": [
      "81\n"
     ]
    }
   ],
   "source": [
    "#32. Comprueba si `superficie` es diferente a cero sin usar `!=`.\n",
    "superficie = 81\n",
    "print(superficie)"
   ]
  },
  {
   "cell_type": "code",
   "execution_count": 53,
   "metadata": {},
   "outputs": [
    {
     "name": "stdout",
     "output_type": "stream",
     "text": [
      "El día del cumpleaños del usuario es: 11\n"
     ]
    }
   ],
   "source": [
    "#33. Usa `input()` para preguntar a un usuario el día de su cumpleaños y guarda la respuesta en la variable dia_cumple.\n",
    "dia_cumple = input(\"¿Cuál es el día de tu cumpleaños?\")\n",
    "print(\"El día del cumpleaños del usuario es:\", dia_cumple)"
   ]
  },
  {
   "cell_type": "code",
   "execution_count": 54,
   "metadata": {},
   "outputs": [],
   "source": [
    "dia_cumple = 12"
   ]
  },
  {
   "cell_type": "code",
   "execution_count": 55,
   "metadata": {},
   "outputs": [
    {
     "name": "stdout",
     "output_type": "stream",
     "text": [
      "El mes del cumpleaños del usuario es: 12\n"
     ]
    }
   ],
   "source": [
    "#34. Usa `input()` para preguntar a un usuario el mes de su cumpleaños y guarda la respuesta en la variable mes_cumple.\n",
    "mes_cumple = input(\"¿Cuál es el mes de tu cumpleaños?\")\n",
    "print(\"El mes del cumpleaños del usuario es:\", mes_cumple)"
   ]
  },
  {
   "cell_type": "code",
   "execution_count": 56,
   "metadata": {},
   "outputs": [
    {
     "name": "stdout",
     "output_type": "stream",
     "text": [
      "noviembre\n"
     ]
    }
   ],
   "source": [
    "mes_cumple = \"noviembre\"\n",
    "print(mes_cumple)"
   ]
  },
  {
   "cell_type": "code",
   "execution_count": 57,
   "metadata": {},
   "outputs": [],
   "source": [
    "#35. Usa `.strip()` en ambas de las variables definidas.\n",
    "dia_cumples = \"12\".strip()\n",
    "mes_cumples = \"noviembre\".strip()"
   ]
  },
  {
   "cell_type": "code",
   "execution_count": 58,
   "metadata": {},
   "outputs": [
    {
     "name": "stdout",
     "output_type": "stream",
     "text": [
      "12noviembre\n",
      "12noviembre\n"
     ]
    },
    {
     "data": {
      "text/plain": [
       "str"
      ]
     },
     "execution_count": 58,
     "metadata": {},
     "output_type": "execute_result"
    }
   ],
   "source": [
    "#36. Haz que `fecha_cumple` sea un *string* compuesto por el día y el mes.\n",
    "fecha_cumple = dia_cumples + mes_cumples\n",
    "print(fecha_cumple)\n",
    "fecha_cumplestr = str(dia_cumples) + str(mes_cumples)\n",
    "print(fecha_cumplestr)\n",
    "type(fecha_cumplestr)"
   ]
  },
  {
   "cell_type": "code",
   "execution_count": 59,
   "metadata": {},
   "outputs": [
    {
     "name": "stdout",
     "output_type": "stream",
     "text": [
      "Fecha de cumpleaños es: 12noviembre\n"
     ]
    }
   ],
   "source": [
    "#37. Imprime `Fecha de cumpleaños es` más el día y el mes.\n",
    "print(\"Fecha de cumpleaños es:\", fecha_cumple)\n"
   ]
  },
  {
   "cell_type": "code",
   "execution_count": 60,
   "metadata": {},
   "outputs": [
    {
     "name": "stdout",
     "output_type": "stream",
     "text": [
      "CUATRO\n"
     ]
    }
   ],
   "source": [
    "#38. Imprime la variable perros en todas mayúsculas.\n",
    "print(perros.upper())"
   ]
  },
  {
   "cell_type": "markdown",
   "metadata": {},
   "source": [
    "# Ejercicios LISTAS:"
   ]
  },
  {
   "cell_type": "code",
   "execution_count": 61,
   "metadata": {},
   "outputs": [
    {
     "name": "stdout",
     "output_type": "stream",
     "text": [
      "['rojo', 'naranja', 'amarillo', 'verde', 'azul', 'gris']\n",
      "['7', '29', '107']\n",
      "['15', '15', '14', '13', '13', '10', '11']\n"
     ]
    }
   ],
   "source": [
    "#Definir listas\n",
    "\n",
    "#1. Haz una lista llamada `colores` donde almacenemos los primeros 6 colores que te vengan a la mente.\n",
    "colores = [\"rojo\", \"naranja\", \"amarillo\", \"verde\", \"azul\", \"gris\"]\n",
    "print(colores)\n",
    "\n",
    "#2. Haz una lista llamada `buses` de las líneas de autobuses que pasan por tu casa.\n",
    "buses = [\"7\", \"29\", \"107\"]\n",
    "print(buses)\n",
    "\n",
    "#3. Apunta la previsión de temperaturas máximas para todos los días de esta semana en `temperaturas.\n",
    "temperaturas = [\"15\", \"15\", \"14\", \"13\", \"13\", \"10\", \"11\"]\n",
    "print(temperaturas)"
   ]
  },
  {
   "cell_type": "code",
   "execution_count": 62,
   "metadata": {},
   "outputs": [
    {
     "name": "stdout",
     "output_type": "stream",
     "text": [
      "Lista de caracteres del nombre: ['B', 'e', 'a', 't', 'r', 'i', 'z']\n",
      "Lista de caracteres del apellido: ['S', 'a', 'n', 'c', 'h', 'e', 'z']\n"
     ]
    }
   ],
   "source": [
    "#Convertir a listas\n",
    "\n",
    "#4. Convierte tu(s) nombre(s) a una lista `nombres` de caracteres.\n",
    "nombres = \"Beatriz\" \n",
    "nombres = list(nombres)\n",
    "print(\"Lista de caracteres del nombre:\", nombres)\n",
    "#5. Convierte tu(s) apellido(s) a una lista `apellidos` de caracteres.\n",
    "apellidos = \"Sanchez\"\n",
    "apellidos = list(apellidos)\n",
    "print(\"Lista de caracteres del apellido:\", apellidos)\n"
   ]
  },
  {
   "cell_type": "code",
   "execution_count": 63,
   "metadata": {},
   "outputs": [
    {
     "name": "stdout",
     "output_type": "stream",
     "text": [
      "En total, pasan 3 búses por mi casa.\n",
      "7\n",
      "['15', '15', '14', '13', '13', '10', '11']\n",
      "Las temperaturas para esta semana son mínima: 10°C y máxima: 15°C.\n"
     ]
    }
   ],
   "source": [
    "#Usar `len()`, `min()`, y `max()`\n",
    "\n",
    "#6. ¿Cuántos búses pasan por tu casa?\n",
    "cantidad_buses = len(buses)\n",
    "print(f\"En total, pasan {cantidad_buses} búses por mi casa.\")\n",
    "\n",
    "#7. ¿Cuántos caracteres hay en tu apellido(s) (inluyendo los espacios)?\n",
    "apellidos = \"Sanchez\"\n",
    "list_apellidos = ['S', 'a', 'n', 'c', 'h', 'e', 'z']\n",
    "longitud_apellido = len(list_apellidos)\n",
    "print(longitud_apellido)\n",
    "\n",
    "#8. ¿Cuáles son las temperaturas máximas (`t_max`) y mínimas (`t_min`) para esta semana?\n",
    "temperaturas = [\"15\", \"15\", \"14\", \"13\", \"13\", \"10\", \"11\"]\n",
    "print(temperaturas)\n",
    "t_min = min(temperaturas)\n",
    "t_max = max(temperaturas)\n",
    "print(f\"Las temperaturas para esta semana son mínima: {t_min}°C y máxima: {t_max}°C.\")"
   ]
  },
  {
   "cell_type": "code",
   "execution_count": 64,
   "metadata": {},
   "outputs": [
    {
     "data": {
      "text/plain": [
       "True"
      ]
     },
     "execution_count": 64,
     "metadata": {},
     "output_type": "execute_result"
    }
   ],
   "source": [
    "# Usar `in`, `not in`\n",
    "\n",
    "#9. Hay una 'e' en tu nombre?\n",
    "\"e\" in nombres"
   ]
  },
  {
   "cell_type": "code",
   "execution_count": 65,
   "metadata": {},
   "outputs": [
    {
     "data": {
      "text/plain": [
       "False"
      ]
     },
     "execution_count": 65,
     "metadata": {},
     "output_type": "execute_result"
    }
   ],
   "source": [
    "#10. Tienes el color 'rosa' en la lista de colores?\n",
    "\"rosa\" in colores"
   ]
  },
  {
   "cell_type": "code",
   "execution_count": 66,
   "metadata": {},
   "outputs": [
    {
     "data": {
      "text/plain": [
       "True"
      ]
     },
     "execution_count": 66,
     "metadata": {},
     "output_type": "execute_result"
    }
   ],
   "source": [
    "#11. ¿Tiene una 'x' tu nombre? (Usa `not in`)\n",
    "\"x\" not in nombres"
   ]
  },
  {
   "cell_type": "code",
   "execution_count": 67,
   "metadata": {},
   "outputs": [],
   "source": [
    "# Hacer copias y borrar sus contenidos\n",
    "\n",
    "#12. Copia el contenido de `temperaturas` a `temperaturas2`, y `temperaturas3`.\n",
    "temperaturas = [\"15\", \"15\", \"14\", \"13\", \"13\", \"10\", \"11\"]\n",
    "temperaturas2 = temperaturas.copy()\n",
    "temperaturas3 = temperaturas.copy()"
   ]
  },
  {
   "cell_type": "code",
   "execution_count": 68,
   "metadata": {},
   "outputs": [
    {
     "name": "stdout",
     "output_type": "stream",
     "text": [
      "['15', '15', '14', '13', '13', '10', '11']\n",
      "[]\n"
     ]
    }
   ],
   "source": [
    "\n",
    "#13. Vacía el contenido de la variable `temperaturas2`\n",
    "temperaturas2.clear()\n",
    "\n",
    "#14. Imprime el contenido de `temperaturas` y `temperaturas2`.\n",
    "print(temperaturas)\n",
    "print(temperaturas2)"
   ]
  },
  {
   "cell_type": "code",
   "execution_count": 69,
   "metadata": {},
   "outputs": [
    {
     "name": "stdout",
     "output_type": "stream",
     "text": [
      "['Beatriz']\n",
      "Beatriz\n"
     ]
    }
   ],
   "source": [
    "#15. Copia el contenido de `nombres` a `nombres2`.\n",
    "# Opción 1\n",
    "nombres = [\"Beatriz\"] \n",
    "nombres2 = nombres.copy()\n",
    "print(nombres2)\n",
    "# Opción 2\n",
    "nombres = \"Beatriz\" \n",
    "nombres2 = nombres\n",
    "print(nombres2)"
   ]
  },
  {
   "cell_type": "code",
   "execution_count": 70,
   "metadata": {},
   "outputs": [
    {
     "name": "stdout",
     "output_type": "stream",
     "text": [
      "['Sanchez']\n",
      "Sanchez\n"
     ]
    }
   ],
   "source": [
    "#16. Copia el contenido de `apellidos` a `apellidos2`.\n",
    "# Opción 1\n",
    "apellidos = [\"Sanchez\"]\n",
    "apellidos2 = apellidos.copy()\n",
    "print(apellidos2)\n",
    "\n",
    "# Opción 1\n",
    "apellidos = \"Sanchez\"\n",
    "apellidos2 = apellidos\n",
    "print(apellidos2)"
   ]
  },
  {
   "cell_type": "code",
   "execution_count": 71,
   "metadata": {},
   "outputs": [
    {
     "name": "stdout",
     "output_type": "stream",
     "text": [
      "['15', '15', '14', '13', '13', '10', '11']\n",
      "Temperaturas3 ordenadas de mayor a menor: ['15', '15', '14', '13', '13', '11', '10']\n"
     ]
    }
   ],
   "source": [
    "#Cambiar el orden de los contenidos\n",
    "\n",
    "#17. Ordena la variable `temperaturas3` de mayor a menor.\n",
    "temperaturas3 = ['15', '15', '14', '13', '13', '10', '11']\n",
    "print(temperaturas3)\n",
    "temperaturas3.sort(reverse=True)\n",
    "print(\"Temperaturas3 ordenadas de mayor a menor:\", temperaturas3)"
   ]
  },
  {
   "cell_type": "code",
   "execution_count": 72,
   "metadata": {},
   "outputs": [
    {
     "name": "stdout",
     "output_type": "stream",
     "text": [
      "Nombres2 ordenados alfabéticamente: abeirtz\n",
      "Apellidos2 ordenados alfabéticamente: acehnsz\n"
     ]
    }
   ],
   "source": [
    "#18. Ordena los caracteres de tu nombre y tu apellido en las listas `nombres2` y `apellidos2`. Imprime el resultado y investiga: ¿qué orden ha cogido? ¿Cómo trata las mayúsculas?\n",
    "nombres2 = \"Beatriz\"\n",
    "apellidos2 = \"Sanchez\"\n",
    "nombres2 = sorted(nombres.lower())\n",
    "apellidos2 = sorted(apellidos.lower())\n",
    "print(\"Nombres2 ordenados alfabéticamente:\", ''.join(nombres2))\n",
    "print(\"Apellidos2 ordenados alfabéticamente:\", ''.join(apellidos2))"
   ]
  },
  {
   "cell_type": "code",
   "execution_count": 73,
   "metadata": {},
   "outputs": [
    {
     "name": "stdout",
     "output_type": "stream",
     "text": [
      "Mi nombre, tiene: ¨{num_a_nombre} letras a \n",
      "Mi nombre, tiene: {num_o_nombre} letras o\n"
     ]
    }
   ],
   "source": [
    "# - Contar duplicados\n",
    "  # 19. ¿Cuántas 'a' tiene tu nombre? ¿Y cuántas 'o'?\n",
    "nombre = \"Beatriz\"\n",
    "num_a_nombre = nombre.lower().count('a')\n",
    "num_o_nombre = nombre.lower().count('o')\n",
    "\n",
    "print(\"Mi nombre, tiene: ¨{num_a_nombre} letras a \")\n",
    "print(\"Mi nombre, tiene: {num_o_nombre} letras o\")"
   ]
  },
  {
   "cell_type": "code",
   "execution_count": 74,
   "metadata": {},
   "outputs": [
    {
     "name": "stdout",
     "output_type": "stream",
     "text": [
      "¿El número de 'a' es igual en nombres2 y apellidos2? True\n",
      "¿El número de 'o' es igual en nombres2 y apellidos2? True\n"
     ]
    }
   ],
   "source": [
    "  # 20. Verifica si los resultados de ejercicio 19 son iguales para la lista `nombres2`.\n",
    "igual_a = nombres2.count('a') == apellidos2.count('a')\n",
    "igual_o = nombres2.count('o') == apellidos2.count('o')\n",
    "\n",
    "print(\"¿El número de 'a' es igual en nombres2 y apellidos2?\", igual_a)\n",
    "print(\"¿El número de 'o' es igual en nombres2 y apellidos2?\", igual_o)\n"
   ]
  },
  {
   "cell_type": "code",
   "execution_count": 77,
   "metadata": {},
   "outputs": [
    {
     "name": "stdout",
     "output_type": "stream",
     "text": [
      "Numero de veces que se ha alcanzado la temperatura máxima durante la semana: 2\n",
      "Numero de veces que se ha alcanzado la temperatura minima durante la semana: 1\n"
     ]
    }
   ],
   "source": [
    "  # 21. ¿Cuántas veces esta semana llega la temperatura a la `t_max`? ¿Y cuántas a la `t_min`?\n",
    "num_temp_max = temperaturas.count(t_max)\n",
    "num_temp_min = temperaturas.count(t_min)\n",
    "\n",
    "print(\"Numero de veces que se ha alcanzado la temperatura máxima durante la semana:\", num_temp_max)\n",
    "print(\"Numero de veces que se ha alcanzado la temperatura minima durante la semana:\", num_temp_min)"
   ]
  },
  {
   "cell_type": "code",
   "execution_count": 78,
   "metadata": {},
   "outputs": [
    {
     "name": "stdout",
     "output_type": "stream",
     "text": [
      "Esta es la lista de los días de la semana en ingles: ['monday', 'tuesday', 'wednesday', 'thursday', 'friday', 'saturday', 'sunday']\n"
     ]
    }
   ],
   "source": [
    "# - Definir otra lista\n",
    "\n",
    "#   22. La lista dias_en contiene 'monday', 'tuesday', 'wednesday', 'thursday', 'friday', 'saturday', y 'sunday'.\n",
    "dias_en = ['monday', 'tuesday', 'wednesday', 'thursday', 'friday', 'saturday', 'sunday']\n",
    "print(\"Esta es la lista de los días de la semana en ingles:\", dias_en)\n"
   ]
  },
  {
   "cell_type": "code",
   "execution_count": 79,
   "metadata": {},
   "outputs": [
    {
     "name": "stdout",
     "output_type": "stream",
     "text": [
      "[10, 10, 13, 14, 12, 15, 12, 11, 13, 17, 18, 15, 15, 17, 17, 13, 13, 11, 12, 10, 12, 14, 12, 12, 11, 12, 16, 16, 14, 17, 18]\n"
     ]
    }
   ],
   "source": [
    "#   23. Define temperaturas_diciembre 👇🏽:\n",
    "#     ```python\n",
    "#       temperaturas_diciembre = [10, 10, 13, 14, 12, 15, \n",
    "#                             12, 11, 13, 17, 18, 15, \n",
    "#                             15, 17, 17, 13, 13, 11,\n",
    "#                             12, 10, 12, 14, 12, 12,\n",
    "#                             11, 12, 16, 16, 14, 17, 18] ```\n",
    "\n",
    "temperaturas_diciembre = [10, 10, 13, 14, 12, 15, \n",
    "                          12, 11, 13, 17, 18, 15, \n",
    "                          15, 17, 17, 13, 13, 11,\n",
    "                          12, 10, 12, 14, 12, 12,\n",
    "                          11, 12, 16, 16, 14, 17, 18]\n",
    "print(temperaturas_diciembre)"
   ]
  },
  {
   "cell_type": "code",
   "execution_count": null,
   "metadata": {},
   "outputs": [],
   "source": [
    "# - Indexación de listas\n",
    "\n",
    "#   24. ¿Cuál es el penúltimo día de la semana?\n",
    "penultimo_dia = dias_en[-2]\n",
    "print(\"El penultimo día de la semana es:\", dias_en)"
   ]
  },
  {
   "cell_type": "code",
   "execution_count": 81,
   "metadata": {},
   "outputs": [
    {
     "name": "stdout",
     "output_type": "stream",
     "text": [
      "El ultimo elemento en la lista de temperaturas de dicimebre: 18\n"
     ]
    }
   ],
   "source": [
    "#   25. ¿Cuál es el último elemento de la lista de temperaturas de diciembre? \n",
    "ultimo_elemento_temperaturas_diciembre = temperaturas_diciembre[-1]\n",
    "print(\"El ultimo elemento en la lista de temperaturas de dicimebre:\", ultimo_elemento_temperaturas_diciembre)\n"
   ]
  },
  {
   "cell_type": "code",
   "execution_count": 86,
   "metadata": {},
   "outputs": [
    {
     "name": "stdout",
     "output_type": "stream",
     "text": [
      "El viernes está en la lista en la posicion: 4\n"
     ]
    }
   ],
   "source": [
    "#   26. ¿Está 'friday' en la lista de días en inglés? Si está, ¿dónde?\n",
    "dias_en.index('friday')\n",
    "print(\"El viernes está en la lista en la posicion:\",dias_en.index('friday') )"
   ]
  },
  {
   "cell_type": "code",
   "execution_count": 85,
   "metadata": {},
   "outputs": [
    {
     "name": "stdout",
     "output_type": "stream",
     "text": [
      "La temperatura maxima en diciembre es: 18\n"
     ]
    }
   ],
   "source": [
    "#   27. ¿Cuál era la temperatura máxima en diciembre?\n",
    "max(temperaturas_diciembre)\n",
    "print(\"La temperatura maxima en diciembre es:\", max(temperaturas_diciembre))"
   ]
  },
  {
   "cell_type": "code",
   "execution_count": 88,
   "metadata": {},
   "outputs": [
    {
     "name": "stdout",
     "output_type": "stream",
     "text": [
      "El indice del miercoles es: 2\n"
     ]
    }
   ],
   "source": [
    "#   28. Encuentra el índice de 'miércoles' en dias_es.\n",
    "dias_en.index('wednesday')\n",
    "print(\"El indice del miercoles es:\", dias_en.index('wednesday'))"
   ]
  },
  {
   "cell_type": "code",
   "execution_count": 90,
   "metadata": {},
   "outputs": [
    {
     "name": "stdout",
     "output_type": "stream",
     "text": [
      "La temperatura máxima esta semana será 14 ºC, que ocurrirá en 1 días(s). El día más frío tendrá una temperatura máxima de 10 ºC, que ocurrirá en 2 día(s)\n"
     ]
    }
   ],
   "source": [
    "# - Bonus\n",
    "#   29. Imprime esta frase en pantalla: 'La temperatura máxima esta semana será 14 ºC, que ocurrirá en 1 días(s). El día más frío tendrá una temperatura máxima de 10 ºC, que ocurrirá en 2 día(s).'\n",
    "print(\"La temperatura máxima esta semana será 14 ºC, que ocurrirá en 1 días(s). El día más frío tendrá una temperatura máxima de 10 ºC, que ocurrirá en 2 día(s)\")"
   ]
  },
  {
   "cell_type": "markdown",
   "metadata": {},
   "source": [
    "# Ejercicios TUPLAS"
   ]
  },
  {
   "cell_type": "code",
   "execution_count": 1,
   "metadata": {},
   "outputs": [
    {
     "name": "stdout",
     "output_type": "stream",
     "text": [
      "Tupla persona1: (61, 1.54, 'pelo marron')\n",
      "Tupla persona2: (68, 1.65, 'pelo rubio')\n",
      "Lista talla: ['M', 42, 39]\n"
     ]
    }
   ],
   "source": [
    "# - Definir tuplas\n",
    "\n",
    "#   1. Crea una tupla `persona1` para juntar los siguientes datos: 61 kg, 1.54 m altura, pelo marrón, sin usar paréntesis. (Serán del tipo `int`, `float` y `str`.)\n",
    "persona1 = 61, 1.54, \"pelo marron\"\n",
    "print(\"Tupla persona1:\", persona1)\n",
    "\n",
    "#   2. Crea una tupla para la `persona2` de 68 kg, 1.65 m y pelo rubio, usando paréntesis.\n",
    "persona2 = (68, 1.65, \"pelo rubio\")\n",
    "print(\"Tupla persona2:\", persona2)\n",
    "\n",
    "#   3. Crea una lista `talla` que recompila 'M', 42, y 39. \n",
    "talla = [\"M\", 42, 39]\n",
    "print(\"Lista talla:\", talla)"
   ]
  },
  {
   "cell_type": "code",
   "execution_count": 3,
   "metadata": {},
   "outputs": [
    {
     "name": "stdout",
     "output_type": "stream",
     "text": [
      "Conversión de lista a tupla: ('M', 42, 39)\n",
      "Esta es la unión de ambas tuplas: (61, 1.54, 'pelo marron', 'M', 42, 39)\n"
     ]
    }
   ],
   "source": [
    "# - Convertir y juntar\n",
    "\n",
    "#   4. Convierte la lista `talla` a una tupla.\n",
    "talla_tupla = tuple(talla)\n",
    "print(\"Conversión de lista a tupla:\", talla_tupla)\n",
    "  \n",
    "#   5. Une a la tupla de `persona1` los datos en `talla`, para tener una única tupla.\n",
    "persona_y_talla = persona1 + talla_tupla\n",
    "print(\"Esta es la unión de ambas tuplas:\", persona_y_talla)"
   ]
  },
  {
   "cell_type": "code",
   "execution_count": 7,
   "metadata": {},
   "outputs": [
    {
     "name": "stdout",
     "output_type": "stream",
     "text": [
      "Cambios en la tupla2: pelo rubio\n",
      "Numero de elementos en persona1: 6\n"
     ]
    }
   ],
   "source": [
    "#  - Indexar tuplas\n",
    "\n",
    "#   6. Saca de `persona2` el contenido del tercer elemento y llámalo `color`.\n",
    "color = persona2[2]\n",
    "print(\"Cambios en la tupla2:\", color)\n",
    "\n",
    "#   7. ¿Cuántos elementos hay ahora en `persona1`? (Es decir, ¿cuál es su longitud?)\n",
    "longitud_persona1 = len(persona_y_talla)\n",
    "print(\"Numero de elementos en persona1:\", longitud_persona1)"
   ]
  },
  {
   "cell_type": "code",
   "execution_count": 9,
   "metadata": {},
   "outputs": [
    {
     "name": "stdout",
     "output_type": "stream",
     "text": [
      "Color de pelo de persona1: pelo marron\n"
     ]
    }
   ],
   "source": [
    "# - Desempaquetar\n",
    "\n",
    "#   8. Crea las variables `peso`, `altura`, `color_pelo` y llénalas con el contenido de `persona1`. Imprime `color_pelo` para comprobar el resultado. \n",
    "peso, altura, color_pelo = persona1\n",
    "print(\"Color de pelo de persona1:\", color_pelo)"
   ]
  },
  {
   "cell_type": "code",
   "execution_count": 15,
   "metadata": {},
   "outputs": [
    {
     "name": "stdout",
     "output_type": "stream",
     "text": [
      "Zip personas: <zip object at 0x7fc5880c2740>\n",
      "personas, tiene los siguientes elementos: 3\n",
      "La lista de etiqueta es: ('peso', 'altura', 'color_pelo')\n",
      "Zip todo: <zip object at 0x7fc5880c2640>\n"
     ]
    }
   ],
   "source": [
    "# - Zipear\n",
    "\n",
    "#   9. Crea el zip `personas` con `persona1` y `persona2`.\n",
    "personas = zip(persona1, persona2)\n",
    "print(\"Zip personas:\", personas)\n",
    "\n",
    "#   10. ¿Cuántas \"elementos\" tiene `personas`? ¿Por qué?\n",
    "num_elementos_personas = len(list(personas))\n",
    "print(\"personas, tiene los siguientes elementos:\", num_elementos_personas)\n",
    "\n",
    "#   11. Crea una tupla `etiquetas` con `'peso'`, `'altura'`, y `'color_pelo'`.\n",
    "etiquetas = (\"peso\", \"altura\", \"color_pelo\")\n",
    "print(\"La lista de etiqueta es:\", etiquetas)\n",
    "\n",
    "#   12. Crea al zip de `etiquetas`, `persona1`, y `persona2`, llamado \"todo\".\n",
    "todo = zip(etiquetas, persona1, persona2)\n",
    "print(\"Zip todo:\", todo)\n"
   ]
  },
  {
   "cell_type": "code",
   "execution_count": 16,
   "metadata": {},
   "outputs": [
    {
     "name": "stdout",
     "output_type": "stream",
     "text": [
      "Zip personas: <zip object at 0x7fc588055040>\n"
     ]
    }
   ],
   "source": [
    "# - Manipular zips\n",
    "\n",
    "#   13. Ordena las propiedades de la variable `personas` alfabéticamente. ¿Puedes? ¿Por qué?\n",
    "personas = zip(persona1, persona2)\n",
    "print(\"Zip personas:\", personas)\n",
    "# No se puede ordenar el zip alfabeticamente.\n",
    "# Solucion: se puede convertir a una lista de tuplas para ordenarla.Aunque se pierde la asociacion entre las propiedades y los valores. Por ello, no se puede. \n"
   ]
  },
  {
   "cell_type": "markdown",
   "metadata": {},
   "source": [
    "\n",
    "# Ejercicios DICCIONARIOS"
   ]
  },
  {
   "cell_type": "code",
   "execution_count": 17,
   "metadata": {},
   "outputs": [
    {
     "name": "stdout",
     "output_type": "stream",
     "text": [
      "El diccionario festivos es el siguiente: {'01/01': 'Año Nuevo', '06/01': 'Epifanía del Señor', '15/04': 'Viernes Santo', '15/08': 'Asunción de la Virgen', '12/10': 'Fiesta Nacional de España', '01/11': 'Todos los Santos', '06/12': 'Día de la Constitución Española', '08/12': 'Inmaculada Concepción'}\n",
      "El diccionario monarcas es el siguiente: {'Bélgica': 'Philippe', 'Dinamarca': 'Margrethe II', 'Holanda': 'Beatrix', 'Noruega': 'Harald V', 'España': 'Felipe VI', 'Reino Unido': 'Carlos III'}\n"
     ]
    }
   ],
   "source": [
    "# - Definir diccionarios\n",
    "\n",
    "#   1. Crea el diccionario `festivos` con las fechas como claves y los nombres como valores: 01/01: Año Nuevo, 06/01: Epifanía del Señor, 15/04: Viernes Santo, 15/08: Asunción de la Virgen, 12/10: Fiesta Nacional de España, 01/11: Todos los Santos, 06/12: Día de la Constitución Española, y 08/12: Inmaculada Concepción.\n",
    "festivos = {\"01/01\": \"Año Nuevo\", \"06/01\": \"Epifanía del Señor\", \"15/04\": \"Viernes Santo\", \"15/08\": \"Asunción de la Virgen\", \"12/10\": \"Fiesta Nacional de España\", \"01/11\": \"Todos los Santos\", \"06/12\": \"Día de la Constitución Española\", \"08/12\": \"Inmaculada Concepción\"}\n",
    "print(\"El diccionario festivos es el siguiente:\", festivos)\n",
    "\n",
    "#   2. Crea el diccionario `monarcas` con los países como claves y los nombres como valores: Bélgica: Philippe, Dinamarca: Margrethe II, Holanda: Beatrix, Noruega: Harald V, España: Felipe VI, Reino Unido: Carlos III.\n",
    "monarcas = {\"Bélgica\": \"Philippe\", \"Dinamarca\": \"Margrethe II\", \"Holanda\": \"Beatrix\", \"Noruega\": \"Harald V\", \"España\": \"Felipe VI\", \"Reino Unido\": \"Carlos III\"}\n",
    "print(\"El diccionario monarcas es el siguiente:\", monarcas)\n"
   ]
  },
  {
   "cell_type": "code",
   "execution_count": 22,
   "metadata": {},
   "outputs": [
    {
     "name": "stdout",
     "output_type": "stream",
     "text": [
      "Viernes Santo\n",
      "Diccionario actualizado: {'Bélgica': 'Philippe', 'Dinamarca': 'Margrethe II', 'Holanda': 'Willem-Alexander', 'Noruega': 'Harald V', 'España': 'Felipe VI', 'Reino Unido': 'Carlos III'}\n",
      "Diccionario actualizado con el nuevo monarca: {'Bélgica': 'Philippe', 'Dinamarca': 'Margrethe II', 'Holanda': 'Willem-Alexander', 'Noruega': 'Harald V', 'España': 'Felipe VI', 'Reino Unido': 'Carlos III', 'Luxemburgo': 'Henri'}\n"
     ]
    }
   ],
   "source": [
    "# - Leer, añadir, y cambiar elementos\n",
    "\n",
    "#   3. ¿Qué festivo hay el 15/04?\n",
    "festivo_1504 = festivos.get(\"15/04\")\n",
    "print(festivo_1504)\n",
    "\n",
    "#   4. La reina `'Beatrix'` abdicó, ahora es el rey `'Willem-Alexander'`. Actualiza el dict.\n",
    "monarcas[\"Holanda\"] =\"Willem-Alexander\"\n",
    "print(\"Diccionario actualizado:\", monarcas)\n",
    "\n",
    "#   5. El rey de Luxemburgo se llama `Henri`. Añadelo al dict usando `.update()`. \n",
    "monarcas.update({\"Luxemburgo\": \"Henri\"})\n",
    "print(\"Diccionario actualizado con el nuevo monarca:\", monarcas)\n",
    "\n"
   ]
  },
  {
   "cell_type": "code",
   "execution_count": 29,
   "metadata": {},
   "outputs": [
    {
     "name": "stdout",
     "output_type": "stream",
     "text": [
      "Hay: 7\n",
      "Está monaco inluido: False\n",
      "Está suecia inluido: False\n"
     ]
    }
   ],
   "source": [
    "# - Comprobar contenidos\n",
    "\n",
    "#   6. ¿Cuántos países están definidos en `monarcas`?\n",
    "paises_monarcas = len(monarcas)\n",
    "print(\"Hay:\", paises_monarcas)\n",
    "\n",
    "#   7. ¿Es `'Monaco'` uno de ellos?\n",
    "monaco_incluido = \"Monaco\" in monarcas\n",
    "print(\"Está monaco inluido:\", monaco_incluido)\n",
    "\n",
    "#   8. ¿Es verdad que nos olvidamos de poner `'Suecia'`? Compruébalo de una manera en que obtengas un `True` o `False`.\n",
    "suecia_incluido = \"Suecia\" in monarcas\n",
    "print(\"Está suecia inluido:\", suecia_incluido)\n"
   ]
  },
  {
   "cell_type": "code",
   "execution_count": 33,
   "metadata": {},
   "outputs": [
    {
     "name": "stdout",
     "output_type": "stream",
     "text": [
      "Esta es la lista con todos los paises: ['Bélgica', 'Dinamarca', 'Holanda', 'Noruega', 'España', 'Reino Unido', 'Luxemburgo']\n",
      "Esta es la lista con todos los festivos: ['Año Nuevo', 'Epifanía del Señor', 'Viernes Santo', 'Asunción de la Virgen', 'Fiesta Nacional de España', 'Todos los Santos', 'Día de la Constitución Española', 'Inmaculada Concepción']\n",
      "Diccionario de festivos: {'01/01': 'Año Nuevo', '06/01': 'Epifanía del Señor', '15/04': 'Viernes Santo', '15/08': 'Asunción de la Virgen', '12/10': 'Fiesta Nacional de España', '01/11': 'Todos los Santos', '06/12': 'Día de la Constitución Española', '08/12': 'Inmaculada Concepción'}\n",
      "Lista de todos los elementos del diccionario festivos: [('01/01', 'Año Nuevo'), ('06/01', 'Epifanía del Señor'), ('15/04', 'Viernes Santo'), ('15/08', 'Asunción de la Virgen'), ('12/10', 'Fiesta Nacional de España'), ('01/11', 'Todos los Santos'), ('06/12', 'Día de la Constitución Española'), ('08/12', 'Inmaculada Concepción')]\n"
     ]
    }
   ],
   "source": [
    "# - Listar los contenidos\n",
    "\n",
    "#   9. Saca una **lista** de todos los países en el dict `monarcas`.\n",
    "lista_paises = list(monarcas.keys())\n",
    "print(\"Esta es la lista con todos los paises:\", lista_paises)\n",
    "\n",
    "#   10. Saca una **lista** de los nombres de los festivos.\n",
    "nombres_festivos = list(festivos.values())\n",
    "print(\"Esta es la lista con todos los festivos:\", nombres_festivos)\n",
    "\n",
    "#   11. Imprime el diccionario de festivos.\n",
    "print(\"Diccionario de festivos:\", festivos)\n",
    "  \n",
    "#   12. Imprime una **lista de tuplas** de todos los elementos que hay en festivos.\n",
    "lista_tuplas_festivos = list(festivos.items())\n",
    "print(\"Lista de todos los elementos del diccionario festivos:\", lista_tuplas_festivos)\n",
    "\n"
   ]
  },
  {
   "cell_type": "code",
   "execution_count": 38,
   "metadata": {},
   "outputs": [
    {
     "name": "stdout",
     "output_type": "stream",
     "text": [
      "Lista de la copia de monarcas: {'Bélgica': 'Philippe', 'Dinamarca': 'Margrethe II', 'Holanda': 'Willem-Alexander', 'Noruega': 'Harald V', 'España': 'Felipe VI', 'Reino Unido': 'Carlos III', 'Luxemburgo': 'Henri'}\n",
      "('Luxemburgo', 'Henri')\n"
     ]
    }
   ],
   "source": [
    "# - Copiar dicts, y borrar elementos\n",
    "\n",
    "#   13. Copia `monarcas` a `monarcas2010`.\n",
    "monarcas2010 = monarcas.copy()\n",
    "print(\"Lista de la copia de monarcas:\", monarcas2010)\n",
    "\n",
    "#   14. Quita España de `monarcas2010`.\n",
    "monarcas2010.pop(\"España\")\n",
    "\n",
    "#   15. Quita el último elemento de `monarcas2010`.\n",
    "ultimo_elemento_eliminado = monarcas2010.popitem()\n",
    "print(ultimo_elemento_eliminado)\n",
    "\n"
   ]
  },
  {
   "cell_type": "code",
   "execution_count": 40,
   "metadata": {},
   "outputs": [
    {
     "name": "stdout",
     "output_type": "stream",
     "text": [
      "{}\n"
     ]
    }
   ],
   "source": [
    "# - Vaciar y borrar dicts\n",
    "\n",
    "#   16. Vacia el dict `monarcas2010`.\n",
    "monarcas2010.clear()\n",
    "print(\"Tras ser dorrada la lista:\", monarcas2010)\n"
   ]
  },
  {
   "cell_type": "code",
   "execution_count": 42,
   "metadata": {},
   "outputs": [
    {
     "name": "stdout",
     "output_type": "stream",
     "text": [
      "El festivo del dia 06/01 es: Epifanía del Señor\n",
      "Día Internacional de la Mujer\n",
      "Todos los Santos\n"
     ]
    }
   ],
   "source": [
    "# - Obtener valores\n",
    "\n",
    "#   17. ¿Qué festivo hay el 06/01?\n",
    "festivo_0601 = festivos.get(\"06/01\")\n",
    "print(\"El festivo del dia 06/01 es:\", festivo_0601)\n",
    "\n",
    "#   18. Obten el festivo que haya el 08/03, y en su defecto devuélve 'Día Internacional de la Mujer'.\n",
    "festivo_0803 = festivos.get('08/03', 'Día Internacional de la Mujer')\n",
    "print(festivo_0803)\n",
    "\n",
    "#   19. Obten el festivo que haya el 31/11, y si no existe crea un par de clave-valor nuevo con el valor de 'Todos los Santos'.\n",
    "festivo_3111 = festivos.setdefault('31/11', 'Todos los Santos')\n",
    "print(festivo_3111)"
   ]
  },
  {
   "cell_type": "markdown",
   "metadata": {},
   "source": [
    "# Ejercicios SETS"
   ]
  },
  {
   "cell_type": "code",
   "execution_count": 45,
   "metadata": {},
   "outputs": [
    {
     "name": "stdout",
     "output_type": "stream",
     "text": [
      "[10, 10, 13, 14, 12, 15, 12, 11, 13, 17, 18, 15, 15, 17, 17, 13, 13, 11, 12, 10, 12, 14, 12, 12, 11, 12, 16, 16, 14, 17, 18]\n",
      "set diciembre {10, 11, 12, 13, 14, 15, 16, 17, 18}\n",
      "Set de colores {'amarillo', 'gris', 'naranja', 'verde', 'rojo', 'azul'}\n"
     ]
    }
   ],
   "source": [
    "# - Definir sets\n",
    "\n",
    "#   1. Define la *lista* \n",
    "#         ```python  temperaturas_diciembre = [10, 10, 13, 14, 12, 15, \n",
    "#                                              12, 11, 13, 17, 18, 15, \n",
    "#                                              15, 17, 17, 13, 13, 11,\n",
    "#                                              12, 10, 12, 14, 12, 12,\n",
    "#                                              11, 12, 16, 16, 14, 17, 18] ```\n",
    "temperaturas_diciembre = [10, 10, 13, 14, 12, 15, \n",
    "                          12, 11, 13, 17, 18, 15, \n",
    "                          15, 17, 17, 13, 13, 11,\n",
    "                          12, 10, 12, 14, 12, 12,\n",
    "                          11, 12, 16, 16, 14, 17, 18]\n",
    "print(temperaturas_diciembre)\n",
    "type(temperaturas_diciembre)\n",
    "#   2. Conviértala en un set  llamado `diciembre`.\n",
    "diciembre = set(temperaturas_diciembre)\n",
    "print(\"set diciembre\", diciembre)\n",
    "\n",
    "#   3. Piensa en 6 colores y almacenalos en un set llamado `colores`.\n",
    "colores = {\"rojo\", \"naranja\", \"amarillo\", \"verde\", \"azul\", \"gris\"}\n",
    "print(\"Set de colores\", colores)"
   ]
  },
  {
   "cell_type": "code",
   "execution_count": 47,
   "metadata": {},
   "outputs": [
    {
     "name": "stdout",
     "output_type": "stream",
     "text": [
      "{'amarillo', 'gris', 'naranja', 'verde', 'lila', 'rojo', 'azul'}\n",
      "Set de colores actualizados {'amarillo', 'granate', 'gris', 'naranja', 'verde', 'lila', 'rojo', 'azul'}\n"
     ]
    }
   ],
   "source": [
    "# - Ampliar sets\n",
    "\n",
    "#   4. Añade `'lila'` a `colores`.\n",
    "colores.add(\"lila\")\n",
    "print(colores)\n",
    "\n",
    "#   5. Añade `'azul'`, `'rojo'`, y `'granate'` a `colores` usando `.update()`.\n",
    "colores.update([\"azul\", \"rojo\", \"granate\"])\n",
    "print(\"Set de colores actualizados\", colores)"
   ]
  },
  {
   "cell_type": "code",
   "execution_count": 49,
   "metadata": {},
   "outputs": [
    {
     "data": {
      "text/plain": [
       "True"
      ]
     },
     "execution_count": 49,
     "metadata": {},
     "output_type": "execute_result"
    }
   ],
   "source": [
    "# - `in`, `not in`\n",
    "\n",
    "#   6. Tu set de `colores`, ¿tiene `'verde'`?\n",
    "\"verde\" in colores\n",
    "  \n",
    "#   7. ¿Y tiene `'ROJO'`?\n",
    "\"rojo\" in colores"
   ]
  },
  {
   "cell_type": "code",
   "execution_count": 55,
   "metadata": {},
   "outputs": [
    {
     "name": "stdout",
     "output_type": "stream",
     "text": [
      "Definición de enero como diciembre: {10, 11, 12, 13, 14, 15, 16, 17, 18}\n",
      "Variable de enero actualizada, sin temperaturas 17 y 18º: {10, 11, 12, 13, 14, 15, 16}\n"
     ]
    }
   ],
   "source": [
    "# - Copiar, borrar elementos\n",
    "\n",
    "#   8. Define el set `enero` para que sea igual a `diciembre`.\n",
    "enero = diciembre.copy()\n",
    "print(\"Definición de enero como diciembre:\",enero)\n",
    "\n",
    "#   9. Quita las temperaturas `17`, y `18` de `enero`.\n",
    "enero.discard(17)\n",
    "enero.discard(18)\n",
    "print(\"Variable de enero actualizada, sin temperaturas 17 y 18º:\", enero)"
   ]
  },
  {
   "cell_type": "code",
   "execution_count": 57,
   "metadata": {},
   "outputs": [
    {
     "name": "stdout",
     "output_type": "stream",
     "text": [
      "Número de temperaturas distintas en diciembre: 9\n",
      "Número de temperaturas distintas en enero: 7\n"
     ]
    }
   ],
   "source": [
    "# - Tamaño de un set\n",
    "\n",
    "#   10. ¿Cuántas temperaturas distintas había en diciembre?\n",
    "temperaturas_distintas_diciembre = len(diciembre)\n",
    "print(\"Número de temperaturas distintas en diciembre:\", temperaturas_distintas_diciembre)\n",
    "  \n",
    "#   11. ¿Y cuántas en enero?\n",
    "temperaturas_numero_enero = len(enero)\n",
    "print(\"Número de temperaturas distintas en enero:\", temperaturas_numero_enero)"
   ]
  },
  {
   "cell_type": "code",
   "execution_count": 62,
   "metadata": {},
   "outputs": [
    {
     "name": "stdout",
     "output_type": "stream",
     "text": [
      "Primera opción de identificar que elementos no estan en enero: {17, 18}\n",
      "Segunda opción de identificar que elementos no estan en enero: {17, 18}\n",
      "Primera opción de identificar que elementos no estan en diciembre: set()\n",
      "Segunda opción de identificar que elementos no estan en diciembre: set()\n",
      "Elementos en común entre diciembre y enero: {10, 11, 12, 13, 14, 15, 16}\n",
      "Diferencia simétrica entre colores y {'marrón','amarillo','cyan'}: {'naranja', 'verde', 'lila', 'granate', 'marrón', 'cyan', 'gris', 'rojo', 'azul'}\n"
     ]
    }
   ],
   "source": [
    "# - Conjuntos con sets\n",
    "\n",
    "#   12. Identifica los elementos que hay en `diciembre` que no están en `enero`.\n",
    "diciembre_no_enero = diciembre - enero\n",
    "print(\"Primera opción de identificar que elementos no estan en enero:\", diciembre_no_enero)\n",
    "\n",
    "diciembre_no_eneroo = diciembre.difference(enero)\n",
    "print(\"Segunda opción de identificar que elementos no estan en enero:\", diciembre_no_eneroo)\n",
    "\n",
    "#   13. Identifica los elementos que hay en `enero` que no están en `diciembre`.\n",
    "enero_no_diciembre = enero - diciembre\n",
    "print(\"Primera opción de identificar que elementos no estan en diciembre:\", enero_no_diciembre)\n",
    "\n",
    "enero_no_diciembree = enero.difference(diciembre)\n",
    "print(\"Segunda opción de identificar que elementos no estan en diciembre:\", enero_no_diciembree)\n",
    "\n",
    "#   14. Identifica los elementos que tienen en común `diciembre` y `enero`.\n",
    "comunes_diciembre_enero = diciembre.intersection(enero)\n",
    "print(\"Elementos en común entre diciembre y enero:\", comunes_diciembre_enero)\n",
    "\n",
    "#   15. Identifica la diferencia simétrica de `colores` y `{'marrón','amarillo','cyan'}`. ¿Qué significa este resultado?\n",
    "dif_simetrica_colores = colores.symmetric_difference({'marrón', 'amarillo', 'cyan'})\n",
    "print(\"Diferencia simétrica entre colores y {'marrón','amarillo','cyan'}:\", dif_simetrica_colores)"
   ]
  },
  {
   "cell_type": "code",
   "execution_count": 66,
   "metadata": {},
   "outputs": [
    {
     "name": "stdout",
     "output_type": "stream",
     "text": [
      "¿Diciembre y enero son disjoint?: False\n",
      "¿{'rojo','azul'} es un superset de colores?: False\n",
      "¿Colores es un subset de {'rojo','azul'}?: False\n"
     ]
    }
   ],
   "source": [
    "# - Comparar sets\n",
    "\n",
    "#   16. ¿Son *disjoint* `diciembre` y `enero`? ¿Por qué (no)?\n",
    "disjoint = diciembre.isdisjoint(enero)\n",
    "print(\"¿Diciembre y enero son disjoint?:\", disjoint)\n",
    "\n",
    "#   17. ¿Es `{'rojo','azul'}` un superset de colores?\n",
    "superset = {\"rojo\", \"azul\"}.issuperset(colores)\n",
    "print(\"¿{'rojo','azul'} es un superset de colores?:\", superset)\n",
    "  \n",
    "#   18. ¿Y un subset?\n",
    "subset = colores.issubset({\"rojo\", \"azul\"})\n",
    "print(\"¿Colores es un subset de {'rojo','azul'}?:\",subset)"
   ]
  },
  {
   "cell_type": "code",
   "execution_count": 78,
   "metadata": {},
   "outputs": [],
   "source": [
    "#1. Crea las siguientes variables:\n",
    "var1 = 8\n",
    "var2 = 2\n",
    "var3 = 8 "
   ]
  },
  {
   "cell_type": "code",
   "execution_count": 70,
   "metadata": {},
   "outputs": [
    {
     "name": "stdout",
     "output_type": "stream",
     "text": [
      "Es 'var1' mayor que '6'?: True\n",
      "¡Es enorme!\n"
     ]
    }
   ],
   "source": [
    "#2. Comprueba si `var1` es mayor que 6, y si es así imprime `¡Es enorme!`.\n",
    "print(\"Es 'var1' mayor que '6'?:\",  var1 > 6)\n",
    "resultado = (\"¡Es enorme!\")\n",
    "print(resultado)"
   ]
  },
  {
   "cell_type": "code",
   "execution_count": 71,
   "metadata": {},
   "outputs": [
    {
     "name": "stdout",
     "output_type": "stream",
     "text": [
      "Es 'var2' mayor que '6'?: False\n"
     ]
    }
   ],
   "source": [
    "#3. Comprueba si `var2` es mayor que 6, y si es así imprime `¡Es enorme también!`.\n",
    "print(\"Es 'var2' mayor que '6'?:\",  var2 > 6)"
   ]
  },
  {
   "cell_type": "code",
   "execution_count": 72,
   "metadata": {},
   "outputs": [
    {
     "name": "stdout",
     "output_type": "stream",
     "text": [
      "Es 'var3' mayor que '6'?: True\n",
      "¡Es enorme!\n",
      "¡Pero de verdad!\n"
     ]
    }
   ],
   "source": [
    "#4. Comprueba si `var3` es mayor que 6, y si es así imprime `¡Es enorme!` seguido por `¡Pero de verdad!` en otra línea (deberéis tener dos *print*).\n",
    "print(\"Es 'var3' mayor que '6'?:\",  var3 > 6)\n",
    "print(resultado) \n",
    "resultado2 = (\"¡Pero de verdad!\")\n",
    "print(resultado2)"
   ]
  },
  {
   "cell_type": "code",
   "execution_count": 73,
   "metadata": {},
   "outputs": [
    {
     "name": "stdout",
     "output_type": "stream",
     "text": [
      "Es 'var1' igual que 'var3': True\n",
      "Son iguales\n"
     ]
    }
   ],
   "source": [
    "#5.Comprueba si `var1` es igual que `var3`, y si es así imprime `Son iguales.`.\n",
    "print(\"Es 'var1' igual que 'var3':\", var1 == var3)\n",
    "resultado3 = (\"Son iguales\")\n",
    "print(resultado3)"
   ]
  },
  {
   "cell_type": "code",
   "execution_count": 74,
   "metadata": {},
   "outputs": [
    {
     "name": "stdout",
     "output_type": "stream",
     "text": [
      "Es 'var1' igual que 'var2': False\n"
     ]
    }
   ],
   "source": [
    "#6. Comprueba si `var1` es igual que `var2`, y si es así imprime `Son iguales.`\n",
    "print(\"Es 'var1' igual que 'var2':\", var1 == var2)"
   ]
  },
  {
   "cell_type": "code",
   "execution_count": 75,
   "metadata": {},
   "outputs": [
    {
     "name": "stdout",
     "output_type": "stream",
     "text": [
      "La diferencia es: 6\n"
     ]
    }
   ],
   "source": [
    "#7. Comprueba si `var1` es mayor o igual que `var2`, y si es así calcula la diferencia entre `var1` y `var2`, guardala en la variable `dif`, e imprime `'La diferencia es',dif`. \n",
    "if var1 >= var2:\n",
    "   dif = var1 - var2\n",
    "   print(\"La diferencia es:\", dif)\n"
   ]
  },
  {
   "cell_type": "code",
   "execution_count": 76,
   "metadata": {},
   "outputs": [
    {
     "name": "stdout",
     "output_type": "stream",
     "text": [
      "¡Es enorme!\n"
     ]
    }
   ],
   "source": [
    "#8. Comprueba si `var1` es mayor que 6, y si es así imprime `¡Es enorme!`. Si no es así imprime `Es chiquitín.`.\n",
    "if var1 > 6:\n",
    "    print('¡Es enorme!')\n",
    "else:\n",
    "    print('Es chiquitín.')"
   ]
  },
  {
   "cell_type": "code",
   "execution_count": 77,
   "metadata": {},
   "outputs": [
    {
     "name": "stdout",
     "output_type": "stream",
     "text": [
      "Es chiquitín también.\n"
     ]
    }
   ],
   "source": [
    "#9. Comprueba si `var2` es mayor que 6, y si es así imprime `¡Es enorme también!`. Si no es así imprime `Es chiquitín también.`.\n",
    "if var2 > 6:\n",
    "    print('¡Es enorme también!')\n",
    "else:\n",
    "    print('Es chiquitín también.')"
   ]
  },
  {
   "cell_type": "code",
   "execution_count": 79,
   "metadata": {},
   "outputs": [
    {
     "name": "stdout",
     "output_type": "stream",
     "text": [
      "Son distintos.\n"
     ]
    }
   ],
   "source": [
    "#10. Comprueba si `var1` es igual a `var3`, y si es así imprime `Son iguales.` Si no es así imprime `Son distintos.`\n",
    "if var2 == var3:\n",
    "    print('¡Son iguales!')\n",
    "else:\n",
    "    print('Son distintos.')"
   ]
  },
  {
   "cell_type": "code",
   "execution_count": 87,
   "metadata": {},
   "outputs": [
    {
     "name": "stdout",
     "output_type": "stream",
     "text": [
      "Su entrada es gratis! Disfruta\n"
     ]
    }
   ],
   "source": [
    "#11. Escribe un programa para una empresa que tiene salas de juegos para todas las edades y quiere calcular de forma automática el precio que debe cobrar a sus clientes por entrar. El programa debe preguntar al usuario:\n",
    "    # - La edad del cliente. \n",
    "    # - Las condiciones que tendremos que chequear: \n",
    "    #   - Si el cliente es menor de 4 años puede entrar gratis, \n",
    "    #   - Si tiene entre 4 y 18 años debe pagar 5€ y \n",
    "    #   - Si es mayor de 18 años, 10€.\n",
    "edad = int(input(\"Por favor, estimado cliente, introduzca su edad:  \"))\n",
    "\n",
    "if edad < 4:\n",
    "  precio = 0\n",
    "  print(\"Su entrada es gratis! Disfruta\")\n",
    "elif edad <= 18:\n",
    "  precio = 5\n",
    "  print(\"Su entrada tien un valor de 5 euros\")\n",
    "else:\n",
    "  print(\"El precio de la entrada es: 10 euros\")"
   ]
  },
  {
   "cell_type": "code",
   "execution_count": 88,
   "metadata": {},
   "outputs": [
    {
     "name": "stdout",
     "output_type": "stream",
     "text": [
      "Ahorros: 5\n",
      "Ahorros: 10\n",
      "Ahorros: 15\n",
      "Ahorros: 20\n"
     ]
    }
   ],
   "source": [
    "#12. Inicia la varible `ahorros` con un valor de `5`. Crea un bucle while que mientras los ahorros sean igual o menor que `20` imprima por pantalla la cantidad de ahorros que tenemos, y añádele `5` más. Cuando la variable ahorros supere el valor de 20 el bucle deberá parar. \n",
    "ahorros = 5\n",
    "\n",
    "while ahorros <= 20:\n",
    "    print(\"Ahorros:\", ahorros)\n",
    "    ahorros += 5"
   ]
  },
  {
   "cell_type": "code",
   "execution_count": 89,
   "metadata": {},
   "outputs": [
    {
     "name": "stdout",
     "output_type": "stream",
     "text": [
      "La temperatura en Fahrenheit es: 59.0\n"
     ]
    }
   ],
   "source": [
    "#13. Escribe un programa que convierta grados Celsius a grados Fahrenheit o viceversa, según la elección del usuario. Para eso tendrás que preguntar: \n",
    "#   - Desde que unidades va a convertir la temperatura, Celsius o Fahrenheit. \n",
    "#   - Cuál es valor de la temperatura que quiere convertir. \n",
    "\n",
    "unidad = input(\"¿Desde que unidades vas a convertir la temperatura, Celsius o Fahrenheit?\")\n",
    "temperatura_cf = float(input(\"Introduce el valor de la temperatura que quieres convertir: \"))\n",
    "\n",
    "if unidad.lower() == 'celsius':\n",
    "    fahrenheit = (temperatura_cf * 9/5) + 32\n",
    "    print('La temperatura en Fahrenheit es:', fahrenheit)\n",
    "elif unidad.lower() == 'fahrenheit':\n",
    "    celsius = (temperatura_cf - 32) * 5/9\n",
    "    print('La temperatura en Celsius es:', celsius)\n",
    "else:\n",
    "    print('Unidad no reconocida.')\n"
   ]
  },
  {
   "cell_type": "code",
   "execution_count": 90,
   "metadata": {},
   "outputs": [
    {
     "name": "stdout",
     "output_type": "stream",
     "text": [
      "El impuesto sobre la renta es: 121.2\n"
     ]
    }
   ],
   "source": [
    "#14.  Crea un programa que calcule el impuesto sobre la renta de una persona basado en su ingreso anual y su estado civil (soltero o casado). Para eso deberás: \n",
    "#   - Solicitar al usuario su ingreso anual.\n",
    "#   - Preguntar al usuario su estado civil, permitiendo dos opciones: \"soltero\" (S) o \"casado\" (C).\n",
    "#   - Calcular el impuesto sobre la renta utilizando las siguientes reglas:\n",
    "#     - Si el estado civil es \"soltero\" (S):\n",
    "#       - Si el ingreso anual es menor o igual a $9,875, el impuesto es el 10% del ingreso anual.\n",
    "#       - Si el ingreso anual está entre $9,876 y $40,125, el impuesto es el 10% de los primeros $9,875 más el 12% de la cantidad que excede los $9,875.\n",
    "#          - Si el estado civil es \"casado\" (C):\n",
    "#           - Si el ingreso anual es menor o igual a $19,850, el impuesto es el 10% del ingreso anual.\n",
    "#       - Si el ingreso anual está entre $19,851 y $80,250, el impuesto es el 10% de los primeros $19,850 más el 12% de la cantidad que excede los $19,850.\n",
    "\n",
    "ingreso_anual = float(input('Por favor, introduce tu ingreso anual: '))\n",
    "estado_civil = input('¿Cuál es tu estado civil? (Soltero/S o Casado/C): ').lower()\n",
    "\n",
    "if estado_civil == 's':\n",
    "    if ingreso_anual <= 9875:\n",
    "        impuesto = ingreso_anual * 0.10\n",
    "    else:\n",
    "        impuesto = 987.50 + (ingreso_anual - 9875) * 0.12\n",
    "elif estado_civil == 'c':\n",
    "    if ingreso_anual <= 19850:\n",
    "        impuesto = ingreso_anual * 0.10\n",
    "    else:\n",
    "        impuesto = 1985 + (ingreso_anual - 19850) * 0.12\n",
    "else:\n",
    "    print('Estado civil no reconocido.')\n",
    "    impuesto = 0  # Si el estado civil no es reconocido, no se aplica impuesto\n",
    "print('El impuesto sobre la renta es:', impuesto)"
   ]
  },
  {
   "cell_type": "code",
   "execution_count": 91,
   "metadata": {},
   "outputs": [
    {
     "name": "stdout",
     "output_type": "stream",
     "text": [
      "La calidad del aire es: Aceptable\n"
     ]
    }
   ],
   "source": [
    "# 15. Crea un programa que evalúe el nivel de contaminación del aire en función de la concentración de partículas en suspensión (PM2.5) en microgramos por metro cúbico (µg/m³). Para eso deberás: \n",
    "#   - Solicita al usuario que ingrese la concentración de PM2.5 en el aire en µg/m³. El usuario debe ingresar un valor numérico.\n",
    "#   - Evalua el nivel de contaminación del aire según la siguiente escala:\n",
    "#     - Si la concentración de PM2.5 es menor o igual a 12 µg/m³, el aire se considera \"Excelente\".\n",
    "#     - Si la concentración de PM2.5 está entre 13 µg/m³ y 35 µg/m³, el aire se considera \"Bueno\".\n",
    "#     - Si la concentración de PM2.5 está entre 36 µg/m³ y 55 µg/m³, el aire se considera \"Aceptable\".\n",
    "#     - Si la concentración de PM2.5 está entre 56 µg/m³ y 150 µg/m³, el aire se considera \"No Saludable para Grupos Sensibles\".\n",
    "#     - Si la concentración de PM2.5 es mayor a 150 µg/m³, el aire se considera \"No Saludable\".\n",
    "#   - Muestra un mensaje indicando el estado de la calidad del aire. Por ejemplo, si la concentración de PM2.5 es 25 µg/m³, el programa debe mostrar: \"La calidad del aire es Buena\".\n",
    "#   -  Además, si la concentración de PM2.5 está en la categoría \"No Saludable para Grupos Sensibles\" o \"No Saludable\", el programa debe advertir al usuario sobre los posibles efectos en la salud.\n",
    "#   - Si la concentración ingresada por el usuario es negativa o no es un número válido, el programa debe mostrar un mensaje de error.\n",
    "\n",
    "pm25 = float(input('Ingrese la concentración de PM2.5 en el aire en µg/m³: '))\n",
    "\n",
    "if pm25 <= 12:\n",
    "    calidad_aire = 'Excelente'\n",
    "elif pm25 <= 35:\n",
    "    calidad_aire = 'Bueno'\n",
    "elif pm25 <= 55:\n",
    "    calidad_aire = 'Aceptable'\n",
    "elif pm25 <= 150:\n",
    "    calidad_aire = 'No Saludable para Grupos Sensibles'\n",
    "else:\n",
    "    calidad_aire = 'No Saludable'\n",
    "print('La calidad del aire es:', calidad_aire)"
   ]
  },
  {
   "cell_type": "markdown",
   "metadata": {},
   "source": [
    "# Ejercicios SENTENCIAS DE CONTROL (BUCLE FOR)"
   ]
  },
  {
   "cell_type": "code",
   "execution_count": 93,
   "metadata": {},
   "outputs": [
    {
     "name": "stdout",
     "output_type": "stream",
     "text": [
      "Temperaturas bajas: [2]\n",
      "Temperaturas altas: [45]\n",
      "Temperaturas altas: [45, 67]\n",
      "Temperaturas altas: [45, 67, 23]\n",
      "Temperaturas altas: [45, 67, 23, 45]\n",
      "Temperaturas altas: [45, 67, 23, 45, 66]\n",
      "Temperaturas medias: [12]\n",
      "Temperaturas bajas: [2, 1]\n",
      "Temperaturas altas: [45, 67, 23, 45, 66, 34]\n",
      "Temperaturas altas: [45, 67, 23, 45, 66, 34, 67]\n",
      "Temperaturas altas: [45, 67, 23, 45, 66, 34, 67, 99]\n",
      "Temperaturas altas: [45, 67, 23, 45, 66, 34, 67, 99, 98]\n",
      "Temperaturas altas: [45, 67, 23, 45, 66, 34, 67, 99, 98, 67]\n",
      "Temperaturas altas: [45, 67, 23, 45, 66, 34, 67, 99, 98, 67, 64]\n",
      "Temperaturas altas: [45, 67, 23, 45, 66, 34, 67, 99, 98, 67, 64, 44]\n",
      "Temperaturas altas: [45, 67, 23, 45, 66, 34, 67, 99, 98, 67, 64, 44, 100]\n"
     ]
    }
   ],
   "source": [
    "# 1. Usando la siguiente lista:  ```python     temperaturas = [2,45,67,23, 45,66,12,1,34,67,99,98,67,64, 44, 100] ```\n",
    "#     Crea tres listas nuevas, donde: \n",
    "#     - En la primera tengamos temperaturas entre 0 - 10, llama a la nueva lista `bajas_temp`.\n",
    "\n",
    "#     - En la segunda tengamos temperaturas entre 11- 20, llama a la nueva lista `medias_temp`.\n",
    "\n",
    "#     - En la tercera tengamos temperaturas por encima de 20, llama a la nueva lista `altas_temp`\n",
    "\n",
    "temperaturas_bucle = [2,45,67,23, 45,66,12,1,34,67,99,98,67,64, 44, 100]\n",
    "\n",
    "# Crear listas para temperaturas bajas, medias y altas\n",
    "bajas_temp = []\n",
    "medias_temp = []\n",
    "altas_temp = []\n",
    "\n",
    "# Iterar sobre las temperaturas y agregarlas a las listas correspondientes\n",
    "for temp in temperaturas_bucle:\n",
    "    if temp >= 0 and temp <= 10:\n",
    "        bajas_temp.append(temp)\n",
    "        print(\"Temperaturas bajas:\", bajas_temp)\n",
    "    elif temp >= 11 and temp <= 20:\n",
    "        medias_temp.append(temp)\n",
    "        print(\"Temperaturas medias:\", medias_temp)\n",
    "    elif temp > 20:\n",
    "        altas_temp.append(temp)\n",
    "        print(\"Temperaturas altas:\", altas_temp)   "
   ]
  },
  {
   "cell_type": "code",
   "execution_count": 95,
   "metadata": {},
   "outputs": [
    {
     "name": "stdout",
     "output_type": "stream",
     "text": [
      "Temperaturas bajas en grados Fahrenheit: [35.6, 33.8]\n",
      "Temperaturas medias en grados Fahrenheit: [53.6]\n",
      "Temperaturas altas en grados Fahrenheit: [113.0, 152.6, 73.4, 113.0, 150.8, 93.2, 152.6, 210.2, 208.4, 152.6, 147.2, 111.2, 212.0]\n"
     ]
    }
   ],
   "source": [
    "  \n",
    "# 2. Las temperaturas están grados centígrados. Para cada una de las listas creadas en el ejercicio anterior, convertid las temperaturas a grados fahrenheit: ```     # la relacion de grados celsius y fahrenheit es:     (0 °C × 9 / 5) + 32 = 32 °F     ```\n",
    "bajas_temp_fahrenheit = [(temp * 9/5) + 32 for temp in bajas_temp]\n",
    "print(\"Temperaturas bajas en grados Fahrenheit:\", bajas_temp_fahrenheit)\n",
    "\n",
    "\n",
    "medias_temp_fahrenheit = [(temp * 9/5) + 32 for temp in medias_temp]\n",
    "print(\"Temperaturas medias en grados Fahrenheit:\", medias_temp_fahrenheit)\n",
    "\n",
    "altas_temp_fahrenheit = [(temp * 9/5) + 32 for temp in altas_temp]\n",
    "print(\"Temperaturas altas en grados Fahrenheit:\", altas_temp_fahrenheit)\n",
    "\n",
    "\n",
    "# 3. Define e imprime un rango de 0 a 6 (excluido).\n",
    "rango_0_a_6 = list(range(0, 6))\n",
    "print(rango_0_a_6)\n",
    "  \n",
    "# 4. Define e imprime un rango de 3 a 6 ambos incluidos.\n",
    "rango_3_a_6_incluidos = list(range(3, 7))\n",
    "print(rango_3_a_6_incluidos)\n",
    "  \n",
    "# 5. Define e imprime un rango de 5 a 9 ambos excluidos.\n",
    "rango_5_a_9_excluidos = list(range(6, 9))\n",
    "print(rango_5_a_9_excluidos)\n",
    "\n",
    "# 6. Define e imprime un rango de 3 números que empiece en 2.\n",
    "rango_3_numeros_iniciando_en_2 = list(range(2, 5))\n",
    "print(rango_3_numeros_iniciando_en_2)\n",
    "\n",
    "# 7. Define e imprime un rango que empiece en 2, aumentando cada paso por 3, que pare antes de llegar al número 13.\n",
    "rango_con_paso_3_hasta_13 = list(range(2, 13, 3))\n",
    "print(rango_con_paso_3_hasta_13)\n",
    "# 8. Define e imprime un rango con todos los valores impares que hay hasta 10.\n",
    "rango_impares_hasta_10 = list(range(1, 10, 2))\n",
    "print(rango_impares_hasta_10)\n"
   ]
  },
  {
   "cell_type": "code",
   "execution_count": 104,
   "metadata": {},
   "outputs": [
    {
     "name": "stdout",
     "output_type": "stream",
     "text": [
      "Nueva lista con los numeros elevados: [4, 2025, 4489, 529, 2025, 4356, 144, 1, 1156, 4489, 9801, 9604, 4489, 4096, 1936, 10000]\n",
      "Nueva lista con el resto de la division: [0, 1, 1, 1, 1, 0, 0, 1, 0, 1, 1, 0, 1, 0, 0, 0]\n",
      "Nueva lista con solo elemntos pares: [2, 66, 12, 34, 98, 64, 44, 100]\n",
      "Nueva lista con solo los elementos menores de 50: [2, 45, 23, 45, 12, 1, 34, 44]\n",
      "Nueva lista con valores par e impar: ['par', 'impar', 'impar', 'impar', 'impar', 'par', 'par', 'impar', 'par', 'impar', 'impar', 'par', 'impar', 'par', 'par', 'par']\n"
     ]
    }
   ],
   "source": [
    "# 9. Crea una lista nueva donde tengamos los números de la lista `temperaturas` elevados al cuadrado.\n",
    "temperaturas_cuadrado = [temp ** 2 for temp in temperaturas_bucle]\n",
    "print(\"Nueva lista con los numeros elevados:\", temperaturas_cuadrado)\n",
    "\n",
    "# 10. Crea una lista nueva donde tengamos el resto de la división de cada uno de los números entre 2.\n",
    "resto_division = [temp % 2 for temp in temperaturas_bucle]\n",
    "print(\"Nueva lista con el resto de la division:\", resto_division)\n",
    "\n",
    "# 11. Crea una lista nueva donde tengamos solo los elementos pares de la lista `temperaturas`. \n",
    "numeros_pares = [temp for temp in temperaturas_bucle if temp % 2 == 0]\n",
    "print(\"Nueva lista con solo elemntos pares:\", numeros_pares)\n",
    "\n",
    "# 12. Crea una lista nueva donde tengamos solo los elementos que sean menores que 50. \n",
    "numeros_menores_50 = [temp for temp in temperaturas_bucle if temp < 50]\n",
    "print(\"Nueva lista con solo los elementos menores de 50:\", numeros_menores_50)\n",
    "\n",
    "# 13. Crea una lista donde tengamos los valores \"par\" e \"impar\" en función de los valores de la lista original. La lista resultante tiene que ser como la que indicamos a continuación:  ```python  lista_strings = [\"par\",\"impar\",\"impar\",\"impar\", \"impar\",\"par\",\"par\",\"impar\",\"par\",\"impar\",\"impar\",\"par\",\"impar\",\"par\", \"par\", \"par\"] ```\n",
    "resultado = [\"par\" if temp % 2 == 0 else \"impar\" for temp in temperaturas_bucle]\n",
    "print(\"Nueva lista con valores par e impar:\", resultado)"
   ]
  },
  {
   "cell_type": "code",
   "execution_count": 112,
   "metadata": {},
   "outputs": [
    {
     "name": "stdout",
     "output_type": "stream",
     "text": [
      "Suma de pares hasta 120 es 3660\n",
      "Suma de impares hasta 120 es 3600\n"
     ]
    }
   ],
   "source": [
    "# 14. Pide al usuario un número entero positivo y suma los números pares e impares por separado hasta ese número.\n",
    "numero_entero_positivo = int(input(\"Ingrese un número entero positivo: \"))\n",
    "\n",
    "suma_pares1 = sum(num for num in range(numero_entero_positivo + 1) if num % 2 == 0)\n",
    "suma_impares1 = sum(num for num in range(numero_entero_positivo + 1) if num % 2 != 0)\n",
    "\n",
    "print(\"Suma de pares hasta\", numero_entero_positivo, \"es\", suma_pares1)\n",
    "print(\"Suma de impares hasta\", numero_entero_positivo, \"es\", suma_impares1)"
   ]
  },
  {
   "cell_type": "code",
   "execution_count": 116,
   "metadata": {},
   "outputs": [
    {
     "name": "stdout",
     "output_type": "stream",
     "text": [
      "Diego es un dinosaurio\n",
      "La vocal a aparece 1 veces en la cadena.\n",
      "La vocal e aparece 2 veces en la cadena.\n",
      "La vocal i aparece 3 veces en la cadena.\n",
      "La vocal o aparece 3 veces en la cadena.\n",
      "La vocal u aparece 2 veces en la cadena.\n"
     ]
    }
   ],
   "source": [
    "# 15. Pide al usuario ingresar una cadena y cuenta cuántas veces aparece cada vocal (a, e, i, o, u) en la cadena.\n",
    "cadena1 = input(\"Ingrese una cadena de texto: \")\n",
    "print(cadena1)\n",
    "vocales = {'a': 0, 'e': 0, 'i': 0, 'o': 0, 'u': 0}\n",
    "\n",
    "for letra in cadena1:\n",
    "    if letra.lower() in vocales:\n",
    "        vocales[letra.lower()] += 1\n",
    "for vocal, cantidad in vocales.items():\n",
    "    print(f\"La vocal {vocal} aparece {cantidad} veces en la cadena.\")"
   ]
  },
  {
   "cell_type": "markdown",
   "metadata": {},
   "source": [
    "# Ejercicios ESTRUCTURAS DE CONTROL"
   ]
  },
  {
   "cell_type": "code",
   "execution_count": null,
   "metadata": {},
   "outputs": [
    {
     "name": "stdout",
     "output_type": "stream",
     "text": [
      "y\n",
      "t\n",
      "h\n",
      "o\n",
      "n\n"
     ]
    }
   ],
   "source": [
    "#1. Crea una variable que sea igual a \"Python\" y genera un código que nos printee todas las letras menos la \"P\" usando la sentencia `continue`.\n",
    "palabra = \"Python\"\n",
    "for letra in palabra:\n",
    "    if letra == \"P\":\n",
    "        continue\n",
    "    print(letra)"
   ]
  },
  {
   "cell_type": "code",
   "execution_count": null,
   "metadata": {},
   "outputs": [
    {
     "name": "stdout",
     "output_type": "stream",
     "text": [
      "H\n",
      "e\n",
      "o\n"
     ]
    }
   ],
   "source": [
    "#2. De la frase `'Hello'` imprime todas las letras que no sean una `'l'` usando `if`.\n",
    "frase = \"Hello\"\n",
    "for letra in frase:\n",
    "    if letra != \"l\":\n",
    "        print(letra)"
   ]
  },
  {
   "cell_type": "code",
   "execution_count": null,
   "metadata": {},
   "outputs": [
    {
     "name": "stdout",
     "output_type": "stream",
     "text": [
      "l\n",
      "l\n"
     ]
    }
   ],
   "source": [
    "#3. Haz lo mismo que en 2 usando `continue`.\n",
    "frase = \"Hello\"\n",
    "for letra in frase:\n",
    "    if letra != \"l\":\n",
    "        continue\n",
    "    print(letra)"
   ]
  },
  {
   "cell_type": "code",
   "execution_count": null,
   "metadata": {},
   "outputs": [
    {
     "name": "stdout",
     "output_type": "stream",
     "text": [
      "H\n",
      "e\n",
      "l\n",
      "l\n"
     ]
    }
   ],
   "source": [
    "#4. De la frase `'Hello'` imprime todas las letras parando el bucle si encuentras una `'o'`.\n",
    "frase = \"Hello\"\n",
    "for letra in frase:\n",
    "    if letra == \"o\":\n",
    "        continue\n",
    "    print(letra)"
   ]
  },
  {
   "cell_type": "code",
   "execution_count": null,
   "metadata": {},
   "outputs": [
    {
     "name": "stdout",
     "output_type": "stream",
     "text": [
      "18\n",
      "¡Un error!\n"
     ]
    }
   ],
   "source": [
    "#5. Define  la variable `doce = '12'` y `seis = 6`. Intenta sumarlos. En el caso de que te salga un error imprime `'¡Un error!'`. Para eso usa un `try` ... `except`\n",
    "doce = \"12\"\n",
    "seis = 6\n",
    "\n",
    "try:\n",
    "    resultado = int(doce) + seis\n",
    "    print(resultado)\n",
    "except: ValueError\n",
    "print(\"¡Un error!\")"
   ]
  },
  {
   "cell_type": "code",
   "execution_count": null,
   "metadata": {},
   "outputs": [
    {
     "name": "stdout",
     "output_type": "stream",
     "text": [
      "18\n"
     ]
    }
   ],
   "source": [
    "#6. Basándonos en el ejercicio anterior, sin usar un `try` ... `except`, ¿cómo podríamos solucionar el problema? \n",
    "doce = \"12\"\n",
    "seis = 6\n",
    "\n",
    "if doce.isdigit():\n",
    "    resultado = int(doce) + seis\n",
    "    print(resultado)\n",
    "else:\n",
    "    print(\"¡Un error!\")"
   ]
  },
  {
   "cell_type": "code",
   "execution_count": 120,
   "metadata": {},
   "outputs": [
    {
     "name": "stdout",
     "output_type": "stream",
     "text": [
      "La suma de los números pares ingresados es: 6\n"
     ]
    }
   ],
   "source": [
    "#7. Solicita al usuario ingresar números enteros positivos hasta que ingrese un número negativo. Luego, muestra la suma de todos los números pares ingresados.\n",
    "suma_pares20 = 0\n",
    "\n",
    "while True:\n",
    "    numero = int(input(\"Ingresa un número entero positivo (ingresa un número negativo para salir): \"))\n",
    "    if numero < 0:\n",
    "        break\n",
    "    if numero % 2 == 0:\n",
    "        suma_pares20 += numero\n",
    "    break\n",
    "\n",
    "print(\"La suma de los números pares ingresados es:\", suma_pares20)\n"
   ]
  },
  {
   "cell_type": "code",
   "execution_count": 121,
   "metadata": {},
   "outputs": [
    {
     "name": "stdout",
     "output_type": "stream",
     "text": [
      "El resultado de dividir el primer número por el segundo es: 0.5\n"
     ]
    }
   ],
   "source": [
    "#8. Solicita al usuario ingresar dos números y muestra el resultado de dividir el primero por el segundo. Asegúrate de manejar la excepción si el segundo número es cero.\n",
    "try:\n",
    "    numero1 = float(input(\"Ingresa el primer número: \"))\n",
    "    numero2 = float(input(\"Ingresa el segundo número: \"))\n",
    "\n",
    "    if numero2 == 0:\n",
    "        raise ZeroDivisionError(\"No se puede dividir entre cero.\")\n",
    "    \n",
    "    resultado = numero1 / numero2\n",
    "    print(\"El resultado de dividir el primer número por el segundo es:\", resultado)\n",
    "\n",
    "except ValueError:\n",
    "    print(\"Por favor, ingresa solo números.\")\n",
    "except ZeroDivisionError as e:\n",
    "    print(e)"
   ]
  },
  {
   "cell_type": "code",
   "execution_count": 122,
   "metadata": {},
   "outputs": [
    {
     "name": "stdout",
     "output_type": "stream",
     "text": [
      "La raíz cuadrada de 8.0 es: 2.8284271247461903\n"
     ]
    }
   ],
   "source": [
    "#9. Solicita al usuario ingresar un número y muestra su raíz cuadrada. Maneja la excepción si el número es negativo.\n",
    "import math\n",
    "\n",
    "try:\n",
    "    numero = float(input(\"Ingresa un número: \"))\n",
    "    \n",
    "    if numero < 0:\n",
    "        raise ValueError(\"No se puede calcular la raíz cuadrada de un número negativo.\")\n",
    "    \n",
    "    raiz_cuadrada = math.sqrt(numero)\n",
    "    print(\"La raíz cuadrada de\", numero, \"es:\", raiz_cuadrada)\n",
    "\n",
    "except ValueError as e:\n",
    "    print(e)\n"
   ]
  },
  {
   "cell_type": "code",
   "execution_count": 123,
   "metadata": {},
   "outputs": [
    {
     "name": "stdout",
     "output_type": "stream",
     "text": [
      "El elemento en el índice 2 es: 3\n"
     ]
    }
   ],
   "source": [
    "#10. Crea una lista de números y solicita al usuario ingresar un índice para acceder a un elemento de la lista. Maneja la excepción si el índice está fuera de rango.\n",
    "lista_numeros3 = [1, 2, 3, 4, 5]\n",
    "\n",
    "try:\n",
    "    indice = int(input(\"Ingresa un índice para acceder a un elemento de la lista: \"))\n",
    "    \n",
    "    elemento = lista_numeros3[indice]\n",
    "    print(\"El elemento en el índice\", indice, \"es:\", elemento)\n",
    "\n",
    "except IndexError:\n",
    "    print(\"El índice está fuera de rango. Por favor, ingresa un índice válido.\")\n",
    "except ValueError:\n",
    "    print(\"Por favor, ingresa un número entero como índice.\")\n",
    "\n"
   ]
  },
  {
   "cell_type": "markdown",
   "metadata": {},
   "source": [
    "# Ejercicios FUNCIONES INTRO"
   ]
  },
  {
   "cell_type": "code",
   "execution_count": null,
   "metadata": {},
   "outputs": [
    {
     "name": "stdout",
     "output_type": "stream",
     "text": [
      "{'h': 1}\n"
     ]
    }
   ],
   "source": [
    "#1. Escribe una función que reciba una cadena de texto como parámetro y devuelva un diccionario con las frecuencias de cada letra en la cadena. Los espacios no deben ser considerados. \n",
    "def frecuencia_letras(cadena):\n",
    "    frecuencias = {}\n",
    "    for letra in cadena:\n",
    "        frecuencias[letra] = frecuencias.get(letra, 0) + 1\n",
    "        return frecuencias\n",
    "print(frecuencia_letras(\"hola mundo\"))"
   ]
  },
  {
   "cell_type": "code",
   "execution_count": null,
   "metadata": {},
   "outputs": [],
   "source": [
    "frase = \"Buenos dias Adalabers\"\n",
    "\n",
    "diccionario_letras = {}\n",
    "frase_minus = frase.lower()\n",
    "for letra in frase_minus:\n",
    "    if letra != \" \":\n",
    "        diccionario_letras[letra] = frase_minus.count(letra)"
   ]
  },
  {
   "cell_type": "code",
   "execution_count": null,
   "metadata": {},
   "outputs": [],
   "source": [
    "def contar(string):\n",
    "    \n",
    "    dict_letras = {}\n",
    "    \n",
    "    frase_minus = string.lower()\n",
    "    \n",
    "    for letra in frase_minus:\n",
    "        if letra != \" \":\n",
    "            dict_letras[letra] = frase_minus.count(letra)\n",
    "            \n",
    "    return dict_letras\n",
    "    \n"
   ]
  },
  {
   "cell_type": "code",
   "execution_count": 125,
   "metadata": {},
   "outputs": [
    {
     "name": "stdout",
     "output_type": "stream",
     "text": [
      "Estudiar\n"
     ]
    }
   ],
   "source": [
    "#2. Escribe una función que reciba una cadena de texto como parámetro y devuelva una lista con todas las palabras que tienen más de 5 letras.\n",
    "def palabras_mas_5letras(cadena):\n",
    "    palabras = cadena.split()\n",
    "    \n",
    "    for palabra in palabras:\n",
    "        if len(palabra) > 5:\n",
    "            return palabra\n",
    "print(palabras_mas_5letras(\"Estudiar es genial\"))\n"
   ]
  },
  {
   "cell_type": "code",
   "execution_count": 126,
   "metadata": {},
   "outputs": [
    {
     "name": "stdout",
     "output_type": "stream",
     "text": [
      "['vaca']\n"
     ]
    }
   ],
   "source": [
    "#3. Crea una función que tome una lista de palabras como entrada y devuelva una lista de palabras que contengan más de una vocal.\n",
    "def palabra_mas_unavocal(lista_palabras):\n",
    "    vocales = [\"a\", \"e\", \"i\", \"o\", \"u\"]\n",
    "    for palabra in lista_palabras:\n",
    "        if sum(1 for letra in palabra if letra.lower() in \"aeiou\") >1:\n",
    "        \n",
    "            return [palabra]\n",
    "print(palabra_mas_unavocal([\"vaca\", \"gato\", \"perro\", \"animales\", \"no\", \"si\", \"pato\"]))"
   ]
  },
  {
   "cell_type": "code",
   "execution_count": 128,
   "metadata": {},
   "outputs": [
    {
     "name": "stdout",
     "output_type": "stream",
     "text": [
      "La suma de los números pares en la lista es: 30\n"
     ]
    }
   ],
   "source": [
    "#4. Crea una función que tome una lista de números y calcule la suma de todos los números pares en la lista.\n",
    "def suma_numeros_pares(lista):\n",
    "    suma = 0\n",
    "    for numero22 in lista:\n",
    "        if numero22 % 2 ==0:\n",
    "            suma += numero22\n",
    "    return suma\n",
    "\n",
    "numeros = [1, 2, 3, 4, 5, 6, 7, 8, 9, 10]\n",
    "print(\"La suma de los números pares en la lista es:\", suma_numeros_pares(numeros))\n",
    "    "
   ]
  },
  {
   "cell_type": "code",
   "execution_count": 131,
   "metadata": {},
   "outputs": [
    {
     "name": "stdout",
     "output_type": "stream",
     "text": [
      "Promedio de la lista: 3.0\n"
     ]
    }
   ],
   "source": [
    "#5. Escribe una función que tome una lista de números como entrada y calcule el promedio de esos números.\n",
    "def calcular_promedio(numeros):\n",
    "    if not numeros:\n",
    "        return 0\n",
    "    return sum(numeros)/len(numeros)\n",
    "numeros = [1, 2, 3, 4, 5]\n",
    "print(\"Promedio de la lista:\", calcular_promedio(numeros))"
   ]
  },
  {
   "cell_type": "code",
   "execution_count": 132,
   "metadata": {},
   "outputs": [
    {
     "name": "stdout",
     "output_type": "stream",
     "text": [
      "Próximo año sin repeticiones: 1997\n"
     ]
    }
   ],
   "source": [
    "#6. Crea una función que determine el próximo año en el que las cifras del año de tu cumpleaños no se repitan. La función toma un año de tu cumpleaños como entrada y calcula el próximo año en el que las cifras no se repitan, es decir, todas las cifras en el año son diferentes entre sí.\n",
    "def proximo_año_sin_repetir(año_cumpleaños):\n",
    "    año_cumpleaños += 1\n",
    "    while len(set(str(año_cumpleaños))) < 4:\n",
    "        año_cumpleaños += 1\n",
    "        return año_cumpleaños\n",
    "    \n",
    "año_cumpleaños = 1995\n",
    "print(\"Próximo año sin repeticiones:\", proximo_año_sin_repetir(año_cumpleaños))"
   ]
  },
  {
   "cell_type": "code",
   "execution_count": 134,
   "metadata": {},
   "outputs": [
    {
     "name": "stdout",
     "output_type": "stream",
     "text": [
      "Con estos ingredientes solo puedo hacer 2 bizcochos.\n"
     ]
    }
   ],
   "source": [
    "# #7. Crea una función que determine cuántos pasteles puedes hornear según una receta y los ingredientes disponibles. La función toma dos diccionarios como entrada: receta, que contiene los ingredientes necesarios para un pastel, y disponible, que contiene la cantidad disponible de cada ingrediente. Sus parámetros de entrada son: \n",
    "\n",
    "#     - receta: Un diccionario que representa los ingredientes necesarios para un pastel, donde las claves son los nombres de los ingredientes y los valores son las cantidades necesarias de cada ingrediente.\n",
    "\n",
    "#     - disponible: Un diccionario que representa la cantidad disponible de cada ingrediente, donde las claves son los nombres de los ingredientes y los valores son las cantidades disponibles.\n",
    "\n",
    "#     ```receta1 = {'flour': 500, 'sugar': 200, 'eggs': 1}       ingredientes1 = {'flour': 1200, 'sugar': 1200, 'eggs': 5, 'milk': 200}  pasteles(receta1, ingredientes1)     # output: con estos ingredientes solo puedo hacer 2 bizcochos ```\n",
    "\n",
    "receta1 = {'harina': 500, 'azúcar': 200, 'huevos': 1}\n",
    "ingredientes1 = {'harina': 1200, 'azúcar': 1200, 'huevos': 5, 'leche': 200}\n",
    "\n",
    "def pasteles(receta, disponible):\n",
    "    maximo = float('inf')\n",
    "    for ingrediente, cantidad in receta.items():\n",
    "        if ingrediente not in disponible:\n",
    "            return \"No tienes todos los ingredientes necesarios.\"\n",
    "        maximo = min(maximo, disponible[ingrediente] // cantidad)\n",
    "    return f\"Con estos ingredientes solo puedo hacer {maximo} bizcochos.\"\n",
    "\n",
    "print(pasteles(receta1, ingredientes1))\n"
   ]
  },
  {
   "cell_type": "code",
   "execution_count": 135,
   "metadata": {},
   "outputs": [
    {
     "name": "stdout",
     "output_type": "stream",
     "text": [
      "Los primeros 10 números de la serie Fibonacci son: [0, 1, 1, 2, 3, 5, 8, 13, 21, 34]\n"
     ]
    }
   ],
   "source": [
    "# BONUS:  8. Crea una función llamada fibonacci que tome un número n como argumento y devuelva una lista con los primeros n números de la serie Fibonacci.\n",
    "\n",
    "n = 10\n",
    "def fibonacci(n):\n",
    "    if n <= 0:\n",
    "        return []\n",
    "    elif n == 1:\n",
    "        return [0]\n",
    "    elif n == 2:\n",
    "        return [0, 1]\n",
    "    else:\n",
    "        fib = [0, 1]\n",
    "        a, b = 0, 1\n",
    "        for i in range(2, n):\n",
    "            a, b = b, a + b\n",
    "            fib.append(b)\n",
    "        return fib\n",
    "\n",
    "print(\"Los primeros\", n, \"números de la serie Fibonacci son:\", fibonacci(n))"
   ]
  },
  {
   "cell_type": "markdown",
   "metadata": {},
   "source": [
    "\n",
    "# Ejercicios FUNCIONES - argumentos"
   ]
  },
  {
   "cell_type": "code",
   "execution_count": 136,
   "metadata": {},
   "outputs": [
    {
     "name": "stdout",
     "output_type": "stream",
     "text": [
      "Hola , que tal tu dia ?\n"
     ]
    }
   ],
   "source": [
    "# 1. Crea una función que tome un número arbitrario de cadenas de texto como argumentos y devuelva una cadena de texto que sea la concatenación de todas ellas. \n",
    "def concatenar_cadenas(*args):\n",
    "    return \" \".join(args)\n",
    "\n",
    "print(concatenar_cadenas(\"Hola\", \",\", \"que\", \"tal\", \"tu\", \"dia\", \"?\"))"
   ]
  },
  {
   "cell_type": "code",
   "execution_count": 137,
   "metadata": {},
   "outputs": [
    {
     "name": "stdout",
     "output_type": "stream",
     "text": [
      "60\n"
     ]
    }
   ],
   "source": [
    "# 2. Crea una función que tome un número arbitrario de argumentos y devuelva el producto de todos ellos.\n",
    "def producto_argumentos(*args):\n",
    "    producto = 1\n",
    "    for numm in args:\n",
    "        producto *= numm\n",
    "    return producto\n",
    "\n",
    "print(producto_argumentos(3, 4, 5))"
   ]
  },
  {
   "cell_type": "code",
   "execution_count": 139,
   "metadata": {},
   "outputs": [
    {
     "name": "stdout",
     "output_type": "stream",
     "text": [
      "5\n"
     ]
    }
   ],
   "source": [
    "# 3. Crea una función que tome un número arbitrario de diccionarios como argumentos y devuelva el valor mínimo entre todos los valores de los diccionarios.\n",
    "diccionario1 = {'a': 10, 'b': 20, 'c': 30}\n",
    "diccionario2 = {'x': 5, 'y': 15, 'z': 25}\n",
    "\n",
    "def valor_minimo_dicc(*args):\n",
    "    valores = [min(diccionariox.values()) for diccionariox in args]\n",
    "    return min(valores)\n",
    "\n",
    "print(valor_minimo_dicc(diccionario1, diccionario2))"
   ]
  },
  {
   "cell_type": "code",
   "execution_count": 142,
   "metadata": {},
   "outputs": [
    {
     "name": "stdout",
     "output_type": "stream",
     "text": [
      "{0: 1, 1: 2, 2: 3}\n"
     ]
    }
   ],
   "source": [
    "# 4. Crea una función que tome un número arbitrario de listas y devuelva un diccionario donde las listas originales se combinan usando los índices como claves.\n",
    "lista111 = ['a', 'b', 'c']\n",
    "lista222 = [1, 2, 3]\n",
    "def combinar_listas_dicc(*args):\n",
    "    combinacion = {}\n",
    "\n",
    "    for lista in args:\n",
    "        for indice, valor in enumerate(lista):\n",
    "            combinacion[indice] = valor\n",
    "        \n",
    "    return combinacion\n",
    "\n",
    "print(combinar_listas_dicc(lista111, lista222))"
   ]
  },
  {
   "cell_type": "code",
   "execution_count": 143,
   "metadata": {},
   "outputs": [
    {
     "name": "stdout",
     "output_type": "stream",
     "text": [
      "25\n"
     ]
    }
   ],
   "source": [
    "# 5. Crea una función que tome el tipo de figura geométrica (por ejemplo, \"cuadrado\", \"triángulo\", \"círculo\") como argumento de palabra clave y los argumentos necesarios para calcular el área de esa figura. La función debe devolver el área calculada. Soluciona este ejercicio con *kwargs* Por ejemplo: \n",
    "    #```python# esta función calcula el area de un cuadrado, para hacerlo solo necesitamos saber su lado    area_figura(tipo=\"cuadrado\", lado=5)     \n",
    "    # si quisieramos calcular la de un triángulo necesitaríamos su base y su altura, y si quisieramos calcular de un círculo necesitaríamos su radio.```\n",
    "\n",
    "def area_figura(**kwargs):\n",
    "    if 'tipo' in kwargs:\n",
    "        tipo = kwargs['tipo']\n",
    "        if tipo == 'cuadrado':\n",
    "            return kwargs['lado'] ** 2\n",
    "        elif tipo == 'triangulo':\n",
    "            return (kwargs['base'] * kwargs['altura']) / 2\n",
    "        elif tipo == 'circulo':\n",
    "            return 3.14159 * kwargs['radio'] ** 2\n",
    "        else:\n",
    "            return \"Tipo de figura no válido\"\n",
    "    else:\n",
    "        return \"Tipo de figura no especificado\"\n",
    "\n",
    "\n",
    "print(area_figura(tipo=\"cuadrado\", lado=5))\n"
   ]
  },
  {
   "cell_type": "code",
   "execution_count": 144,
   "metadata": {},
   "outputs": [
    {
     "name": "stdout",
     "output_type": "stream",
     "text": [
      "Receta: Pastel de Chocolate\n",
      "Ingredientes:\n",
      "- 200g de chocolate\n",
      "- 150g de harina\n",
      "- 100g de azúcar\n",
      "Pasos:\n",
      "1. Mezclar el chocolate con la harina.\n",
      "2. Agregar el azúcar y mezclar bien.\n"
     ]
    }
   ],
   "source": [
    "# 6. Crea una función que tome argumentos de palabra clave para los ingredientes y pasos de una receta y devuelva una descripción completa de la receta. Resuelvelo con *kwargs*.  Esta función toma como entrada una serie de detalles sobre la receta, como el nombre de la receta, los ingredientes necesarios y los pasos para prepararla. Luego, la función genera y devuelve una descripción detallada de la receta en forma de cadena de texto. Los parámetros que debe recibir la función son:\n",
    "\n",
    "#     - nombre_receta: Un argumento de palabra clave que representa el nombre de la receta.\n",
    "\n",
    "#     - ingredientes: Un argumento de palabra clave que es un diccionario donde las claves son los nombres de los ingredientes y los valores son las cantidades necesarias de cada ingrediente.\n",
    "    \n",
    "#     - pasos: Un argumento de palabra clave que contiene los pasos necesarios para preparar la receta en forma de una cadena de texto.\n",
    "\n",
    "#     Al final tendremos que ver algo como esto: \n",
    "#     ```python       '''    Receta: Pastel de Chocolate      Ingredientes:           - 200g de chocolate         - 150g de harina            - 100g de azúcar\n",
    "#     Pasos:          1. Mezclar el chocolate con la harina.          2. Agregar el azúcar y mezclar bien. '''     ```\n",
    "\n",
    "def descripcion_receta(**kwargs):\n",
    "    descripcion = f\"Receta: {kwargs['nombre_receta']}\\n\"\n",
    "    descripcion += \"Ingredientes:\\n\"\n",
    "    for ingrediente, cantidad in kwargs['ingredientes'].items():\n",
    "        descripcion += f\"- {cantidad}g de {ingrediente}\\n\"\n",
    "    descripcion += f\"Pasos:\\n{kwargs['pasos']}\"\n",
    "    return descripcion\n",
    "\n",
    "\n",
    "receta = {'nombre_receta': 'Pastel de Chocolate', 'ingredientes': {'chocolate': 200, 'harina': 150, 'azúcar': 100}, 'pasos': '1. Mezclar el chocolate con la harina.\\n2. Agregar el azúcar y mezclar bien.'}\n",
    "\n",
    "print(descripcion_receta(**receta))"
   ]
  },
  {
   "cell_type": "code",
   "execution_count": 145,
   "metadata": {},
   "outputs": [
    {
     "name": "stdout",
     "output_type": "stream",
     "text": [
      "Ingresos: $50000\n",
      "Gastos: $35000\n",
      "Balance: $15000\n"
     ]
    }
   ],
   "source": [
    "# 7. Crea una función que tome argumentos de palabra clave para los ingresos y gastos de una empresa y genere un informe financiero. Resyelvelo con *kwargs*. La función calcula y presenta un informe financiero simple. Este informe incluye detalles sobre los ingresos, los gastos y el balance de una entidad financiera, como una empresa o una persona. La función toma como entrada los ingresos y los gastos, y calcula el balance restando los gastos de los ingresos. Luego, genera una descripción del informe financiero en forma de cadena de texto. Los parámetros que recibe la función son: \n",
    "\n",
    "#     - ingresos: Un argumento de palabra clave que representa la cantidad total de ingresos (dinero ganado) que se desea informar. Por defecto, se establece en 0 si no se proporciona ningún valor.\n",
    "\n",
    "#     - gastos: Un argumento de palabra clave que representa la cantidad total de gastos (dinero gastado) que se desea informar. Por defecto, se establece en 0 si no se proporciona ningún valor.\n",
    "#     Al final tendremos algo como esto:     ```python       '''     Ingresos: $50000        Gastos: $35000      Balance: $15000     '''     ```\n",
    "def informe_financiero(**kwargs):\n",
    "    ingresos = kwargs.get('ingresos', 0)\n",
    "    gastos = kwargs.get('gastos', 0)\n",
    "    balance = ingresos - gastos\n",
    "    return f\"Ingresos: ${ingresos}\\nGastos: ${gastos}\\nBalance: ${balance}\"\n",
    "\n",
    "print(informe_financiero(ingresos=50000, gastos=35000))"
   ]
  },
  {
   "cell_type": "markdown",
   "metadata": {},
   "source": [
    "# Ejercicios CLASES\n",
    "\n",
    "Crea una clase llamada `Vehiculo` que representa un vehículo genérico. Esta clase tiene la capacidad de realizar acciones relacionadas con el vehículo, como encenderlo, apagarlo, acelerar, frenar y detenerlo gradualmente. Cada método en la clase tiene una descripción específica de su función. A continuación, se detallan los aspectos clave de esta clase:\n",
    "\n",
    "- **Atributos:**\n",
    "\n",
    "    - `marca`: Una cadena que representa la marca del vehículo.\n",
    "\n",
    "    - `modelo`: Una cadena que representa el modelo del vehículo.\n",
    "\n",
    "    - `año`: Un número entero que representa el año de fabricación del vehículo.\n",
    "\n",
    "    - `velocidad_actual`: Un número entero que representa la velocidad actual del vehículo en km/h.\n",
    "\n",
    "    - `encendido`: Un valor booleano que indica si el vehículo está encendido (`True`) o apagado (`False`).\n",
    "\n",
    "- **Métodos:**\n",
    "\n",
    "    -  `__init__(self, marca, modelo, año)`: El constructor de la clase que inicializa los atributos del vehículo, incluyendo la marca, el modelo, el año, la velocidad actual (inicialmente 0) y el estado del encendido (inicialmente apagado).\n",
    "\n",
    "    - `informacion(self)`: Un método que devuelve una cadena de texto con la información básica del vehículo, incluyendo la marca, el modelo y el año.\n",
    "\n",
    "    - `encender(self)`: Un método que enciende el vehículo si está apagado y devuelve un mensaje de confirmación. Si el vehículo ya está encendido, devuelve un mensaje indicando que ya está en funcionamiento.\n",
    "\n",
    "    - `apagar(self)`: Un método que apaga el vehículo si está encendido, establece la velocidad actual en 0 y devuelve un mensaje de confirmación. Si el vehículo ya está apagado, devuelve un mensaje indicando que ya está apagado.\n",
    "\n",
    "    - `acelerar(self, velocidad)`: Un método que aumenta la velocidad actual del vehículo según la cantidad de velocidad proporcionada como argumento. Si el vehículo está encendido, aumenta la velocidad y devuelve un mensaje con la nueva velocidad actual. Si el vehículo está apagado, devuelve un mensaje indicando que no se puede acelerar.\n",
    "\n",
    "    - `frenar(self, velocidad)`: Un método que reduce la velocidad actual del vehículo según la cantidad de velocidad proporcionada como argumento. Si el vehículo está encendido, reduce la velocidad y devuelve un mensaje con la nueva velocidad actual. Si el vehículo está apagado, devuelve un mensaje indicando que no se puede frenar.\n",
    "\n",
    "    - `detener(self)`: Un método que detiene gradualmente el vehículo reduciendo la velocidad en incrementos de 5 km/h hasta que alcance una velocidad de 0 km/h. Si el vehículo está encendido, detiene el vehículo y devuelve un mensaje de confirmación. Si el vehículo está apagado, devuelve un mensaje indicando que no se puede detener.\n",
    "\n",
    "\n",
    "Crea la subclase Coche que hereda de la clase base Vehiculo y representa un coche específico. Además de los atributos y métodos heredados, la clase Coche tiene un atributo adicional:\n",
    "\n",
    "\n",
    "- **Atributos:**\n",
    "    - combustible: Una cadena que representa el tipo de combustible que utiliza el coche.\n",
    "\n",
    "- **Métodos:**\n",
    "\n",
    "    - `__init__(self, marca, modelo, año, combustible)`: Constructor que inicializa los atributos de la clase base y el atributo específico del coche.\n",
    "    \n",
    "    - `informacion(self)`: Devuelve una cadena con la información del coche, incluyendo la marca, el modelo, el año y el tipo de combustible."
   ]
  },
  {
   "cell_type": "code",
   "execution_count": 154,
   "metadata": {},
   "outputs": [],
   "source": [
    "from datetime import datetime"
   ]
  },
  {
   "cell_type": "code",
   "execution_count": 155,
   "metadata": {},
   "outputs": [
    {
     "data": {
      "text/plain": [
       "<__main__.Vehiculo at 0x7fc572002b20>"
      ]
     },
     "execution_count": 155,
     "metadata": {},
     "output_type": "execute_result"
    }
   ],
   "source": [
    "# Creamos la clase, llamada vehiculo\n",
    "\n",
    "class Vehiculo:\n",
    "    pass\n",
    "\n",
    "#llamamos a la clase y la almacenamos en una variable y # 3.Instanciar un objeto y llamar a la funcion\n",
    "\n",
    "coche = Vehiculo()\n",
    "coche"
   ]
  },
  {
   "cell_type": "code",
   "execution_count": 156,
   "metadata": {},
   "outputs": [],
   "source": [
    "# Debemos pensar en que propiedades - atributos, deben estar definidos en un método `constructor`\n",
    "\n",
    "def __init__(self, marca, modelo, anio, encendido = False, velocidad_actual = 0):\n",
    "    self.marca = marca\n",
    "    self.modelo = modelo\n",
    "    self.anio = anio\n",
    "    self.encendido = encendido\n",
    "    self.velocidad_actual = velocidad_actual"
   ]
  },
  {
   "cell_type": "code",
   "execution_count": 157,
   "metadata": {},
   "outputs": [],
   "source": [
    "# Definimos el método\n",
    "def informacion(self, marca, modelo, anio):\n",
    "    self.marca,modelo,anio\n",
    "    return f\"Información del vehiculo, la marca es:\\nMarca{self.marca}\\nModelo: {self.modelo}\\nAño: {self.anio}\"\n",
    "        \n",
    "def encender(self):\n",
    "    if self.encendido == False:\n",
    "       self.encendido = True\n",
    "       return \"El vehiculo se ha encendido\"\n",
    "    else:\n",
    "        return \"El vehiculo ya está encendido\"\n",
    "    \n",
    "def apagar(self):\n",
    "    if self.encendido:\n",
    "        self.velocidad_actual = 0\n",
    "        self.encendido = False\n",
    "        return \"El vehiculo se ha apagado\"\n",
    "    else:\n",
    "        return \"El vehiculo ya está apagado\"\n",
    "                   \n",
    "def acelerar(self, velocidad):\n",
    "    if self.encendido == True:\n",
    "        self.velocidad_actual += velocidad     \n",
    "        return \"El vehiculo ha acelerado, va a {self.velocidad_actual}km/h:\" \n",
    "    else:\n",
    "        return \"El vehiculo ya está frenado,porque está apagado\"\n",
    "\n",
    "def frenar(self, velocidad):\n",
    "    if self.encendido:\n",
    "        self.velocidad_actual -= velocidad     \n",
    "        return \"El vehiculo ha frenado, va a {self.velocidad_actual}km/h:\" \n",
    "    else:\n",
    "        return \"El vehiculo ya está frenado, está apagado\"\n",
    "        \n",
    "def detener(self):\n",
    "    if self.encendido:\n",
    "        self.velocidad_actual >0\n",
    "        self.velocidad_actual = 5  \n",
    "        return \"El vehiculo está detenido\" \n",
    "    else:\n",
    "        return \"El vehiculo está apagado\"  "
   ]
  },
  {
   "cell_type": "code",
   "execution_count": null,
   "metadata": {},
   "outputs": [],
   "source": [
    "# Crea la subclase de coche, herencia. Usar la .super():\n",
    "class Moto(Vehiculo):\n",
    "    def __init__(self, marca, modelo, anio, combustible):\n",
    "        super().__init__(marca, modelo, anio)\n",
    "        self.combustible = combustible\n",
    "\n",
    "    def informacion(self):\n",
    "        return f\"Moto {modelo}\"\n",
    "\n",
    "mi_moto = Moto(\"harley\", \"x\", 2021, \"gasolina\")"
   ]
  },
  {
   "cell_type": "code",
   "execution_count": null,
   "metadata": {},
   "outputs": [],
   "source": [
    "mi_moto.encendido\n",
    "mi_moto.encender()"
   ]
  },
  {
   "cell_type": "code",
   "execution_count": null,
   "metadata": {},
   "outputs": [],
   "source": [
    "mi_moto.acelerar(50)\n",
    "mi_moto.frenar(10)\n",
    "mi_moto.detener()\n",
    "mi_moto.apagar()"
   ]
  },
  {
   "cell_type": "code",
   "execution_count": null,
   "metadata": {},
   "outputs": [],
   "source": [
    "# USO de datetime\n",
    "\n",
    "año_actual = datetime.now().year\n",
    "mes_actual = datetime.now().month\n",
    "antiguedad_años = año_actual - self.anio\n",
    "antiguedad_meses = mes_actual - self.anio"
   ]
  },
  {
   "cell_type": "markdown",
   "metadata": {},
   "source": [
    "# Ejercicios REGEX\n",
    "|  método |donde nos busca   |qué nos devuelve  |\n",
    "|---|---|---|\n",
    "|**findall()**  |en todo el *string* | una lista con todas las coincidencias en nuestro *string* |\n",
    "|**search()**      |   en todo el *string*| un objeto con la primera coincidencia en nuestro *string*| \n",
    "|**match()**  | en la primera línea del *string*   | un objeto con la primera coincidencia en nuestro *string*  |\n",
    "|**split()**|en todo el *string*|una lista con los elementos separados por el patrón que especificaramos|\n",
    "|**sub()**|en todo el *string*| un *string* con el elemento que coincide| "
   ]
  }
 ],
 "metadata": {
  "kernelspec": {
   "display_name": "Python 3",
   "language": "python",
   "name": "python3"
  },
  "language_info": {
   "codemirror_mode": {
    "name": "ipython",
    "version": 3
   },
   "file_extension": ".py",
   "mimetype": "text/x-python",
   "name": "python",
   "nbconvert_exporter": "python",
   "pygments_lexer": "ipython3",
   "version": "3.9.12"
  }
 },
 "nbformat": 4,
 "nbformat_minor": 2
}
