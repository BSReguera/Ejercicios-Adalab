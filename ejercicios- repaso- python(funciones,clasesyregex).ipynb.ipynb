{
 "cells": [
  {
   "cell_type": "markdown",
   "metadata": {},
   "source": [
    "## Ejercicios de Repaso Python (Funciones, Clases, Regex)\n",
    "\n",
    "# Clase Ecommerce para la Gestión de Datos de un Ecommerce*\n",
    "En este ejercicio, crearás una clase llamada Ecommerce para gestionar los datos de un ecommerce, como productos, clientes y ventas. La clase Ecommerce tiene varios métodos que permiten realizar diversas operaciones.\n",
    "\n",
    "-Método constructor\n",
    "Nombre de la tienda.\n",
    "Diccionario vacío para almacenar los productos. Ejemplo diccionario: {id_producto: [nombre, precio, stock]}\n",
    "Diccionario vacío para almacenar los clientes. Ejemplo diccionario: {id_cliente: [nombre, email]}\n",
    "Lista vacía para registrar las ventas. Ejemplo lista: [(id_venta, id_cliente, id_producto, cantidad)]\n",
    "\n",
    "- Método agregar_producto(id_producto, nombre, precio, stock):\n",
    "Este método permite agregar un nuevo producto al inventario del ecommerce.\n",
    "Verifica si el producto ya existe en el inventario antes de agregarlo.\n",
    "Retorna un mensaje de éxito si el producto se agrega correctamente.\n",
    "\n",
    "- Método eliminar_producto(id_producto):\n",
    "Elimina un producto específico del inventario.\n",
    "También elimina las ventas asociadas al producto eliminado.\n",
    "Retorna un mensaje indicando si el producto se eliminó con éxito o si no se encontró en el inventario.\n",
    "\n",
    "- Método agregar_cliente(id_cliente, nombre, email):\n",
    "Agrega un nuevo cliente a la base de datos de clientes.\n",
    "Verifica si el cliente ya existe en la base de datos antes de agregarlo.\n",
    "Retorna un mensaje de éxito si el cliente se agrega correctamente.\n",
    "\n",
    "- Método realizar_venta(id_cliente, id_producto, cantidad):\n",
    "Permite registrar una venta de un producto a un cliente.\n",
    "Verifica si el producto y el cliente existen en la base de datos antes de realizar la venta.\n",
    "Comprueba si hay suficiente stock para la venta.\n",
    "Registra la venta y actualiza el stock del producto.\n",
    "Retorna un mensaje de éxito con el ID de la venta o un mensaje de error si no se puede realizar la venta.\n",
    "\n",
    "- Método obtener_inventario():\n",
    "Recopila información detallada sobre el inventario, incluyendo nombre, precio, stock disponible, stock vendido y stock total de cada producto.\n",
    "Retorna un diccionario con esta información.\n",
    "\n",
    "- Método obtener_clientes(con_compras=False):\n",
    "Recopila información sobre los clientes en la base de datos.\n",
    "Si se especifica con_compras, también muestra el total de compras de cada cliente.\n",
    "Retorna un diccionario con esta información.\n",
    "\n",
    "- Método actualizar_producto(id_producto, nombre=None, precio=None, stock=None):\n",
    "Permite actualizar la información de un producto existente en el inventario.\n",
    "Verifica si el producto existe antes de realizar la actualización.\n",
    "Retorna un mensaje de éxito con la información actualizada del producto.\n",
    "\n",
    "- Método buscar_producto_por_nombre(nombre):\n",
    "Busca productos en el inventario que coincidan con un nombre dado, independientemente de las mayúsculas y minúsculas.\n",
    "Retorna una lista de productos que coinciden con el nombre buscado.\n",
    "\n",
    "- Método calcular_ganancias():\n",
    "Calcula las ganancias totales generadas por todas las ventas registradas.\n",
    "Retorna el valor total de las ganancias.\n",
    "\n",
    "- Método obtener_clientes_con_mas_compras(n=5):\n",
    "Identifica a los mejores clientes según la cantidad de compras realizadas.\n",
    "Retorna una lista de los mejores clientes con información sobre su nombre y la cantidad de compras.\n",
    "\n",
    "- Método estadisticas_producto(id_producto):\n",
    "Muestra estadísticas detalladas de un producto específico, incluyendo su nombre, precio, stock y total de ventas.\n",
    "Retorna un diccionario con esta información."
   ]
  },
  {
   "cell_type": "code",
   "execution_count": 2,
   "metadata": {},
   "outputs": [],
   "source": [
    "class Ecommerce:\n",
    "    def __init__(self, nombre):\n",
    "        self.nombre = nombre\n",
    "        self.productos = {}  # Un diccionario para almacenar los productos: {id_producto: [nombre, precio, stock]}\n",
    "        self.clientes = {}   # Un diccionario para almacenar los clientes: {id_cliente: [nombre, email]}\n",
    "        self.ventas = []     # Una lista para registrar las ventas: [(id_venta, id_cliente, id_producto, cantidad)]\n",
    "\n",
    "    def agregar_producto(self, id_producto, nombre, precio, stock):\n",
    "        # Verifica si el 'id_producto' no existe en el diccionario de productos\n",
    "        if id_producto not in self.productos:\n",
    "            # Si no existe, agrega el producto al diccionario con sus atributos\n",
    "            self.productos[id_producto] = [nombre, precio, stock]\n",
    "            # Imprime un mensaje de éxito con el nombre del producto\n",
    "            print(f\"Producto '{nombre}' agregado con éxito.\")\n",
    "            # Devuelve el diccionario de productos actualizado\n",
    "            return self.productos\n",
    "        else:\n",
    "            # Si el 'id_producto' ya existe, muestra un mensaje de error\n",
    "            print(f\"El producto con ID {id_producto} ya existe en el inventario.\")\n",
    "\n",
    "\n",
    "    def eliminar_producto(self, id_producto):\n",
    "        # Verifica si el 'id_producto' existe en el diccionario de productos\n",
    "        if id_producto in self.productos:\n",
    "            # Si existe, elimina el producto del diccionario de productos\n",
    "            del self.productos[id_producto]\n",
    "            # Elimina las ventas asociadas al producto eliminado\n",
    "            self.ventas = [venta for venta in self.ventas if venta[2] != id_producto]\n",
    "            # Imprime un mensaje de éxito\n",
    "            print(\"Producto eliminado con éxito.\")\n",
    "            # Devuelve la lista de ventas actualizada\n",
    "            return self.ventas\n",
    "        else:\n",
    "            # Si el 'id_producto' no existe, muestra un mensaje de error\n",
    "            print(f\"No se encontró el producto con ID {id_producto}.\")\n",
    "\n",
    "\n",
    "    def agregar_cliente(self, id_cliente, nombre, email):\n",
    "        # Verifica si el 'id_cliente' no existe en el diccionario de clientes\n",
    "        if id_cliente not in self.clientes:\n",
    "            # Si no existe, agrega al cliente al diccionario de clientes con su nombre y correo\n",
    "            self.clientes[id_cliente] = [nombre, email]\n",
    "            # Imprime un mensaje de éxito con el nombre del cliente\n",
    "            print(f\"Cliente '{nombre}' agregado con éxito.\")\n",
    "            # Devuelve el diccionario de clientes actualizado\n",
    "            return self.clientes\n",
    "        else:\n",
    "            # Si el 'id_cliente' ya existe, muestra un mensaje de error\n",
    "            print(f\"El cliente con ID {id_cliente} ya existe en la base de datos.\")\n",
    "\n",
    "\n",
    "    def realizar_venta(self, id_cliente, id_producto, cantidad):\n",
    "        # Verifica si el 'id_producto' existe en el diccionario de productos y si el 'id_cliente' existe en el diccionario de clientes\n",
    "        if id_producto in self.productos and id_cliente in self.clientes:\n",
    "            # Verifica si hay suficiente stock del producto para la venta\n",
    "            if self.productos[id_producto][2] >= cantidad:\n",
    "                # Calcula un nuevo ID de venta\n",
    "                id_venta = len(self.ventas) + 1\n",
    "                # Agrega la venta a la lista de ventas con información de cliente, producto y cantidad\n",
    "                self.ventas.append((id_venta, id_cliente, id_producto, cantidad))\n",
    "                # Actualiza el stock del producto restando la cantidad vendida\n",
    "                self.productos[id_producto][2] -= cantidad\n",
    "                # Imprime un mensaje de éxito con el ID de la venta\n",
    "                print(f\"Venta realizada con éxito. ID de venta: {id_venta}\")\n",
    "                # Devuelve el diccionario de productos actualizado\n",
    "                return self.productos\n",
    "            else:\n",
    "                # Si no hay suficiente stock, muestra un mensaje de error\n",
    "                print(\"No hay suficiente stock para realizar la venta.\")\n",
    "        else:\n",
    "            # Si el cliente o el producto no existen, muestra un mensaje de error\n",
    "            print(\"Cliente o producto no encontrados en la base de datos.\")\n",
    "\n",
    "\n",
    "    def obtener_inventario(self):\n",
    "        # Inicializa un diccionario vacío para el inventario\n",
    "        inventario = {}\n",
    "        # Itera a través del diccionario de productos\n",
    "        for id_producto, producto_info in self.productos.items():\n",
    "            # Extrae información del producto: nombre, precio y stock\n",
    "            nombre, precio, stock = producto_info\n",
    "            # Calcula la cantidad vendida sumando todas las ventas de este producto\n",
    "            ventas_producto = sum([venta[3] for venta in self.ventas if venta[2] == id_producto])\n",
    "            # Crea un diccionario con información del producto y su stock\n",
    "            inventario[id_producto] = {\n",
    "                \"Nombre\": nombre,\n",
    "                \"Precio\": precio,\n",
    "                \"Stock Disponible\": stock,\n",
    "                \"Stock Vendido\": ventas_producto,\n",
    "                \"Stock Total\": stock + ventas_producto,\n",
    "            }\n",
    "        # Devuelve el diccionario de inventario con toda la información\n",
    "        return inventario\n",
    "\n",
    "\n",
    "    def obtener_clientes(self, con_compras=False):\n",
    "        # Inicializa un diccionario vacío para la información de los clientes\n",
    "        clientes_info = {}\n",
    "        # Itera a través del diccionario de clientes\n",
    "        for id_cliente, (nombre, email) in self.clientes.items():\n",
    "            if con_compras:\n",
    "                # Si se requiere información de compras\n",
    "                compras_cliente = [venta for venta in self.ventas if venta[1] == id_cliente]\n",
    "                total_compras = len(compras_cliente)\n",
    "                if total_compras > 0:\n",
    "                    # Si el cliente ha realizado compras, agrega información adicional al diccionario\n",
    "                    clientes_info[id_cliente] = {\n",
    "                        \"Nombre\": nombre,\n",
    "                        \"Email\": email,\n",
    "                        \"Total Compras\": total_compras,\n",
    "                    }\n",
    "            else:\n",
    "                # Si no se requiere información de compras, agrega información básica al diccionario\n",
    "                clientes_info[id_cliente] = {\n",
    "                    \"Nombre\": nombre,\n",
    "                    \"Email\": email,\n",
    "                }\n",
    "        # Devuelve el diccionario con la información de los clientes\n",
    "        return clientes_info\n",
    "\n",
    "\n",
    "\n",
    "    def actualizar_producto(self, id_producto, nombre=None, precio=None, stock=None):\n",
    "        if id_producto in self.productos:\n",
    "            producto = self.productos[id_producto]\n",
    "            if nombre is not None:\n",
    "                producto[0] = nombre\n",
    "            if precio is not None:\n",
    "                producto[1] = precio\n",
    "            if stock is not None:\n",
    "                producto[2] = stock\n",
    "            # Imprime un mensaje de éxito con la información del producto actualizado\n",
    "            print(f\"Producto actualizado con éxito: {producto}\")\n",
    "            # Devuelve el diccionario de productos actualizado\n",
    "            return self.productos\n",
    "        else:\n",
    "            # Si el producto no se encuentra, muestra un mensaje de error\n",
    "            print(f\"No se encontró el producto con ID {id_producto}.\")\n",
    "\n",
    "    def buscar_producto_por_nombre(self, nombre):\n",
    "        # Inicializa una lista vacía para almacenar los resultados de la búsqueda\n",
    "        resultados = []\n",
    "        # Itera a través del diccionario de productos\n",
    "        for id_producto, producto in self.productos.items():\n",
    "            # Compara el nombre del producto (en minúsculas) con el nombre proporcionado (también en minúsculas)\n",
    "            if nombre.lower() in producto[0].lower():\n",
    "                # Si se encuentra una coincidencia, agrega el ID del producto y la información del producto a la lista de resultados\n",
    "                resultados.append((id_producto, producto))\n",
    "        # Devuelve una lista de tuplas con los resultados de la búsqueda\n",
    "        return resultados\n",
    "\n",
    "    def calcular_ganancias(self):\n",
    "        total_ganancias = 0\n",
    "        # Inicializa una variable para el total de ganancias en 0\n",
    "        for venta in self.ventas:\n",
    "            # Itera a través de la lista de ventas\n",
    "            id_producto = venta[2]\n",
    "            # Obtiene el ID del producto vendido\n",
    "            cantidad = venta[3]\n",
    "            # Obtiene la cantidad vendida\n",
    "            precio_unitario = self.productos[id_producto][1]\n",
    "            # Obtiene el precio unitario del producto vendido\n",
    "            total_ganancias += cantidad * precio_unitario\n",
    "            # Calcula las ganancias de esta venta y las suma al total de ganancias\n",
    "        return total_ganancias\n",
    "        # Devuelve el total de ganancias\n",
    "\n",
    "\n",
    "    def obtener_clientes_con_mas_compras(self, n=5):\n",
    "        # Crea un diccionario para rastrear la cantidad de compras por cliente\n",
    "        ventas_por_cliente = {}\n",
    "        # Itera a través de la lista de ventas\n",
    "        for venta in self.ventas:\n",
    "            # Obtiene el ID del cliente de esta venta\n",
    "            id_cliente = venta[1]\n",
    "            # Verifica si el cliente ya tiene compras registradas\n",
    "            if id_cliente in ventas_por_cliente:\n",
    "                # Si existe, incrementa el contador de compras para este cliente\n",
    "                ventas_por_cliente[id_cliente] += 1\n",
    "            else:\n",
    "                # Si no existe, crea una nueva entrada en el diccionario con un contador de 1\n",
    "                ventas_por_cliente[id_cliente] = 1\n",
    "        # Ordena los clientes en función del número de compras en orden descendente\n",
    "        clientes_ordenados = sorted(ventas_por_cliente, key=ventas_por_cliente.get, reverse=True)\n",
    "        # Crea una lista de los mejores clientes (los n primeros)\n",
    "        mejores_clientes = [(id_cliente, self.clientes[id_cliente][0], ventas_por_cliente[id_cliente])\n",
    "                            for id_cliente in clientes_ordenados[:n]]\n",
    "        # Devuelve una lista de tuplas con la información de los mejores clientes\n",
    "        return mejores_clientes\n",
    "\n",
    "\n",
    "    def estadisticas_producto(self, id_producto):\n",
    "        # Verifica si el 'id_producto' existe en el diccionario de productos\n",
    "        if id_producto in self.productos:\n",
    "            # Obtiene la información del producto a partir del 'id_producto'\n",
    "            producto = self.productos[id_producto]\n",
    "            nombre = producto[0]\n",
    "            precio = producto[1]\n",
    "            stock = producto[2]\n",
    "            # Filtra las ventas asociadas a este producto\n",
    "            ventas_producto = [venta for venta in self.ventas if venta[2] == id_producto]\n",
    "            # Calcula el total de ventas sumando las cantidades de todas las ventas para este producto\n",
    "            total_ventas = sum(venta[3] for venta in ventas_producto)\n",
    "            # Devuelve un diccionario con estadísticas del producto\n",
    "            return {\n",
    "                \"Nombre\": nombre,\n",
    "                \"Precio\": precio,\n",
    "                \"Stock\": stock,\n",
    "                \"Total Ventas\": total_ventas,\n",
    "            }\n",
    "        else:\n",
    "            # Si el producto no se encuentra, muestra un mensaje de error\n",
    "            return f\"No se encontró el producto con ID {id_producto}.\"\n",
    "\n"
   ]
  },
  {
   "cell_type": "code",
   "execution_count": 3,
   "metadata": {},
   "outputs": [],
   "source": [
    "# Crear una instancia de la clase Ecommerce\n",
    "mi_ecommerce = Ecommerce(\"Mi Tienda Online\")"
   ]
  },
  {
   "cell_type": "code",
   "execution_count": 4,
   "metadata": {},
   "outputs": [
    {
     "name": "stdout",
     "output_type": "stream",
     "text": [
      "Producto 'Laptop' agregado con éxito.\n",
      "Producto 'Teléfono' agregado con éxito.\n"
     ]
    }
   ],
   "source": [
    "# Agregar productos\n",
    "dicc_producto = mi_ecommerce.agregar_producto(1, \"Laptop\", 800, 10)\n",
    "dicc_producto = mi_ecommerce.agregar_producto(2, \"Teléfono\", 300, 20)"
   ]
  },
  {
   "cell_type": "code",
   "execution_count": 5,
   "metadata": {},
   "outputs": [
    {
     "name": "stdout",
     "output_type": "stream",
     "text": [
      "Cliente 'Juan Pérez' agregado con éxito.\n",
      "Cliente 'Ana García' agregado con éxito.\n"
     ]
    }
   ],
   "source": [
    "# Agregar clientes\n",
    "dicc_cliente = mi_ecommerce.agregar_cliente(101, \"Juan Pérez\", \"juan@example.com\")\n",
    "dicc_cliente = mi_ecommerce.agregar_cliente(102, \"Ana García\", \"ana@example.com\")"
   ]
  },
  {
   "cell_type": "code",
   "execution_count": 6,
   "metadata": {},
   "outputs": [
    {
     "name": "stdout",
     "output_type": "stream",
     "text": [
      "Venta realizada con éxito. ID de venta: 1\n",
      "{1: ['Laptop', 800, 8], 2: ['Teléfono', 300, 20]}\n",
      "Venta realizada con éxito. ID de venta: 2\n",
      "{1: ['Laptop', 800, 8], 2: ['Teléfono', 300, 17]}\n"
     ]
    }
   ],
   "source": [
    "# Realizar ventas\n",
    "print(mi_ecommerce.realizar_venta(101, 1, 2))\n",
    "print(mi_ecommerce.realizar_venta(102, 2, 3))"
   ]
  },
  {
   "cell_type": "code",
   "execution_count": 7,
   "metadata": {},
   "outputs": [
    {
     "name": "stdout",
     "output_type": "stream",
     "text": [
      "Inventario Completo:\n",
      "{1: {'Nombre': 'Laptop', 'Precio': 800, 'Stock Disponible': 8, 'Stock Vendido': 2, 'Stock Total': 10}, 2: {'Nombre': 'Teléfono', 'Precio': 300, 'Stock Disponible': 17, 'Stock Vendido': 3, 'Stock Total': 20}}\n"
     ]
    }
   ],
   "source": [
    "# Obtener inventario\n",
    "print(\"Inventario Completo:\")\n",
    "print(mi_ecommerce.obtener_inventario())"
   ]
  },
  {
   "cell_type": "code",
   "execution_count": 8,
   "metadata": {},
   "outputs": [
    {
     "name": "stdout",
     "output_type": "stream",
     "text": [
      "\n",
      "Clientes con Compras:\n",
      "{101: {'Nombre': 'Juan Pérez', 'Email': 'juan@example.com', 'Total Compras': 1}, 102: {'Nombre': 'Ana García', 'Email': 'ana@example.com', 'Total Compras': 1}}\n"
     ]
    }
   ],
   "source": [
    "# Obtener clientes con compras\n",
    "print(\"\\nClientes con Compras:\")\n",
    "print(mi_ecommerce.obtener_clientes(con_compras=True))"
   ]
  },
  {
   "cell_type": "code",
   "execution_count": 9,
   "metadata": {},
   "outputs": [
    {
     "name": "stdout",
     "output_type": "stream",
     "text": [
      "Producto actualizado con éxito: ['Nueva Laptop', 900, 15]\n",
      "{1: ['Nueva Laptop', 900, 15], 2: ['Teléfono', 300, 17]}\n"
     ]
    }
   ],
   "source": [
    "# Actualizar un producto\n",
    "print(mi_ecommerce.actualizar_producto(1, nombre=\"Nueva Laptop\", precio=900, stock=15))"
   ]
  },
  {
   "cell_type": "code",
   "execution_count": 10,
   "metadata": {},
   "outputs": [
    {
     "name": "stdout",
     "output_type": "stream",
     "text": [
      "\n",
      "Búsqueda de productos por nombre 'Teléfono':\n",
      "[(2, ['Teléfono', 300, 17])]\n"
     ]
    }
   ],
   "source": [
    "# Buscar productos por nombre\n",
    "print(\"\\nBúsqueda de productos por nombre 'Teléfono':\")\n",
    "print(mi_ecommerce.buscar_producto_por_nombre(\"Teléfono\"))"
   ]
  },
  {
   "cell_type": "code",
   "execution_count": 11,
   "metadata": {},
   "outputs": [
    {
     "name": "stdout",
     "output_type": "stream",
     "text": [
      "\n",
      "Ganancias Totales:\n",
      "2700\n"
     ]
    }
   ],
   "source": [
    "# Calcular ganancias totales\n",
    "print(\"\\nGanancias Totales:\")\n",
    "print(mi_ecommerce.calcular_ganancias())"
   ]
  },
  {
   "cell_type": "code",
   "execution_count": 12,
   "metadata": {},
   "outputs": [
    {
     "name": "stdout",
     "output_type": "stream",
     "text": [
      "\n",
      "Mejores Clientes:\n",
      "[(101, 'Juan Pérez', 1), (102, 'Ana García', 1)]\n"
     ]
    }
   ],
   "source": [
    "# Obtener los 3 clientes con más compras\n",
    "print(\"\\nMejores Clientes:\")\n",
    "print(mi_ecommerce.obtener_clientes_con_mas_compras(n=3))"
   ]
  },
  {
   "cell_type": "code",
   "execution_count": 13,
   "metadata": {},
   "outputs": [
    {
     "name": "stdout",
     "output_type": "stream",
     "text": [
      "\n",
      "Estadísticas del Producto 1:\n",
      "{'Nombre': 'Nueva Laptop', 'Precio': 900, 'Stock': 15, 'Total Ventas': 2}\n"
     ]
    }
   ],
   "source": [
    "# Obtener estadísticas de un producto\n",
    "print(\"\\nEstadísticas del Producto 1:\")\n",
    "print(mi_ecommerce.estadisticas_producto(1))"
   ]
  }
 ],
 "metadata": {
  "kernelspec": {
   "display_name": "promoe",
   "language": "python",
   "name": "python3"
  },
  "language_info": {
   "codemirror_mode": {
    "name": "ipython",
    "version": 3
   },
   "file_extension": ".py",
   "mimetype": "text/x-python",
   "name": "python",
   "nbconvert_exporter": "python",
   "pygments_lexer": "ipython3",
   "version": "3.9.12"
  },
  "orig_nbformat": 4
 },
 "nbformat": 4,
 "nbformat_minor": 2
}
