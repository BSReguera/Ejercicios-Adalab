{
 "cells": [
  {
   "cell_type": "markdown",
   "metadata": {},
   "source": [
    "# EJERCICIOS DE REPASO PYTHON (estructuras de datos y control de flujo) -- Sesión de Repaso (listas, tuplas, sets, diccionarios y sentencias de control)\n",
    "\n",
    "# - EJERCICIOS DE LISTAS"
   ]
  },
  {
   "cell_type": "code",
   "execution_count": 3,
   "metadata": {},
   "outputs": [],
   "source": [
    "#1. Crear una lista: Crea una lista con cinco colores diferentes.\n",
    "colores = [\"rojo\", \"verde\", \"azul\", \"amarillo\", \"naranja\"]"
   ]
  },
  {
   "cell_type": "code",
   "execution_count": 4,
   "metadata": {},
   "outputs": [
    {
     "name": "stdout",
     "output_type": "stream",
     "text": [
      "Tercer color: azul\n"
     ]
    }
   ],
   "source": [
    "#2. Acceder a elementos: Accede al tercer elemento de la lista de colores.\n",
    "tercer_color = colores[2]\n",
    "print(\"Tercer color:\", tercer_color)"
   ]
  },
  {
   "cell_type": "code",
   "execution_count": 5,
   "metadata": {},
   "outputs": [
    {
     "name": "stdout",
     "output_type": "stream",
     "text": [
      "Lista de colores despues de modificar el segundo color es: ['rojo', 'gris', 'azul', 'amarillo', 'naranja']\n"
     ]
    }
   ],
   "source": [
    "#3.Modificar elementos: Cambia el segundo color de la lista por otro de tu elección.\n",
    "colores = [\"rojo\", \"verde\", \"azul\", \"amarillo\", \"naranja\"]\n",
    "colores[1] = \"gris\"\n",
    "print(\"Lista de colores despues de modificar el segundo color es:\", colores)\n"
   ]
  },
  {
   "cell_type": "code",
   "execution_count": 6,
   "metadata": {},
   "outputs": [
    {
     "name": "stdout",
     "output_type": "stream",
     "text": [
      "Lista de colores despues de agregar dos colores nuevos es: ['rojo', 'verde', 'azul', 'amarillo', 'naranja', 'blanco', 'negro']\n"
     ]
    }
   ],
   "source": [
    "4#.Agregar elementos: Agrega dos colores nuevos a la lista.\n",
    "colores = [\"rojo\", \"verde\", \"azul\", \"amarillo\", \"naranja\"]\n",
    "colores.extend([\"blanco\", \"negro\"])\n",
    "print(\"Lista de colores despues de agregar dos colores nuevos es:\", colores)\n"
   ]
  },
  {
   "cell_type": "code",
   "execution_count": 7,
   "metadata": {},
   "outputs": [
    {
     "name": "stdout",
     "output_type": "stream",
     "text": [
      "Lista de colores despues de eliminar cuarto color es: ['rojo', 'verde', 'azul', 'naranja']\n"
     ]
    }
   ],
   "source": [
    "#5.Eliminar elementos: Elimina el cuarto color de la lista.\n",
    "colores = [\"rojo\", \"verde\", \"azul\", \"amarillo\", \"naranja\"]\n",
    "del colores[3]\n",
    "print(\"Lista de colores despues de eliminar cuarto color es:\", colores)"
   ]
  },
  {
   "cell_type": "code",
   "execution_count": 8,
   "metadata": {},
   "outputs": [
    {
     "name": "stdout",
     "output_type": "stream",
     "text": [
      "La longitud de la lista de colores es: 5\n"
     ]
    }
   ],
   "source": [
    "#6.Longitud de la lista: Encuentra la longitud de la lista de colores.\n",
    "colores = [\"rojo\", \"verde\", \"azul\", \"amarillo\", \"naranja\"]\n",
    "longitud_colores = len(colores)\n",
    "print(\"La longitud de la lista de colores es:\", longitud_colores)\n"
   ]
  },
  {
   "cell_type": "code",
   "execution_count": 9,
   "metadata": {},
   "outputs": [
    {
     "name": "stdout",
     "output_type": "stream",
     "text": [
      "La lista de colores ordenada alfabeticamente es: ['amarillo', 'azul', 'naranja', 'rojo', 'verde']\n"
     ]
    }
   ],
   "source": [
    "#7.Ordenar la lista: Ordena la lista de colores en orden alfabético.\n",
    "colores = [\"rojo\", \"verde\", \"azul\", \"amarillo\", \"naranja\"]\n",
    "colores.sort()\n",
    "print(\"La lista de colores ordenada alfabeticamente es:\", colores)"
   ]
  },
  {
   "cell_type": "code",
   "execution_count": 10,
   "metadata": {},
   "outputs": [
    {
     "name": "stdout",
     "output_type": "stream",
     "text": [
      "[['manzana', 'platano', 'uva'], ['kiwi', 'naranja', 'pera']]\n"
     ]
    }
   ],
   "source": [
    "#8.Listas anidadas: Crea una lista de dos sublistas, cada una con tres nombres de frutas.\n",
    "frutas_sublista1 = [\"manzana\", \"platano\", \"uva\"]\n",
    "frutas_sublista2 = [\"kiwi\", \"naranja\", \"pera\"]\n",
    "lista_frutas = [frutas_sublista1, frutas_sublista2]\n",
    "print(lista_frutas)"
   ]
  },
  {
   "cell_type": "code",
   "execution_count": 11,
   "metadata": {},
   "outputs": [
    {
     "name": "stdout",
     "output_type": "stream",
     "text": [
      "['manzana', 'platano', 'uva', 'kiwi', 'naranja', 'pera']\n"
     ]
    }
   ],
   "source": [
    "#9. Concatenar listas: Concatena las dos sublistas en una sola lista de frutas.\n",
    "frutas_concatenadas = frutas_sublista1 + frutas_sublista2\n",
    "print(frutas_concatenadas)"
   ]
  },
  {
   "cell_type": "code",
   "execution_count": 12,
   "metadata": {},
   "outputs": [
    {
     "name": "stdout",
     "output_type": "stream",
     "text": [
      "[['manzana', 'platano', 'uva'], ['kiwi', 'naranja', 'pera'], ['manzana', 'platano', 'uva'], ['kiwi', 'naranja', 'pera'], ['manzana', 'platano', 'uva'], ['kiwi', 'naranja', 'pera']]\n"
     ]
    }
   ],
   "source": [
    "#10.Repetir elementos: Repite la lista de frutas tres veces para obtener una lista más larga.\n",
    "lista_frutas_repetida = lista_frutas * 3\n",
    "print(lista_frutas_repetida)"
   ]
  },
  {
   "cell_type": "code",
   "execution_count": 13,
   "metadata": {},
   "outputs": [
    {
     "name": "stdout",
     "output_type": "stream",
     "text": [
      "['manzana', 'platano', 'uva']\n"
     ]
    }
   ],
   "source": [
    "#11.Acceder a la primera lista de frutas: Crea una variable llamada primera_lista y asigna la primera lista de frutas a esta variable.\n",
    "primera_lista = lista_frutas_repetida[0]\n",
    "print(primera_lista)"
   ]
  },
  {
   "cell_type": "code",
   "execution_count": 14,
   "metadata": {},
   "outputs": [
    {
     "name": "stdout",
     "output_type": "stream",
     "text": [
      "['kiwi', 'naranja', 'pera']\n"
     ]
    }
   ],
   "source": [
    "#12.Acceder a la segunda lista de frutas: Crea una variable llamada segunda_lista y asigna la segunda lista de frutas a esta variable.\n",
    "segunda_lista = lista_frutas_repetida[1]\n",
    "print(segunda_lista)"
   ]
  },
  {
   "cell_type": "code",
   "execution_count": 15,
   "metadata": {},
   "outputs": [
    {
     "name": "stdout",
     "output_type": "stream",
     "text": [
      "manzana\n"
     ]
    }
   ],
   "source": [
    "#13.Acceder a la primera fruta de la primera lista: Crea una variable llamada primera_fruta y asigna la primera fruta de la primera lista de frutas a esta variable.\n",
    "primera_fruta = primera_lista[0]\n",
    "print(primera_fruta)"
   ]
  },
  {
   "cell_type": "code",
   "execution_count": 16,
   "metadata": {},
   "outputs": [
    {
     "name": "stdout",
     "output_type": "stream",
     "text": [
      "pera\n"
     ]
    }
   ],
   "source": [
    "#14.Acceder a la última fruta de la segunda lista: Crea una variable llamada ultima_fruta y asigna la última fruta de la segunda lista de frutas a esta variable.\n",
    "ultima_fruta = segunda_lista[-1]\n",
    "print(ultima_fruta)"
   ]
  },
  {
   "cell_type": "code",
   "execution_count": 17,
   "metadata": {},
   "outputs": [
    {
     "name": "stdout",
     "output_type": "stream",
     "text": [
      "platano\n"
     ]
    }
   ],
   "source": [
    "#15. Acceder a la segunda fruta de la primera lista: Crea una variable llamada segunda_fruta y asigna la segunda fruta de la primera lista de frutas a esta variable.\n",
    "segunda_fruta = primera_lista[1]\n",
    "print(segunda_fruta)"
   ]
  },
  {
   "cell_type": "code",
   "execution_count": 18,
   "metadata": {},
   "outputs": [
    {
     "name": "stdout",
     "output_type": "stream",
     "text": [
      "uva\n"
     ]
    }
   ],
   "source": [
    "#16.Acceder a la última fruta de la primera lista: Crea una variable llamada ultima_fruta_primera_lista y asigna la última fruta de la primera lista de frutas a esta variable.\n",
    "ultima_fruta_primeralista = primera_lista[-1]\n",
    "print(ultima_fruta_primeralista)"
   ]
  },
  {
   "cell_type": "code",
   "execution_count": 25,
   "metadata": {},
   "outputs": [
    {
     "name": "stdout",
     "output_type": "stream",
     "text": [
      "3\n"
     ]
    }
   ],
   "source": [
    "#17.Acceder a la longitud de la segunda lista de frutas: Crea una variable llamada longitud_segunda_lista y asigna la longitud (número de elementos) de la segunda lista de frutas a esta variable.\n",
    "segunda_lista = ['kiwi', 'naranja', 'pera']\n",
    "longitud_segunda_lista = len(segunda_lista)\n",
    "print(longitud_segunda_lista)"
   ]
  },
  {
   "cell_type": "code",
   "execution_count": 26,
   "metadata": {},
   "outputs": [
    {
     "name": "stdout",
     "output_type": "stream",
     "text": [
      "['kiwi', 'naranja']\n"
     ]
    }
   ],
   "source": [
    "#18.Acceder a una porción de la segunda lista (slicing): Crea una variable llamada porcion_segunda_lista y asigna los dos primeros elementos de la segunda lista de frutas a esta variable utilizando el slicing.\n",
    "porcion_segunda_lista = segunda_lista[:2]\n",
    "print(porcion_segunda_lista)"
   ]
  },
  {
   "cell_type": "code",
   "execution_count": 27,
   "metadata": {},
   "outputs": [
    {
     "name": "stdout",
     "output_type": "stream",
     "text": [
      "['kiwi', 'ciruela', 'pera']\n"
     ]
    }
   ],
   "source": [
    "#19.Cambiar la segunda fruta de la segunda lista: Cambia la segunda fruta de la segunda lista de frutas a \"ciruela\".\n",
    "segunda_lista[1] = \"ciruela\"\n",
    "print(segunda_lista)"
   ]
  },
  {
   "cell_type": "code",
   "execution_count": 28,
   "metadata": {},
   "outputs": [
    {
     "name": "stdout",
     "output_type": "stream",
     "text": [
      "['manzana', 'platano', 'uva', 'pomelo']\n"
     ]
    }
   ],
   "source": [
    "#20.Agregar una nueva fruta a la primera lista: Agrega una nueva fruta, \"kiwi\", a la primera lista de frutas.\n",
    "primera_lista.append(\"pomelo\")\n",
    "print(primera_lista)"
   ]
  },
  {
   "cell_type": "markdown",
   "metadata": {},
   "source": [
    "# - EJERCICIOS TUPLAS"
   ]
  },
  {
   "cell_type": "code",
   "execution_count": 31,
   "metadata": {},
   "outputs": [
    {
     "name": "stdout",
     "output_type": "stream",
     "text": [
      "('abrigo', 'pantalon', 'vestido', 'bufanda', 'camisa')\n"
     ]
    }
   ],
   "source": [
    "#1.Crear una tupla: Crea una tupla llamada mi_tupla con algunos elementos de tu elección.\n",
    "mi_tupla = (\"abrigo\", \"pantalon\", \"vestido\", \"bufanda\", \"camisa\")\n",
    "print(mi_tupla)"
   ]
  },
  {
   "cell_type": "code",
   "execution_count": 30,
   "metadata": {},
   "outputs": [
    {
     "name": "stdout",
     "output_type": "stream",
     "text": [
      "abrigo\n"
     ]
    }
   ],
   "source": [
    "#2.Acceder al primer elemento: Accede al primer elemento de mi_tupla y guárdalo en una variable llamada primer_elemento.\n",
    "primer_elemento = mi_tupla[0]\n",
    "print(primer_elemento)"
   ]
  },
  {
   "cell_type": "code",
   "execution_count": 32,
   "metadata": {},
   "outputs": [
    {
     "name": "stdout",
     "output_type": "stream",
     "text": [
      "camisa\n"
     ]
    }
   ],
   "source": [
    "#3. Acceder al último elemento: Accede al último elemento de mi_tupla y guárdalo en una variable llamada ultimo_elemento.\n",
    "ultimo_elemento = mi_tupla[-1]\n",
    "print(ultimo_elemento)"
   ]
  },
  {
   "cell_type": "code",
   "execution_count": 33,
   "metadata": {},
   "outputs": [
    {
     "name": "stdout",
     "output_type": "stream",
     "text": [
      "('pantalon', 'vestido', 'bufanda')\n"
     ]
    }
   ],
   "source": [
    "#4. Acceder a un rango de elementos: Utilizando el slicing, crea una nueva tupla llamada sub_tupla que contenga los elementos desde el segundo hasta el cuarto de mi_tupla.\n",
    "sub_tupla = mi_tupla[1:4]\n",
    "print(sub_tupla)"
   ]
  },
  {
   "cell_type": "code",
   "execution_count": 36,
   "metadata": {},
   "outputs": [
    {
     "name": "stdout",
     "output_type": "stream",
     "text": [
      "('abrigo', 'pantalon', 'vestido', 'bufanda', 'camisa', 'fular', 'guantes', 'gorro', 'camiseta')\n"
     ]
    }
   ],
   "source": [
    "#5.Concatenar dos tuplas: Crea otra tupla llamada otra_tupla y concaténala con mi_tupla para formar una nueva tupla llamada tupla_concatenada.\n",
    "otra_tupla = (\"fular\", \"guantes\", \"gorro\", \"camiseta\")\n",
    "tupla_concatenacion = mi_tupla + otra_tupla\n",
    "print(tupla_concatenacion)"
   ]
  },
  {
   "cell_type": "code",
   "execution_count": 38,
   "metadata": {},
   "outputs": [
    {
     "name": "stdout",
     "output_type": "stream",
     "text": [
      "9\n"
     ]
    }
   ],
   "source": [
    "#6.Encontrar la longitud: Encuentra la longitud de tupla_concatenada y guárdala en una variable llamada longitud.\n",
    "longitud = len(tupla_concatenacion)\n",
    "print(longitud)"
   ]
  },
  {
   "cell_type": "code",
   "execution_count": 41,
   "metadata": {},
   "outputs": [
    {
     "name": "stdout",
     "output_type": "stream",
     "text": [
      "¿Está el siguiente elemento en mi lista mi_tupla?: True\n"
     ]
    }
   ],
   "source": [
    "#7. Buscar un elemento: Verifica si un elemento específico está presente en mi_tupla, por ejemplo, \"manzana\".\n",
    "elemento_especifico = \"vestido\" in mi_tupla\n",
    "print(\"¿Está el siguiente elemento en mi lista mi_tupla?:\", elemento_especifico)"
   ]
  },
  {
   "cell_type": "code",
   "execution_count": 43,
   "metadata": {},
   "outputs": [
    {
     "name": "stdout",
     "output_type": "stream",
     "text": [
      "1\n"
     ]
    }
   ],
   "source": [
    "#8. Contar elementos: Cuenta cuántas veces aparece un elemento específico en mi_tupla, por ejemplo, cuántas veces aparece \"pera\".\n",
    "conteo_elemento = mi_tupla.count(\"abrigo\")\n",
    "print(conteo_elemento)"
   ]
  },
  {
   "cell_type": "code",
   "execution_count": 45,
   "metadata": {},
   "outputs": [
    {
     "name": "stdout",
     "output_type": "stream",
     "text": [
      "Desempaquetado de tupla_nombres: Paco Ramirez\n"
     ]
    }
   ],
   "source": [
    "#9. Desempaquetar una tupla: Si tienes una tupla de nombres (nombre, apellido), desempaqueta los valores en dos variables separadas.\n",
    "tupla_nombres = (\"Paco\", \"Ramirez\")\n",
    "nombre, apellido = tupla_nombres\n",
    "print(\"Desempaquetado de tupla_nombres:\", nombre, apellido)"
   ]
  },
  {
   "cell_type": "code",
   "execution_count": 48,
   "metadata": {},
   "outputs": [
    {
     "name": "stdout",
     "output_type": "stream",
     "text": [
      "tupla_desde_lista: (10, 25, 30, 45, 50)\n"
     ]
    }
   ],
   "source": [
    "#10. Convertir una lista en tupla: Crea una lista de números y conviértela en una tupla llamada tupla_desde_lista.\n",
    "lista_numeros = [10, 25, 30, 45, 50]\n",
    "tupla_desde_lista = tuple(lista_numeros)\n",
    "print(\"tupla_desde_lista:\", tupla_desde_lista)"
   ]
  },
  {
   "cell_type": "markdown",
   "metadata": {},
   "source": [
    "# - EJERCICIOS DICCIONARIOS"
   ]
  },
  {
   "cell_type": "code",
   "execution_count": 49,
   "metadata": {},
   "outputs": [
    {
     "name": "stdout",
     "output_type": "stream",
     "text": [
      "{'apellido': 'Lopez'}\n"
     ]
    }
   ],
   "source": [
    "#1. Crear un diccionario: Crea un diccionario vacío llamado mi_diccionario con una key llamada apellido y que su value sea López.\n",
    "mi_diccionario = {\"apellido\": \"Lopez\"}\n",
    "print(mi_diccionario)"
   ]
  },
  {
   "cell_type": "code",
   "execution_count": 50,
   "metadata": {},
   "outputs": [
    {
     "name": "stdout",
     "output_type": "stream",
     "text": [
      "{'apellido': 'Lopez', 'nombre': 'Juan'}\n"
     ]
    }
   ],
   "source": [
    "#2.Agregar elementos: Agrega una clave-valor al diccionario mi_diccionario. Por ejemplo, agrega la clave \"nombre\" con el valor \"Juan\".\n",
    "mi_diccionario[\"nombre\"] = \"Juan\"\n",
    "print(mi_diccionario)"
   ]
  },
  {
   "cell_type": "code",
   "execution_count": 52,
   "metadata": {},
   "outputs": [
    {
     "name": "stdout",
     "output_type": "stream",
     "text": [
      "Juan\n"
     ]
    }
   ],
   "source": [
    "#3. Acceder a un valor: Accede al valor correspondiente a la clave \"nombre\" en mi_diccionario.\n",
    "valor_nombre = mi_diccionario[\"nombre\"]\n",
    "print(valor_nombre)"
   ]
  },
  {
   "cell_type": "code",
   "execution_count": 53,
   "metadata": {},
   "outputs": [
    {
     "name": "stdout",
     "output_type": "stream",
     "text": [
      "{'apellido': 'Lopez', 'nombre': 'Ana'}\n"
     ]
    }
   ],
   "source": [
    "#4. Modificar un valor: Cambia el valor de la clave \"nombre\" a \"Ana\".\n",
    "mi_diccionario[\"nombre\"] = \"Ana\"\n",
    "print(mi_diccionario)"
   ]
  },
  {
   "cell_type": "code",
   "execution_count": 54,
   "metadata": {},
   "outputs": [
    {
     "name": "stdout",
     "output_type": "stream",
     "text": [
      "{'apellido': 'Lopez'}\n"
     ]
    }
   ],
   "source": [
    "#5. Eliminar un elemento: Elimina la clave \"nombre\" de mi_diccionario.\n",
    "del mi_diccionario[\"nombre\"]\n",
    "print(mi_diccionario)"
   ]
  },
  {
   "cell_type": "code",
   "execution_count": 55,
   "metadata": {},
   "outputs": [
    {
     "name": "stdout",
     "output_type": "stream",
     "text": [
      "True\n"
     ]
    }
   ],
   "source": [
    "#6.Verificar existencia: Verifica si la clave \"apellido\" existe en mi_diccionario.\n",
    "existencia_apellido = \"apellido\" in mi_diccionario\n",
    "print(existencia_apellido)"
   ]
  },
  {
   "cell_type": "code",
   "execution_count": 59,
   "metadata": {},
   "outputs": [
    {
     "name": "stdout",
     "output_type": "stream",
     "text": [
      "['apellido']\n"
     ]
    }
   ],
   "source": [
    "#7.Obtener todas las claves: Obtén una lista de todas las claves en mi_diccionario.\n",
    "claves = list(mi_diccionario.keys())\n",
    "print(claves)"
   ]
  },
  {
   "cell_type": "code",
   "execution_count": 60,
   "metadata": {},
   "outputs": [
    {
     "name": "stdout",
     "output_type": "stream",
     "text": [
      "['Lopez']\n"
     ]
    }
   ],
   "source": [
    "#8. Obtener todos los valores: Obtén una lista de todos los valores en mi_diccionario.\n",
    "valores = list(mi_diccionario.values())\n",
    "print(valores)"
   ]
  },
  {
   "cell_type": "code",
   "execution_count": 61,
   "metadata": {},
   "outputs": [
    {
     "name": "stdout",
     "output_type": "stream",
     "text": [
      "apellido: Lopez\n"
     ]
    }
   ],
   "source": [
    "#9. Recorrer el diccionario: Usa un bucle for para recorrer y mostrar todas las claves y valores en mi_diccionario.\n",
    "for clave, valor in mi_diccionario.items():\n",
    "    print(f\"{clave}: {valor}\")"
   ]
  },
  {
   "cell_type": "code",
   "execution_count": 62,
   "metadata": {},
   "outputs": [
    {
     "name": "stdout",
     "output_type": "stream",
     "text": [
      "1\n"
     ]
    }
   ],
   "source": [
    "#10. Longitud del diccionario: Calcula la longitud (cantidad de elementos) de mi_diccionario.\n",
    "longitud_diccionario = len(mi_diccionario)\n",
    "print(longitud_diccionario)"
   ]
  },
  {
   "cell_type": "code",
   "execution_count": 63,
   "metadata": {},
   "outputs": [
    {
     "name": "stdout",
     "output_type": "stream",
     "text": [
      "{'apellido': 'Lopez'}\n"
     ]
    }
   ],
   "source": [
    "#11. Copiar un diccionario: Crea una copia de mi_diccionario llamada copia_diccionario.\n",
    "copia_diccionario = mi_diccionario.copy()\n",
    "print(copia_diccionario)"
   ]
  },
  {
   "cell_type": "code",
   "execution_count": 64,
   "metadata": {},
   "outputs": [
    {
     "name": "stdout",
     "output_type": "stream",
     "text": [
      "{}\n"
     ]
    }
   ],
   "source": [
    "#12. Eliminar elementos: Elimina todos los elementos de copia_diccionario.\n",
    "copia_diccionario.clear()\n",
    "print(copia_diccionario)"
   ]
  },
  {
   "cell_type": "code",
   "execution_count": 78,
   "metadata": {},
   "outputs": [
    {
     "name": "stdout",
     "output_type": "stream",
     "text": [
      "{'apellido': 'Lopez'}\n",
      "{'apellido': 'Lopez', 'Petra': 'Perez', 'Carmen': 'Gomez'}\n"
     ]
    }
   ],
   "source": [
    "#13. Combinar diccionarios: Crea otro diccionario llamado diccionario_combinado y combina mi_diccionario y copia_diccionario en él.\n",
    "diccionario_combinado = {\"Petra\": \"Perez\", \"Carmen\": \"Gomez\"}\n",
    "print(mi_diccionario)\n",
    "mi_diccionario.update(diccionario_combinado)\n",
    "print(mi_diccionario)"
   ]
  },
  {
   "cell_type": "code",
   "execution_count": 69,
   "metadata": {},
   "outputs": [
    {
     "name": "stdout",
     "output_type": "stream",
     "text": [
      "Desconocida\n"
     ]
    }
   ],
   "source": [
    "#14. Obtener valor predeterminado: Intenta acceder a la clave \"edad\" en mi_diccionario. Si no existe, muestra el valor predeterminado \"Desconocida\".\n",
    "valor_edad = mi_diccionario.get(\"edad\", \"Desconocida\")\n",
    "print(valor_edad)"
   ]
  },
  {
   "cell_type": "code",
   "execution_count": 73,
   "metadata": {},
   "outputs": [
    {
     "name": "stdout",
     "output_type": "stream",
     "text": [
      "{'a': 3, 'b': 6, 'c': 9}\n",
      "c\n"
     ]
    }
   ],
   "source": [
    "#15. Clave máxima: Encuentra la clave con el valor máximo en un diccionario que contenga pares clave-valor numéricos.\n",
    "diccionario_numerico = {\"a\": 3, \"b\": 6, \"c\":9}\n",
    "print(diccionario_numerico)\n",
    "clave_maxima = max(diccionario_numerico, key=diccionario_numerico.get)\n",
    "print(clave_maxima)"
   ]
  },
  {
   "cell_type": "markdown",
   "metadata": {},
   "source": [
    "# - EJERCICIOS SETS"
   ]
  },
  {
   "cell_type": "code",
   "execution_count": 93,
   "metadata": {},
   "outputs": [
    {
     "name": "stdout",
     "output_type": "stream",
     "text": [
      "mi set vacio es: set()\n"
     ]
    },
    {
     "data": {
      "text/plain": [
       "set"
      ]
     },
     "execution_count": 93,
     "metadata": {},
     "output_type": "execute_result"
    }
   ],
   "source": [
    "#1. Crear un conjunto vacío: Crea un conjunto llamado mi_set que esté vacío.\n",
    "mi_set = set()\n",
    "print(\"mi set vacio es:\", mi_set)\n",
    "type(mi_set)"
   ]
  },
  {
   "cell_type": "code",
   "execution_count": 100,
   "metadata": {},
   "outputs": [
    {
     "name": "stdout",
     "output_type": "stream",
     "text": [
      "mi set actualizado es: {1, 2, 3}\n"
     ]
    }
   ],
   "source": [
    "#1.5 Agregar elementos a un conjunto: Agrega los números 1, 2 y 3 al conjunto mi_set.\n",
    "mi_set.add(1)\n",
    "mi_set.add(2)\n",
    "mi_set.add(3)\n",
    "print(\"mi set actualizado es:\", mi_set)"
   ]
  },
  {
   "cell_type": "code",
   "execution_count": 105,
   "metadata": {},
   "outputs": [
    {
     "name": "stdout",
     "output_type": "stream",
     "text": [
      "{1, 2, 3}\n",
      "nuevo mi_set con eliminación del numero dos: {1, 3}\n"
     ]
    }
   ],
   "source": [
    "#2. Eliminar elementos de un conjunto: Elimina el número 2 del conjunto mi_set.\n",
    "mi_set = {1, 2, 3}\n",
    "print(mi_set)\n",
    "mi_set.remove(2)\n",
    "print(\"nuevo mi_set con eliminación del numero dos:\", mi_set)"
   ]
  },
  {
   "cell_type": "code",
   "execution_count": 106,
   "metadata": {},
   "outputs": [
    {
     "name": "stdout",
     "output_type": "stream",
     "text": [
      "{1, 2, 3}\n"
     ]
    },
    {
     "data": {
      "text/plain": [
       "True"
      ]
     },
     "execution_count": 106,
     "metadata": {},
     "output_type": "execute_result"
    }
   ],
   "source": [
    "#3. Verificar pertenencia: Comprueba si el número 3 está en mi_set y almacena el resultado en una variable llamada existe.\n",
    "mi_set = {1, 2, 3}\n",
    "print(mi_set)\n",
    "(3) in mi_set"
   ]
  },
  {
   "cell_type": "code",
   "execution_count": 107,
   "metadata": {},
   "outputs": [
    {
     "name": "stdout",
     "output_type": "stream",
     "text": [
      "{5}\n"
     ]
    }
   ],
   "source": [
    "#4. Operaciones de conjuntos: Crea dos conjuntos set1 y set2 con números y encuentra la intersección de ambos conjuntos.\n",
    "set1 = {1, 2, 3, 4, 5}\n",
    "set2 = {5, 6, 7, 8, 9}\n",
    "set4 = set1.intersection(set2)\n",
    "print(set4)"
   ]
  },
  {
   "cell_type": "code",
   "execution_count": 108,
   "metadata": {},
   "outputs": [
    {
     "name": "stdout",
     "output_type": "stream",
     "text": [
      "{1, 2, 3, 4, 5, 6, 7, 8, 9}\n"
     ]
    }
   ],
   "source": [
    "#5. Unión de conjuntos: Combina set1 y set2 para formar un nuevo conjunto que contenga todos los elementos de ambos.\n",
    "set1 = {1, 2, 3, 4, 5}\n",
    "set2 = {5, 6, 7, 8, 9}\n",
    "set5 = set1.union(set2)\n",
    "print(set5)"
   ]
  },
  {
   "cell_type": "code",
   "execution_count": 109,
   "metadata": {},
   "outputs": [
    {
     "name": "stdout",
     "output_type": "stream",
     "text": [
      "{1, 2, 3, 4}\n"
     ]
    }
   ],
   "source": [
    "#6. Diferencia de conjuntos: Encuentra los elementos que están en set1 pero no en set2.\n",
    "set1 = {1, 2, 3, 4, 5}\n",
    "set2 = {5, 6, 7, 8, 9}\n",
    "set6 = set1.difference(set2)\n",
    "print(set6)"
   ]
  },
  {
   "cell_type": "code",
   "execution_count": 110,
   "metadata": {},
   "outputs": [
    {
     "name": "stdout",
     "output_type": "stream",
     "text": [
      "False\n"
     ]
    }
   ],
   "source": [
    "#7. Comparación de conjuntos: Comprueba si set1 es un subconjunto de set2 y almacena el resultado en una variable llamada es_subconjunto.\n",
    "set1 = {1, 2, 3, 4, 5}\n",
    "set2 = {5, 6, 7, 8, 9}\n",
    "set7 = set1.issubset(set2)\n",
    "print(set7)"
   ]
  },
  {
   "cell_type": "code",
   "execution_count": 114,
   "metadata": {},
   "outputs": [
    {
     "name": "stdout",
     "output_type": "stream",
     "text": [
      "{1, 2, 3, 4, 5, 6, 7, 8, 9, 10, 11}\n"
     ]
    }
   ],
   "source": [
    "#8. Eliminar elementos duplicados: Dada una lista mi_lista con elementos duplicados, conviértela en un conjunto para eliminar los duplicados\n",
    "mi_lista10 = {1, 2, 8, 3, 4, 5, 5, 6, 7, 8, 2, 9, 10, 11}\n",
    "conjunto_sin_duplicados = set(mi_lista10)\n",
    "print(mi_lista10)"
   ]
  },
  {
   "cell_type": "code",
   "execution_count": 116,
   "metadata": {},
   "outputs": [
    {
     "name": "stdout",
     "output_type": "stream",
     "text": [
      "¿set1 y set2 son iguales?: False\n"
     ]
    }
   ],
   "source": [
    "#9. Comprobar igualdad de conjuntos: Compara si set1 y set2 son iguales y almacena el resultado en una variable llamada son_iguales.\n",
    "set1 = {1, 2, 3, 4, 5}\n",
    "set2 = {5, 6, 7, 8, 9}\n",
    "son_iguales = set1 == set2\n",
    "print(\"¿set1 y set2 son iguales?:\", son_iguales)"
   ]
  },
  {
   "cell_type": "markdown",
   "metadata": {},
   "source": [
    "# - EJERCICIOS SENTENCIA DE CONTROL"
   ]
  },
  {
   "cell_type": "code",
   "execution_count": 119,
   "metadata": {},
   "outputs": [
    {
     "name": "stdout",
     "output_type": "stream",
     "text": [
      "Es un triangulo isosceles\n"
     ]
    }
   ],
   "source": [
    "#1. Clasificación de triángulos: Pide al usuario que ingrese las longitudes de tres lados de un triángulo. Determina si el triángulo es equilátero (todos los lados iguales), isósceles (dos lados iguales), o escaleno (ningún lado igual).\n",
    "lado1 = float(input(\"Ingresa la longitud del primer lado: \"))\n",
    "lado2 = float(input(\"Ingresa la longitud del segundo lado: \"))\n",
    "lado3 = float(input(\"Ingresa la longitud del tercer lado: \"))\n",
    "if lado1 == lado2 == lado3:\n",
    "    print(\"Es un triangulo equilatero\")\n",
    "elif lado1 == lado2 or lado1 == lado3 or lado2 == lado3:\n",
    "    print(\"Es un triangulo isosceles\")\n",
    "else:\n",
    "    print(\"Es un triangulo escaleno\")"
   ]
  },
  {
   "cell_type": "code",
   "execution_count": 122,
   "metadata": {},
   "outputs": [
    {
     "name": "stdout",
     "output_type": "stream",
     "text": [
      "180.0 grados Fahrenheit son 82.22222222222223 grados Celsius.\n"
     ]
    }
   ],
   "source": [
    "#2. Conversión de temperatura: Crea un programa que permita al usuario convertir temperaturas entre Celsius y Fahrenheit. Pide al usuario que ingrese la temperatura y la unidad (C o F) y realiza la conversión.\n",
    "temperatura = float(input(\"Ingresa la temperatura: \"))\n",
    "unidad = input(\"Ingresa la unidad (C o F): \")\n",
    "\n",
    "if unidad.upper() == 'C':\n",
    "    temperatura_fahrenheit = (temperatura * 9/5) + 32\n",
    "    print(f\"{temperatura} grados Celsius son {temperatura_fahrenheit} grados Fahrenheit.\")\n",
    "elif unidad.upper() == 'F':\n",
    "    temperatura_celsius = (temperatura - 32) * 5/9\n",
    "    print(f\"{temperatura} grados Fahrenheit son {temperatura_celsius} grados Celsius.\")\n",
    "else:\n",
    "    print(\"Unidad no válida. Ingresa 'C' o 'F'.\")"
   ]
  },
  {
   "cell_type": "code",
   "execution_count": 1,
   "metadata": {},
   "outputs": [
    {
     "name": "stdout",
     "output_type": "stream",
     "text": [
      "No valido\n"
     ]
    }
   ],
   "source": [
    "temperatura = input()\n",
    "unidad = input()\n",
    "\n",
    "if unidad.upper() ==\"F\":\n",
    "    temperatura_celsius = (temperatura -32) *5/9\n",
    "    print(\"La temperatura en grados celsius son:\", temperatura_fahrenheit, \"en grados fahrenheit\")\n",
    "elif unidad.upper() == \"C\":\n",
    "    temperatura_fahrenheit = (temperatura *5/9)+32\n",
    "    print (\"La temperatura en grados fahrenheit son:\", temperatura_celsius, \"en grados celsius\")\n",
    "else:\n",
    "    print(\"No valido\")"
   ]
  },
  {
   "cell_type": "code",
   "execution_count": 133,
   "metadata": {},
   "outputs": [
    {
     "name": "stdout",
     "output_type": "stream",
     "text": [
      "\n",
      "1. Verificar saldo\n",
      "2. Depositar dinero\n",
      "3. Retirar dinero\n",
      "4. Salir\n",
      "Opción no válida. Inténtalo de nuevo.\n",
      "\n",
      "1. Verificar saldo\n",
      "2. Depositar dinero\n",
      "3. Retirar dinero\n",
      "4. Salir\n",
      "Opción no válida. Inténtalo de nuevo.\n",
      "\n",
      "1. Verificar saldo\n",
      "2. Depositar dinero\n",
      "3. Retirar dinero\n",
      "4. Salir\n",
      "Gracias por utilizar nuestro cajero automático. ¡Hasta luego!\n"
     ]
    }
   ],
   "source": [
    "#3. Cajero automático: Simula un cajero automático que permite a los usuarios verificar su saldo, depositar y retirar dinero. El programa debe mantener un registro del saldo actual.\n",
    "saldo = 1000  # Saldo inicial\n",
    "\n",
    "while True:\n",
    "    print(\"\\n1. Verificar saldo\")\n",
    "    print(\"2. Depositar dinero\")\n",
    "    print(\"3. Retirar dinero\")\n",
    "    print(\"4. Salir\")\n",
    "\n",
    "    opcion = int(input(\"Selecciona una opción: \"))\n",
    "    if opcion == 1:\n",
    "        print(f\"Tu saldo actual es: ${saldo}\")\n",
    "    elif opcion == 2:\n",
    "        deposito = float(input(\"Ingresa la cantidad a depositar: $\"))\n",
    "        saldo += deposito\n",
    "        print(f\"Depósito exitoso. Tu nuevo saldo es: ${saldo}\")\n",
    "    elif opcion == 3:\n",
    "        retiro = float(input(\"Ingresa la cantidad a retirar: $\"))\n",
    "        if retiro <= saldo:\n",
    "            saldo -= retiro\n",
    "            print(f\"Retiro exitoso. Tu nuevo saldo es: ${saldo}\")\n",
    "        else:\n",
    "            print(\"Saldo insuficiente.\")\n",
    "    elif opcion == 4:\n",
    "        print(\"Gracias por utilizar nuestro cajero automático. ¡Hasta luego!\")\n",
    "        break\n",
    "    else:\n",
    "        print(\"Opción no válida. Inténtalo de nuevo.\")"
   ]
  },
  {
   "cell_type": "code",
   "execution_count": 134,
   "metadata": {},
   "outputs": [
    {
     "name": "stdout",
     "output_type": "stream",
     "text": [
      "\n",
      "Precio original: $80.0\n",
      "Porcentaje de descuento: 20.0%\n",
      "Ahorro: $16.0\n",
      "Precio final después del descuento: $64.0\n"
     ]
    }
   ],
   "source": [
    "#4. Calculadora de descuento: Pide al usuario que ingrese el precio original de un producto y el porcentaje de descuento. Calcula el precio final después del descuento y muestra el ahorro.\n",
    "# Pide al usuario que ingrese el precio original y el porcentaje de descuento\n",
    "precio_original = float(input(\"Ingresa el precio original del producto: $\"))\n",
    "porcentaje_descuento = float(input(\"Ingresa el porcentaje de descuento: \"))\n",
    "\n",
    "# Calcula el precio final y el ahorro\n",
    "descuento = (porcentaje_descuento / 100) * precio_original\n",
    "precio_final = precio_original - descuento\n",
    "\n",
    "# Muestra los resultados\n",
    "print(f\"\\nPrecio original: ${precio_original}\")\n",
    "print(f\"Porcentaje de descuento: {porcentaje_descuento}%\")\n",
    "print(f\"Ahorro: ${descuento}\")\n",
    "print(f\"Precio final después del descuento: ${precio_final}\")\n"
   ]
  },
  {
   "cell_type": "code",
   "execution_count": null,
   "metadata": {},
   "outputs": [],
   "source": [
    "#5. Cálculo de promedio de calificaciones: Pide al usuario que ingrese una serie de calificaciones y calcule el promedio. También muestra si el estudiante aprobó (promedio mayor o igual a 5) o no. Pistas:\n",
    "# Solicita al usuario que ingrese 4 notas de calificaciones que quiere promediar.\n",
    "# Convierte el string en una lista de números.\n",
    "# Calcula el promedio de las calificaciones ingresadas.\n",
    "# Muestra el resultado del promedio con dos decimales.\n",
    "# Determina si el estudiante aprobó o no. Un estudiante se considera aprobado si su promedio es mayor o igual a 5."
   ]
  },
  {
   "cell_type": "code",
   "execution_count": 4,
   "metadata": {},
   "outputs": [
    {
     "name": "stdout",
     "output_type": "stream",
     "text": [
      "El promedio de las calificaciones es: 6.25\n",
      "El estudiante ha aprobado.\n"
     ]
    }
   ],
   "source": [
    "\n",
    "try:\n",
    "    # Solicita al usuario que ingrese las calificaciones separadas por espacios\n",
    "    calificaciones_str = input(\"Ingrese las 4 calificaciones separadas por espacios: \")\n",
    "    \n",
    "    # Convierte el string de calificaciones en una lista de números enteros\n",
    "    calificaciones = [float(calificacion) for calificacion in calificaciones_str.split()]\n",
    "\n",
    "    # Calcula el promedio de las calificaciones\n",
    "    promedio = sum(calificaciones) / len(calificaciones)\n",
    "\n",
    "    # Muestra el promedio con dos decimales\n",
    "    print(f\"El promedio de las calificaciones es: {promedio:.2f}\")\n",
    "\n",
    "    # Verifica si el estudiante aprobó o no\n",
    "    if promedio >= 5:\n",
    "        print(\"El estudiante ha aprobado.\")\n",
    "    else:\n",
    "        print(\"El estudiante ha reprobado.\")\n",
    "except ValueError:\n",
    "    print(\"Error: Ingresa calificaciones válidas como números separados por espacios.\")"
   ]
  },
  {
   "cell_type": "code",
   "execution_count": null,
   "metadata": {},
   "outputs": [],
   "source": [
    "#6. Generador de contraseñas seguras: Crea un programa que genere una contraseña segura. El usuario debe especificar la longitud deseada y si desea incluir números, letras mayúsculas, minúsculas y caracteres especiales. Pistas:\n",
    "# Pregunta al usuario cuántos caracteres debe tener la contraseña que desea generar.\n",
    "# Luego, consulta al usuario si quiere incluir números, letras mayúsculas, letras minúsculas y caracteres especiales en su contraseña.\n",
    "# Basado en las respuestas del usuario, crea una contraseña segura aleatoria que cumple con los criterios especificados.\n",
    "# Muestra la contraseña generada como resultado.\n",
    "# Este ejercicio le permite al usuario personalizar la fortaleza y complejidad de su contraseña según sus preferencias, lo que es esencial para mantener la seguridad en línea.\n",
    "\n",
    "import random\n",
    "import string\n",
    "\n",
    "# Creamos la funcion\n",
    "def generar_contrasena(longitud, incluir_numeros, incluir_mayusculas, incluir_minusculas, incluir_caracteres_especiales):\n",
    "    caracteres = ''\n",
    "    if incluir_numeros:\n",
    "        caracteres += string.digits\n",
    "    if incluir_mayusculas:\n",
    "        caracteres += string.ascii_uppercase\n",
    "    if incluir_minusculas:\n",
    "        caracteres += string.ascii_lowercase\n",
    "    if incluir_caracteres_especiales:\n",
    "        caracteres += string.punctuation\n",
    "\n",
    "    contrasena = ''.join(random.choice(caracteres) for _ in range(longitud))\n",
    "    return contrasena\n",
    "\n",
    "# Solicitar al usuario la longitud deseada de la contraseña\n",
    "longitud = int(input(\"Ingrese la longitud deseada de la contraseña: \"))\n",
    "\n",
    "# Consultar al usuario si quiere incluir números, letras mayúsculas, letras minúsculas y caracteres especiales\n",
    "incluir_numeros = input(\"¿Incluir números? (s/n): \").lower() == 's'\n",
    "incluir_mayusculas = input(\"¿Incluir letras mayúsculas? (s/n): \").lower() == 's'\n",
    "incluir_minusculas = input(\"¿Incluir letras minúsculas? (s/n): \").lower() == 's'\n",
    "incluir_caracteres_especiales = input(\"¿Incluir caracteres especiales? (s/n): \").lower() == 's'\n",
    "\n",
    "# Generar la contraseña segura\n",
    "contrasena_generada = generar_contrasena(longitud, incluir_numeros, incluir_mayusculas, incluir_minusculas, incluir_caracteres_especiales)\n",
    "\n",
    "# Mostrar la contraseña generada\n",
    "print(\"La contraseña generada es:\", contrasena_generada)"
   ]
  },
  {
   "cell_type": "code",
   "execution_count": null,
   "metadata": {},
   "outputs": [],
   "source": [
    "#7. Calculadora de edad de perros: Pide al usuario que ingrese la edad de su perro en años y calcula su edad equivalente en años humanos. La fórmula comúnmente utilizada es diferente para los primeros dos años y luego para el resto.\n",
    "# Creamos la función\n",
    "def calcular_edad_perro(edad_perro):\n",
    "    if edad_perro <= 0:\n",
    "        return \"La edad del perro debe ser un número positivo.\"\n",
    "    elif edad_perro == 1:\n",
    "        edad_humana = 15\n",
    "    elif edad_perro == 2:\n",
    "        edad_humana = 15 + 9\n",
    "    else:\n",
    "        edad_humana = 15 + 9 + (edad_perro - 2) * 5\n",
    "    return edad_humana\n",
    "\n",
    "# Solicitar al usuario la edad del perro\n",
    "try:\n",
    "    edad_perro = int(input(\"Ingresa la edad de tu perro en años: \"))\n",
    "    edad_humana = calcular_edad_perro(edad_perro)\n",
    "    print(f\"La edad equivalente de tu perro en años humanos es aproximadamente: {edad_humana} años.\")\n",
    "except ValueError:\n",
    "    print(\"Por favor, introduce un número entero para la edad de tu perro.\")"
   ]
  },
  {
   "cell_type": "code",
   "execution_count": null,
   "metadata": {},
   "outputs": [],
   "source": [
    "# #8. Simulador de ruleta: Simula un juego de ruleta en el que el usuario apuesta un monto en un número o color específico. Genera un número aleatorio y determina si el usuario gana o pierde.\n",
    "# Comienza por preguntar al usuario cuánto dinero quiere apostar en el juego de ruleta.\n",
    "# Luego, pregunta al usuario si quiere apostar a un número específico o a un color (rojo o negro).\n",
    "# Si el usuario elige apostar a un número, solicita que ingrese el número en el que quiere apostar (de 1 a 36, ya que son los números en una ruleta estándar).\n",
    "# Si el usuario elige apostar a un color, solicita que indique si desea apostar al color rojo o negro.\n",
    "# Genera un número aleatorio entre 1 y 36 para simular el resultado de la ruleta.\n",
    "# Comprueba si el resultado coincide con la apuesta del usuario (ya sea número o color).\n",
    "# Si coincide, el usuario gana un premio equivalente a su apuesta.\n",
    "# Si no coincide, el usuario pierde la apuesta.\n",
    "# Muestra el resultado del juego, indicando si el usuario ganó o perdió y cuánto dinero tiene después del juego.\n",
    "\n",
    "# Importamos la biblioteca random para generar números aleatorios\n",
    "import random\n",
    "\n",
    "#Creamos la función\n",
    "def jugar_ruleta():\n",
    "    dinero = float(input(\"¿Cuánto dinero quieres apostar en la ruleta? \"))  # Solicitamos al usuario que ingrese la cantidad de dinero que quiere apostar\n",
    "    if dinero <= 0:  # Verificamos si la cantidad apostada es negativa o igual a cero\n",
    "        print(\"No puedes apostar una cantidad negativa o igual a cero.\")\n",
    "        return\n",
    "\n",
    "    print(\"¿Quieres apostar a un número específico o a un color?\")  # Preguntamos al usuario si quiere apostar a un número o a un color\n",
    "    print(\"1. Apostar a un número\")\n",
    "    print(\"2. Apostar a un color\")\n",
    "    opcion = input(\"Ingrese su elección (1 o 2): \")  # Solicitamos la elección del usuario\n",
    "\n",
    "    if opcion == \"1\":  # Si el usuario elige apostar a un número\n",
    "        numero_apostado = int(input(\"Ingresa el número en el que quieres apostar (de 1 a 36): \"))  # Solicitamos al usuario que ingrese el número en el que quiere apostar\n",
    "        if numero_apostado < 1 or numero_apostado > 36:  # Verificamos si el número apostado está dentro del rango válido\n",
    "            print(\"Número inválido. Debe estar entre 1 y 36.\")\n",
    "            return\n",
    "        print(f\"Apostaste {dinero} euros al número {numero_apostado}.\")  # Confirmamos la apuesta del usuario\n",
    "    elif opcion == \"2\":  # Si el usuario elige apostar a un color\n",
    "        color_apostado = input(\"¿Quieres apostar al color rojo o negro? \").lower()  # Solicitamos al usuario que ingrese el color en el que quiere apostar\n",
    "        if color_apostado != \"rojo\" and color_apostado != \"negro\":  # Verificamos si la opción de color es válida\n",
    "            print(\"Opción de color inválida. Debe ser 'rojo' o 'negro'.\")\n",
    "            return\n",
    "        print(f\"Apostaste {dinero} euros al color {color_apostado}.\")  # Confirmamos la apuesta del usuario\n",
    "    else:  # Si el usuario elige una opción inválida\n",
    "        print(\"Opción inválida.\")\n",
    "        return\n",
    "\n",
    "    numero_ruleta = random.randint(1, 36)  # Generamos un número aleatorio entre 1 y 36 para simular el giro de la ruleta\n",
    "    print(\"La ruleta gira... el número ganador es:\", numero_ruleta)  # Mostramos el número ganador\n",
    "\n",
    "    if opcion == \"1\":  # Si el usuario apostó a un número\n",
    "        if numero_apostado == numero_ruleta:  # Si el número apostado coincide con el número ganador\n",
    "            premio = dinero * 36  # Calculamos el premio del usuario\n",
    "            print(\"¡Felicidades! Ganaste\", premio, \"euros.\")  # Mostramos el mensaje de felicitaciones\n",
    "            dinero += premio  # Actualizamos el dinero del usuario\n",
    "        else:  # Si el número apostado no coincide con el número ganador\n",
    "            print(\"Lo siento, perdiste tu apuesta.\")  # Mostramos el mensaje de que el usuario perdió la apuesta\n",
    "            dinero -= dinero  # Actualizamos el dinero del usuario a cero\n",
    "    else:  # Si el usuario apostó a un color\n",
    "        color_ganador = \"rojo\" if numero_ruleta % 2 == 1 else \"negro\"  # Determinamos el color ganador en función del número ganador\n",
    "        if color_apostado == color_ganador:  # Si el color apostado coincide con el color ganador\n",
    "            premio = dinero * 2  # Calculamos el premio del usuario\n",
    "            print(\"¡Felicidades! Ganaste\", premio, \"euros.\")  # Mostramos el mensaje de felicitaciones\n",
    "            dinero += premio  # Actualizamos el dinero del usuario\n",
    "        else:  # Si el color apostado no coincide con el color ganador\n",
    "            print(\"Lo siento, perdiste tu apuesta.\")  # Mostramos el mensaje de que el usuario perdió la apuesta\n",
    "            dinero -= dinero  # Actualizamos el dinero del usuario a cero\n",
    "\n",
    "    print(\"Dinero restante:\", dinero, \"euros.\")  # Mostramos la cantidad de dinero restante del usuario\n",
    "\n",
    "\n",
    "# Llamamos a la función para iniciar el juego\n",
    "jugar_ruleta()  "
   ]
  },
  {
   "cell_type": "markdown",
   "metadata": {},
   "source": [
    "# - EJERCICIOS WHILE"
   ]
  },
  {
   "cell_type": "code",
   "execution_count": 149,
   "metadata": {},
   "outputs": [
    {
     "name": "stdout",
     "output_type": "stream",
     "text": [
      "5\n",
      "---------\n",
      "4\n",
      "---------\n",
      "3\n",
      "---------\n",
      "2\n",
      "---------\n",
      "1\n",
      "---------\n",
      "0\n",
      "---------\n"
     ]
    }
   ],
   "source": [
    "#1. Contador Regresivo: Crea un programa que pida al usuario ingresar un número y luego cuente hacia abajo desde ese número hasta llegar a cero utilizando un bucle while.\n",
    "numero = int(input(\"Desde qué numero quieres empezar la cuenta:\"))\n",
    "\n",
    "while numero >= 0:\n",
    "    \n",
    "    print(numero)\n",
    "    print (\"---------\")\n",
    "\n",
    "    numero -=1"
   ]
  },
  {
   "cell_type": "code",
   "execution_count": 151,
   "metadata": {},
   "outputs": [
    {
     "name": "stdout",
     "output_type": "stream",
     "text": [
      "El numero es menor.Sigue intentandolo\n",
      "El numero es menor.Sigue intentandolo\n",
      "El numero es menor.Sigue intentandolo\n",
      "El numero es menor.Sigue intentandolo\n",
      "Lo has adivinado, bien hecho\n"
     ]
    }
   ],
   "source": [
    "#2. Adivina el Número: Genera un número aleatorio entre 1 y 20. Pide al usuario que adivine el número y proporciona pistas (mayor o menor) hasta que adivinen correctamente.\n",
    "import random\n",
    "adivinar_numero = random.randint(1,20)\n",
    "\n",
    "\n",
    "while True:\n",
    "    intento = int(input(\"Adivina un número del 1 al 20:\"))\n",
    "\n",
    "    if intento == adivinar_numero:\n",
    "        print(\"Lo has adivinado, bien hecho\")\n",
    "        break\n",
    "    elif intento < adivinar_numero:\n",
    "        print(\"El numero es mayor. Intentalo de nuevo\")\n",
    "    else:\n",
    "        print(\"El numero es menor.Sigue intentandolo\")\n"
   ]
  },
  {
   "cell_type": "code",
   "execution_count": 2,
   "metadata": {},
   "outputs": [
    {
     "name": "stdout",
     "output_type": "stream",
     "text": [
      "Resultado: 7.0\n"
     ]
    }
   ],
   "source": [
    "#3. Calculadora Simple: Desarrolla una calculadora que realice operaciones básicas (suma, resta, multiplicación, división) con dos números ingresados por el usuario. El programa debe permitir al usuario realizar cálculos continuos hasta que decida salir.\n",
    "while True:\n",
    "    # Pide al usuario ingresar dos números y la operación:\n",
    "    num1 = float(input(\"Ingresa el primer número:\"))\n",
    "    operacion = input(\"Ingresa la operación (+, -, *, /):\")\n",
    "    num2 = float(input(\"Ingresa el segundo número:\"))\n",
    "\n",
    "    # Realiza la operación\n",
    "    if operacion == '+':\n",
    "        resultado = num1 + num2\n",
    "    elif operacion == '-':\n",
    "        resultado = num1 - num2\n",
    "    elif operacion == '*':\n",
    "        resultado = num1 * num2\n",
    "    elif operacion == '/':\n",
    "        resultado = num1 / num2\n",
    "    else:\n",
    "        print(\"Operación no válida. Inténtalo de nuevo.\")\n",
    "        continue\n",
    "\n",
    "    # Muestra el resultado\n",
    "    print(f\"Resultado: {resultado}\")\n",
    "\n",
    "    # Pregunta al usuario si desea realizar otra operación\n",
    "    continuar = input(\"¿Quieres hacer otra operación? (s/n): \")\n",
    "    if continuar.lower() != 's':\n",
    "        break\n"
   ]
  },
  {
   "cell_type": "code",
   "execution_count": 3,
   "metadata": {},
   "outputs": [
    {
     "name": "stdout",
     "output_type": "stream",
     "text": [
      "Resultado de la conversión: 7.0\n"
     ]
    }
   ],
   "source": [
    "#4. Conversión de Unidades: Crea un programa que convierta entre diferentes unidades de medida (por ejemplo, de grados Celsius a grados Fahrenheit o de kilómetros a millas). El usuario debe ingresar los valores y las unidades de origen y destino, y el programa realizará la conversión hasta que el usuario decida detenerse.\n",
    "while True:\n",
    "    # Pide al usuario ingresar valores y unidades de origen y destino\n",
    "    valor = float(input(\"Ingresa el valor a convertir:\"))\n",
    "    unidad_origen = input(\"Ingresa la unidad de origen:\")\n",
    "    unidad_destino = input(\"Ingresa la unidad de destino:\")\n",
    "\n",
    "    # Realiza la conversión\n",
    "    if unidad_origen.lower() == 'c' and unidad_destino.lower() == 'f':\n",
    "        resultado = (valor * 9/5) + 32\n",
    "    elif unidad_origen.lower() == 'f' and unidad_destino.lower() == 'c':\n",
    "        resultado = (valor - 32) * 5/9\n",
    "    # Agrega más conversiones según sea necesario\n",
    "\n",
    "    # Muestra el resultado\n",
    "    print(f\"Resultado de la conversión: {resultado}\")\n",
    "\n",
    "    # Pregunta al usuario si desea realizar otra conversión\n",
    "    continuar = input(\"¿Quieres hacer otra conversión? (s/n): \")\n",
    "    if continuar.lower() != 's':\n",
    "        break\n"
   ]
  }
 ],
 "metadata": {
  "kernelspec": {
   "display_name": "Python 3",
   "language": "python",
   "name": "python3"
  },
  "language_info": {
   "codemirror_mode": {
    "name": "ipython",
    "version": 3
   },
   "file_extension": ".py",
   "mimetype": "text/x-python",
   "name": "python",
   "nbconvert_exporter": "python",
   "pygments_lexer": "ipython3",
   "version": "3.9.12"
  }
 },
 "nbformat": 4,
 "nbformat_minor": 2
}
