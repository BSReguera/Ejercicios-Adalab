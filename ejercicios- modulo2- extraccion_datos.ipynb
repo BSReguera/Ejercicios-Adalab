{
 "cells": [
  {
   "cell_type": "markdown",
   "metadata": {},
   "source": [
    "# Ejercicios Modulo 2 - Sprint 1 - EXTRACCION DE DATOS\n",
    "\n",
    "# -- APIS --\n",
    "\n",
    "1.  Utilizando la API de Balldontlie extrae la siguiente información. \n",
    "\n",
    "    - El nombre, apellido y equipo de cada uno de los jugadores que tenemos en la NBA. Para eso tendrás que usar el [siguiente](https://www.balldontlie.io/home.html#players) endpoint. Extrae información de 200 jugadores. Devuelve los resultados en un DataFrame. Te deberá quedar algo parecido a esto:\n",
    "\n",
    "        ![jugadores](https://github.com/Adalab/data_imagenes/blob/main/Modulo-2/api's_clase_invertida_jugadores.png?raw=true)\n",
    "\n",
    "\n",
    "    - Extrae información de todos los partidos jugados, en concreto deberás sacar la información del nombre del equipo local, nombre del equipo visitante, puntos del equipo local y del visitante y la temporada a la que pertenece el partido. Para eso tendrás que usar el [siguiente](https://www.balldontlie.io/home.html#get-all-games) endpoint. Extrae la información de 200 partidos. Devuelve los resultados en un DataFrame. Te deberá quedar algo parecido a esto: \n",
    "\n",
    "        ![partidos](https://github.com/Adalab/data_imagenes/blob/main/Modulo-2/api's_clase_invertida_partidos.png?raw=true)"
   ]
  },
  {
   "cell_type": "code",
   "execution_count": 1,
   "metadata": {},
   "outputs": [
    {
     "name": "stdout",
     "output_type": "stream",
     "text": [
      "Requirement already satisfied: requests in c:\\users\\bsanc\\anaconda3\\lib\\site-packages (2.31.0)\n",
      "Requirement already satisfied: charset-normalizer<4,>=2 in c:\\users\\bsanc\\anaconda3\\lib\\site-packages (from requests) (2.0.4)\n",
      "Requirement already satisfied: idna<4,>=2.5 in c:\\users\\bsanc\\anaconda3\\lib\\site-packages (from requests) (3.4)\n",
      "Requirement already satisfied: urllib3<3,>=1.21.1 in c:\\users\\bsanc\\anaconda3\\lib\\site-packages (from requests) (1.26.16)\n",
      "Requirement already satisfied: certifi>=2017.4.17 in c:\\users\\bsanc\\anaconda3\\lib\\site-packages (from requests) (2023.7.22)\n",
      "Requirement already satisfied: pandas in c:\\users\\bsanc\\anaconda3\\lib\\site-packages (2.0.3)\n",
      "Requirement already satisfied: python-dateutil>=2.8.2 in c:\\users\\bsanc\\anaconda3\\lib\\site-packages (from pandas) (2.8.2)\n",
      "Requirement already satisfied: pytz>=2020.1 in c:\\users\\bsanc\\anaconda3\\lib\\site-packages (from pandas) (2023.3.post1)\n",
      "Requirement already satisfied: tzdata>=2022.1 in c:\\users\\bsanc\\anaconda3\\lib\\site-packages (from pandas) (2023.3)\n",
      "Requirement already satisfied: numpy>=1.21.0 in c:\\users\\bsanc\\anaconda3\\lib\\site-packages (from pandas) (1.24.3)\n",
      "Requirement already satisfied: six>=1.5 in c:\\users\\bsanc\\anaconda3\\lib\\site-packages (from python-dateutil>=2.8.2->pandas) (1.16.0)\n"
     ]
    }
   ],
   "source": [
    "# Instalación herramientas necesarias\n",
    "!pip install requests\n",
    "!pip install pandas"
   ]
  },
  {
   "cell_type": "code",
   "execution_count": 2,
   "metadata": {},
   "outputs": [],
   "source": [
    "# Libreria para exploración y trasnformación de datos\n",
    "import pandas as pd\n",
    "# Libreria para interactuar con las Apis\n",
    "import requests\n",
    "import re\n",
    "\n",
    "# Configuración para poder visualizar todas las columnas de los DataFrames\n",
    "pd.set_option('display.max_columns', None) "
   ]
  },
  {
   "cell_type": "code",
   "execution_count": 3,
   "metadata": {},
   "outputs": [],
   "source": [
    "# El nombre, apellido y equipo de cada uno de los jugadores que tenemos en la NBA. Para eso tendrás que usar el [siguiente](https://www.balldontlie.io/home.html#players) endpoint. Extrae información de 200 jugadores. Devuelve los resultados en un DataFrame.\n",
    "\n",
    "# Definir la url o endpoint a la que haremos la llamada\n",
    "url_infojugadores = \"https://www.balldontlie.io/api/v1/players\""
   ]
  },
  {
   "cell_type": "code",
   "execution_count": 4,
   "metadata": {},
   "outputs": [
    {
     "name": "stdout",
     "output_type": "stream",
     "text": [
      "La llamada a la API nos ha dado una respuesta de tipo: 200\n"
     ]
    }
   ],
   "source": [
    "# Realiza una solicitud GET a la URL proporcionada y almacena la respuesta en 'llamada'.\n",
    "llamada_jugadores = requests.get(url_infojugadores)\n",
    "    \n",
    "# Llamamos y Imprime el código de estado de la respuesta.\n",
    "llamada_jugadores.status_code\n",
    "print(f\"La llamada a la API nos ha dado una respuesta de tipo: {llamada_jugadores.status_code}\")  "
   ]
  },
  {
   "cell_type": "code",
   "execution_count": null,
   "metadata": {},
   "outputs": [],
   "source": [
    "jugadores_json = llamada_jugadores.json()\n",
    "jugadores_json"
   ]
  },
  {
   "cell_type": "code",
   "execution_count": null,
   "metadata": {},
   "outputs": [],
   "source": [
    "len(jugadores_json)\n",
    "jugadores_json.keys()"
   ]
  },
  {
   "cell_type": "code",
   "execution_count": null,
   "metadata": {},
   "outputs": [],
   "source": [
    "len(jugadores_json[\"data\"])"
   ]
  },
  {
   "cell_type": "code",
   "execution_count": null,
   "metadata": {},
   "outputs": [],
   "source": [
    "len(jugadores_json[\"data\"][12])"
   ]
  },
  {
   "cell_type": "code",
   "execution_count": null,
   "metadata": {},
   "outputs": [],
   "source": [
    "jugadores_json[\"data\"][0]"
   ]
  },
  {
   "cell_type": "code",
   "execution_count": null,
   "metadata": {},
   "outputs": [],
   "source": [
    "# Comprobar la estabilidad de los datos\n",
    "long = 9\n",
    "\n",
    "lista_errores = []\n",
    "\n",
    "for indice, longitud in enumerate(jugadores_json[\"data\"]):\n",
    "    \n",
    "    if len(longitud) != long:\n",
    "        lista_errores.append(indice)\n",
    "\n",
    "lista_errores[:3]"
   ]
  },
  {
   "cell_type": "code",
   "execution_count": null,
   "metadata": {},
   "outputs": [],
   "source": [
    "jugadores_json[\"data\"][0].keys()"
   ]
  },
  {
   "cell_type": "code",
   "execution_count": null,
   "metadata": {},
   "outputs": [],
   "source": [
    "j = {\"nombres\": [], \"apellidos\": [], \"equipo\": []}\n",
    "\n",
    "for pag in range(1,9):\n",
    "    url = f\"https://www.balldontlie.io/api/v1/players?page={pag}\"# Para que me imprima mas paginas\n",
    "    jugadores = requests.get(url)\n",
    "    res_jugadores = jugadores.json()\n",
    "    \n",
    "    for jug in jugadores_json[\"data\"]:\n",
    "        nombre = jugadores[\"first_name\"] # [\"data\"][0][\"team\"][\"full_name\"]\n",
    "        apellidos = jugadores[\"last_name\"] # [\"data\"][0][\"team\"][\"last_name\"]\n",
    "        equipo = jugadores[\"team\"][\"full_name\"] # [\"data\"][0][\"team\"][\"full_name\"]\n",
    "    j[\"nombres\"].append(nombre)\n",
    "    j[\"apellidos\"].append(apellidos)\n",
    "    j[\"equipo\"].append(equipo)\n"
   ]
  },
  {
   "cell_type": "code",
   "execution_count": null,
   "metadata": {},
   "outputs": [],
   "source": [
    "j.keys()"
   ]
  },
  {
   "cell_type": "code",
   "execution_count": null,
   "metadata": {},
   "outputs": [],
   "source": [
    "pd.DataFrame(j)"
   ]
  },
  {
   "cell_type": "code",
   "execution_count": null,
   "metadata": {},
   "outputs": [],
   "source": [
    "df_jugadores = pd.DataFrame()\n",
    "df_jugadores"
   ]
  },
  {
   "cell_type": "code",
   "execution_count": null,
   "metadata": {},
   "outputs": [],
   "source": [
    "print(jugadores_json[\"data\"][0][\"first_name\"])\n",
    "print(jugadores_json[\"data\"][0][\"last_name\"])\n",
    "print(jugadores_json[\"data\"][0][\"team\"][\"full_name\"])"
   ]
  },
  {
   "cell_type": "code",
   "execution_count": null,
   "metadata": {},
   "outputs": [],
   "source": [
    "# Extraer información de todos los partidos jugados, en concreto deberás sacar la información del nombre del equipo local, nombre del equipo visitante, puntos del equipo local y del visitante y la temporada a la que pertenece el partido. Para eso tendrás que usar el [siguiente](https://www.balldontlie.io/home.html#get-all-games) endpoint. Extrae la información de 200 partidos. Devuelve los resultados en un DataFrame.                                                                                                                                                                                                                                                             \n",
    "url_partidos = \"https://www.balldontlie.io/api/v1/games\"                                                                                                                                                                                                                                                            "
   ]
  },
  {
   "cell_type": "code",
   "execution_count": null,
   "metadata": {},
   "outputs": [],
   "source": [
    "# Realiza una solicitud GET a la URL proporcionada y almacena la respuesta.\n",
    "llamada33 = requests.get(url_partidos)\n",
    "    \n",
    "# Llamamos y Imprime el código de estado de la respuesta.\n",
    "llamada33.status_code\n",
    "print(f\"La llamada a la API nos ha dado una respuesta de tipo: {llamada33.status_code}\") "
   ]
  },
  {
   "cell_type": "code",
   "execution_count": null,
   "metadata": {},
   "outputs": [],
   "source": [
    "datos = llamada33.json()"
   ]
  },
  {
   "cell_type": "code",
   "execution_count": null,
   "metadata": {},
   "outputs": [],
   "source": [
    "def obtener_info_partidos():\n",
    "    partidos = datos[\"data\"]\n",
    "    \n",
    "for partido in \n",
    "    equipo_local = partido[\"home_team\"][\"full_name\"]\n",
    "    equipo_visitante = partido[\"visitor_team\"][\"full_name\"]\n",
    "    puntos_equipo_local = partido[\"home_team_score\"]\n",
    "    puntos_equipo_visitante = partido[\"visitor_team_score\"]\n",
    "    temporada = partido[\"season\"] "
   ]
  },
  {
   "cell_type": "code",
   "execution_count": null,
   "metadata": {},
   "outputs": [],
   "source": [
    "df_partidos = pd.Dataframe()\n",
    "df_partidos"
   ]
  },
  {
   "cell_type": "code",
   "execution_count": null,
   "metadata": {},
   "outputs": [],
   "source": [
    "print(df_partidos.head())"
   ]
  },
  {
   "cell_type": "markdown",
   "metadata": {},
   "source": [
    "# -- WEB SCRAPPING- BEAUTIFUL SOUP --"
   ]
  },
  {
   "cell_type": "markdown",
   "metadata": {},
   "source": [
    "# Ejercicios: \n",
    "\n",
    "1. Usa la [siguiente](https://es.wikipedia.org/wiki/Anexo:Medallero_de_los_Juegos_Ol%C3%ADmpicos_de_Tokio_2020) página web.\n",
    "\n",
    "2. Extrae la tabla de las medallas olímpicas que tenéis en la página web.\n",
    "\n",
    "3. Mete todo el código de la extracción de datos en una función.\n",
    "\n",
    "4. Los resultados deben estar en un *DataFrame* y hacer una exploración básica con los métodos aprendidos en la lección. "
   ]
  },
  {
   "cell_type": "code",
   "execution_count": null,
   "metadata": {},
   "outputs": [],
   "source": [
    "# Instalación de herramientas\n",
    "!pip install beautifulsoup4"
   ]
  },
  {
   "cell_type": "code",
   "execution_count": null,
   "metadata": {},
   "outputs": [],
   "source": [
    "#  Importar para web scraping y manipulación de datos\n",
    "from bs4 import BeautifulSoup\n",
    "import requests\n",
    "\n",
    "# Importar librerías para manipulación y análisis de datos\n",
    "import pandas as pd\n",
    "\n",
    "# Importar librerías para procesamiento de texto\n",
    "import re"
   ]
  },
  {
   "cell_type": "code",
   "execution_count": null,
   "metadata": {},
   "outputs": [],
   "source": [
    "# 1. Usar la pagina web\n",
    "url_medallas = \"https://es.wikipedia.org/wiki/Anexo:Medallero_de_los_Juegos_Ol%C3%ADmpicos_de_Tokio_2020\""
   ]
  },
  {
   "cell_type": "code",
   "execution_count": null,
   "metadata": {},
   "outputs": [],
   "source": [
    "# 2. Extraer la tabla de las medallas olimpicas\n",
    "\n",
    "# Request a la página de la que queremos sacar la info\n",
    "res_medallas = requests.get(url_medallas)\n",
    "\n",
    "print(\"La respuesta de la petición es:\", res_medallas.status_code)"
   ]
  },
  {
   "cell_type": "code",
   "execution_count": null,
   "metadata": {},
   "outputs": [],
   "source": [
    "# Creamos el objeto BeautifulSoup para poder acceder al contenido solicitado\n",
    "sopa_medallas = BeautifulSoup(res_medallas.content, 'html.parser')\n",
    "\n",
    "# recordemos que el método .prettify nos permite mostrar de una forma más amigable los resultados obtenidos de la sopa\n",
    "print(sopa_medallas.prettify())"
   ]
  },
  {
   "cell_type": "code",
   "execution_count": null,
   "metadata": {},
   "outputs": [],
   "source": [
    "# Uso del metodo \".find_all()\", para buscartodas las tablas de la página web.\n",
    "tablas2 = sopa_medallas.find_all(\"table\")\n",
    "print(\"El número de tablas que tenemos en la página web es:\", len(tablas2))"
   ]
  },
  {
   "cell_type": "code",
   "execution_count": null,
   "metadata": {},
   "outputs": [],
   "source": [
    "# Ver que tenemos en cada una de las tablas que hemos extraído de la página web. \n",
    "print(\"En la tabla 1 tenemos: \\n \", tablas2[0])\n",
    "print(\"\\n---------------------\\n\")"
   ]
  },
  {
   "cell_type": "code",
   "execution_count": null,
   "metadata": {},
   "outputs": [],
   "source": [
    "print(\"En la tabla 2 tenemos: \\n\", tablas2[1])\n",
    "print(\"\\n---------------------\\n\")"
   ]
  },
  {
   "cell_type": "code",
   "execution_count": null,
   "metadata": {},
   "outputs": [],
   "source": [
    "# La tabla que nos interesa es la primera, por ello creamos una nueva variable para almacenar los resultados de la tabla\n",
    "tabla_seleccionada = tablas2[0]\n",
    "\n",
    "# Primero, extraer los encabezados de la tabla, seleccionaremos la etiqueta \"th\" usando el método \"th\"\n",
    "lista_conencabezados = tabla_seleccionada.find_all(\"th\")\n",
    "\n",
    "print(\"La lista que nos devuelve el metodo '.find_all()' es:\\n\", lista_conencabezados)\n",
    "\n",
    "# Iteramos por la lista obtenida y extraemos el texto de cada elemento\n",
    "encabezados_medallas = [columna.text for columna in lista_conencabezados]\n",
    "\n",
    "print(\"Los encabezados de la tabla son:\", encabezados_medallas)"
   ]
  },
  {
   "cell_type": "code",
   "execution_count": null,
   "metadata": {},
   "outputs": [],
   "source": [
    "# La tabla que nos interesa es la primera, por ello creamos una nueva variable para almacenar los resultados de la tabla\n",
    "tabla_seleccionada = tablas2[0]\n",
    "\n",
    "# Primero, extraer los encabezados de la tabla, seleccionaremos la etiqueta \"th\" usando el método \"th\"\n",
    "lista_conencabezados = tabla_seleccionada.find_all(\"th\")\n",
    "\n",
    "print(\"La lista que nos devuelve el metodo '.find_all()' es:\\n\", lista_conencabezados)\n",
    "\n",
    "# Iteramos por la lista obtenida y extraemos el texto de cada elemento\n",
    "encabezados_medallas = [columna.text for columna in lista_conencabezados]\n",
    "\n",
    "print(\"Los encabezados de la tabla son:\", encabezados_medallas)"
   ]
  },
  {
   "cell_type": "code",
   "execution_count": null,
   "metadata": {},
   "outputs": [],
   "source": [
    "# Comprobacion de las filas\n",
    "filas_medallas[65]"
   ]
  },
  {
   "cell_type": "code",
   "execution_count": null,
   "metadata": {},
   "outputs": [],
   "source": [
    "# Creamos una lista llamada 'resultados_medallas' para almacenar los resultados obtenidos.\n",
    "resultados_medallas = []\n",
    "\n",
    "# Iniciamos un bucle 'for' para iterar a través de la lista 'filas_ibex', pero comenzamos desde el segundo elemento de la lista.\n",
    "for fila in filas_medallas[1:]:\n",
    "    # Para cada 'fila', extraemos el texto, lo dividimos en una lista usando '\\n' como separador y eliminamos el primer y último elemento de la lista.\n",
    "    fila_texto = fila.text\n",
    "    elementos_fila = fila_texto.split(\"\\n\")[1:-1]\n",
    "\n",
    "    # Añadimos la lista de elementos a la lista 'resultados_ibex'.\n",
    "    resultados_medallas.append(elementos_fila)\n",
    "\n",
    "# Imprimimos los resultados obtenidos después de iterar por la lista.\n",
    "print(\"Los resultados de iterar por la lista son:\\n\", resultados_medallas)\n"
   ]
  },
  {
   "cell_type": "code",
   "execution_count": null,
   "metadata": {},
   "outputs": [],
   "source": [
    "# Iteramos a través de cada lista en 'resultados_medallas' y sus elementos usando 'enumerate'.\n",
    "for indice_lista, lista in enumerate(resultados_medallas):\n",
    "    for indice_elemento, elemento in enumerate(lista):\n",
    "        try:\n",
    "            # Intentamos convertir cada elemento de la lista en un número de punto flotante.\n",
    "            # Para ello, eliminamos caracteres especiales como '%' y reformateamos la puntuación.\n",
    "            resultados_medallas[indice_lista][indice_elemento] = float(elemento.replace(\"\\xa0\", \"\")).strip()\n",
    "        except:\n",
    "            # Si se produce una excepción (por ejemplo, si el elemento no es convertible a flotante), \n",
    "            # mantenemos el elemento original en la lista.\n",
    "            resultados_medallas[indice_lista][indice_elemento] = elemento\n",
    "            \n",
    "# Imprimimos los resultados después de limpiar los datos.\n",
    "print(\"Los resultados después de limpiar los datos son: \\n\", resultados_medallas)"
   ]
  },
  {
   "cell_type": "code",
   "execution_count": null,
   "metadata": {},
   "outputs": [],
   "source": [
    "# 3. Mete todo el código de la extracción de datos en una función.\n",
    "# Creamos la funcion con todo el codigo\n",
    "def sacar_datos_medallas(url):\n",
    "    res_medallas = requests.get(url)\n",
    "    \n",
    "    print(f\"La respuesta de la petición es: {res_medallas.status_code}\")\n",
    "    \n",
    "    sopa_medallas = BeautifulSoup(res_medallas.content, 'html.parser')\n",
    "    \n",
    "    tablas2 = sopa_medallas.find_all(\"table\")\n",
    "    \n",
    "    tabla_seleccionada = tablas2[0]\n",
    "    \n",
    "    lista_conencabezados = tabla_seleccionada.find_all(\"th\")\n",
    "    encabezados_medallas = [columna.text for columna in lista_conencabezados]\n",
    "    \n",
    "    filas_medallas = tabla_seleccionada.find_all(\"tr\")\n",
    "    \n",
    "    resultados_medallas = []\n",
    "    \n",
    "    for fila in filas_medallas[1:]:\n",
    "        fila_texto = fila.text\n",
    "        resultados_medallas.append(fila_texto.split(\"\\n\")[1:-1])\n",
    "    \n",
    "    for indice_lista, lista in enumerate(resultados_medallas):\n",
    "        for indice_elemento, elemento in enumerate(lista):\n",
    "            try:\n",
    "                # Intentamos convertir cada elemento de la lista en un número de punto flotante.\n",
    "                # Para ello, eliminamos caracteres especiales como '%' y reformateamos la puntuación.\n",
    "                resultados_medallas[indice_lista][indice_elemento] = float(elemento.replace(\"%\", \"\").replace(\".\", \"\").replace(\",\", \".\"))\n",
    "            except:\n",
    "                # Si se produce una excepción (por ejemplo, si el elemento no es convertible a flotante), \n",
    "                # mantenemos el elemento original en la lista.\n",
    "                resultados_medallas[indice_lista][indice_elemento] = elemento\n",
    "    return encabezados_medallas, resultados_medallas"
   ]
  },
  {
   "cell_type": "code",
   "execution_count": null,
   "metadata": {},
   "outputs": [],
   "source": [
    "encabezados_medallas_final, resultados_medallas_final = sacar_datos_medallas(\"https://es.wikipedia.org/wiki/Anexo:Medallero_de_los_Juegos_Ol%C3%ADmpicos_de_Tokio_2020\")"
   ]
  },
  {
   "cell_type": "code",
   "execution_count": null,
   "metadata": {},
   "outputs": [],
   "source": [
    "encabezados_medallas_final"
   ]
  },
  {
   "cell_type": "code",
   "execution_count": null,
   "metadata": {},
   "outputs": [],
   "source": [
    "resultados_medallas_final"
   ]
  },
  {
   "cell_type": "code",
   "execution_count": null,
   "metadata": {},
   "outputs": [],
   "source": [
    "# 4. Los resultados deben estar en un *DataFrame* y hacer una exploración básica con los métodos aprendidos en la lección.\n",
    "df_medallas = pd.DataFrame(resultados_medallas_final)\n",
    "df_medallas"
   ]
  },
  {
   "cell_type": "code",
   "execution_count": null,
   "metadata": {},
   "outputs": [],
   "source": [
    "df_medallas.columns = encabezados_medallas_final\n",
    "df_medallas.head()"
   ]
  },
  {
   "cell_type": "code",
   "execution_count": null,
   "metadata": {},
   "outputs": [],
   "source": [
    "# Exploración de los métodos aprendidos:\n",
    "# Usar el método .head() para mostrar las 5 primeras filas del dataframe generado\n",
    "df_medallas.head()"
   ]
  },
  {
   "cell_type": "code",
   "execution_count": null,
   "metadata": {},
   "outputs": [],
   "source": [
    "# Usar del métdoo tail() para sacar las últimas filas del dataframe.\n",
    "df_medallas.tail()"
   ]
  },
  {
   "cell_type": "code",
   "execution_count": null,
   "metadata": {},
   "outputs": [],
   "source": [
    "# Usar del método.shape, nos devuelve una tupla con dos elementos. 1º elemneto = fila y 2º elemento = columnas\n",
    "df_medallas.shape"
   ]
  },
  {
   "cell_type": "code",
   "execution_count": null,
   "metadata": {},
   "outputs": [],
   "source": [
    "# Usar del método .dtypes para ver el tipo de dato de cada columna. NOTA: en Pandas los strings son mostrados como tipo \"object\"\n",
    "df_medallas.dtypes"
   ]
  },
  {
   "cell_type": "code",
   "execution_count": null,
   "metadata": {},
   "outputs": [],
   "source": [
    "# Usar del método \".info()\", para juntar toda la información \n",
    "df_medallas.info()"
   ]
  },
  {
   "cell_type": "code",
   "execution_count": null,
   "metadata": {},
   "outputs": [],
   "source": [
    "# Usar el método \".describe()\" para extraer los principales estadísticas de nuestro conjunto de datos. Por defecto devuelve los principales estadísticos de las variables de tipo numérico.\n",
    "df_medallas.describe().T"
   ]
  },
  {
   "cell_type": "code",
   "execution_count": null,
   "metadata": {},
   "outputs": [],
   "source": [
    "# Usar \"include\" para saber los principales estadísticos de las variables categóricas, incluir un parámetro en el método \".describe()\"\n",
    "df_medallas.describe(include = \"object\").T"
   ]
  },
  {
   "cell_type": "code",
   "execution_count": null,
   "metadata": {},
   "outputs": [],
   "source": [
    "# Usar el método \".isnull()\" para saber si tenemos valores nulos en nuestro conjunto de datos. \n",
    "df_medallas.isnull().sum()"
   ]
  },
  {
   "cell_type": "code",
   "execution_count": null,
   "metadata": {},
   "outputs": [],
   "source": [
    "# Usar el metodo \"duplicated()\" para saber su tenemos algun dato duplicado\n",
    "df_medallas.duplicated().sum()"
   ]
  },
  {
   "cell_type": "code",
   "execution_count": null,
   "metadata": {},
   "outputs": [],
   "source": [
    "# Usar los corchetes e introducir la columna en concreto que queremos ver\n",
    "df_medallas[\"total\"].unique()"
   ]
  },
  {
   "cell_type": "code",
   "execution_count": null,
   "metadata": {},
   "outputs": [],
   "source": [
    "# Guardar la informacion de df\n",
    "\n",
    "# df_medallas.to_csv(\"sacar_datos_medallas\")"
   ]
  },
  {
   "cell_type": "markdown",
   "metadata": {},
   "source": [
    "# -- SELENIUM --"
   ]
  },
  {
   "cell_type": "markdown",
   "metadata": {},
   "source": [
    "# Ejercicios:\n",
    "Escribe un script en Python utilizando Selenium que realice las siguientes tareas en la página web del Decathlon:\n",
    "\n",
    "1. Abra una el navegador y maximice la ventana.\n",
    "\n",
    "2. Acceda al sitio web de Decathlon en la URL \"https://www.decathlon.es/\".\n",
    "\n",
    "3. Haga clic en el botón \"Aceptar\" en la notificación de cookies utilizando su selector CSS.\n",
    "\n",
    "4. Solicite al usuario que ingrese una búsqueda (por ejemplo, un producto deportivo) mediante una entrada de texto.\n",
    "\n",
    "5. Utilice el texto ingresado para buscar productos en el sitio web de Decathlon y presione la tecla \"Enter\" para iniciar la búsqueda.\n",
    "\n",
    "6. Inicialice un diccionario llamado `diccionario_resultados` con tres listas vacías: \"nombre\", \"precio\" y \"puntuación\".\n",
    "\n",
    "7. Itere sobre los primeros 5 resultados de la búsqueda y realice las siguientes acciones:\n",
    "\n",
    "    a. Haga clic en un resultado específico.\n",
    "    b. Recopile el nombre del producto, el precio y la puntuación del producto y almacénelos en las listas correspondientes en el diccionario `diccionario_resultados`.\n",
    "\n",
    "    c. Navegue de regreso a los resultados de búsqueda.\n",
    "\n",
    "8. Cierre el navegador Chrome.\n",
    "\n",
    "El resultado final debería ser un diccionario con información sobre los primeros 5 productos encontrados durante la búsqueda en el sitio web de Decathlon, incluyendo el nombre del producto, el precio y la puntuación. Muestralo en un DataFrame similar al ves a continuación: \n",
    "\n",
    "| nombre                                             | precio    | puntuacion |\n",
    "|----------------------------------------------------|-----------|------------|\n",
    "| Camiseta Real Madrid Local Adulto Temporada 23/24  | 99,99 €   | 5/5        |\n",
    "| Camiseta térmica interior de esquí y nieve Muj... | 6,99 €    | 4.7/5      |\n",
    "| Camiseta running térmica transpirable Mujer Ki... | 19,99 €   | 4.8/5      |\n",
    "| Camiseta térmica running Mujer negra              | 14,99 €   | 4.7/5      |\n",
    "| Camiseta de fútbol Adulto Kipsta F100 roja         | 5,99 €    | 4.5/5      |\n"
   ]
  },
  {
   "cell_type": "code",
   "execution_count": null,
   "metadata": {},
   "outputs": [],
   "source": [
    "# Instalación de herramientas\n",
    "!pip install selenium\n",
    "!pip install webdriver-manager\n",
    "!pip install pandas\n",
    "!pip install requests"
   ]
  },
  {
   "cell_type": "code",
   "execution_count": null,
   "metadata": {},
   "outputs": [],
   "source": [
    "# Importar librerías para tratamiento de datos\n",
    "import pandas as pd  # Pandas es una poderosa librería para manipulación y análisis de datos en Python.\n",
    "\n",
    "# Importar librerías para web scraping y manipulación de datos\n",
    "from bs4 import BeautifulSoup\n",
    "import requests\n",
    "\n",
    "# Importar librerías para automatización de navegadores web con Selenium\n",
    "from selenium import webdriver  # Selenium es una herramienta para automatizar la interacción con navegadores web.\n",
    "from webdriver_manager.chrome import ChromeDriverManager  # ChromeDriverManager gestiona la instalación del controlador de Chrome.\n",
    "from selenium.webdriver.common.keys import Keys  # Keys es útil para simular eventos de teclado en Selenium.\n",
    "from selenium.webdriver.support.ui import Select  # Select se utiliza para interactuar con elementos <select> en páginas web.\n",
    "\n",
    "# Importar librerías para pausar la ejecución\n",
    "from time import sleep  # Sleep se utiliza para pausar la ejecución del programa por un número de segundos.\n",
    "\n",
    "# Importar libreria para los warnings\n",
    "import warnings\n",
    "warnings.filterwarnings('ignore')\n",
    "\n",
    "# Importar libreria numpy\n",
    "import numpy as np\n",
    "\n",
    "# Configuraciones\n",
    "pd.set_option('display.max_columns', None)  # Establece una opción de Pandas para mostrar todas las columnas de un DataFrame.\n"
   ]
  },
  {
   "cell_type": "code",
   "execution_count": null,
   "metadata": {},
   "outputs": [],
   "source": [
    "# 1.Inicializar un navegador web Chrome a través de WebDriver\n",
    "driver = webdriver.Chrome()\n",
    "\n",
    "# 2.Navegar a la página web de AEMET que contiene información del tiempo para municipios\n",
    "driver.get(\"https://www.decathlon.es/\")\n",
    "\n",
    "# 1.Maximizar la ventana del navegador\n",
    "driver.maximize_window()\n",
    "\n",
    "sleep(4)\n",
    "\n",
    "# 3.Aceptar las cookies en la página web\n",
    "driver.find_element(\"css selector\", \"#didomi-notice-agree-button\").click()\n",
    "\n",
    "# Esperar 4 segundos\n",
    "sleep(4)\n",
    "\n",
    "# 4. Solicite al usuario que ingrese una búsqueda (por ejemplo, un producto deportivo) mediante una entrada de texto.\n",
    "eleccion_usuario = input(\"¿Que producto quieres encontrar en la pagina web de decathlon?:\")\n",
    "\n",
    "# 5. Utilice el texto ingresado para buscar productos en el sitio web de Decathlon y presione la tecla \"Enter\" para iniciar la búsqueda.\n",
    "driver.find_element(\"css selector\", \"#search-bar > div > form > input\").send_keys(eleccion_usuario, Keys.ENTER)\n",
    "\n",
    "# Pausa de 5 segundos\n",
    "sleep(5)\n",
    "\n",
    "# Clicamos en el primer producto\n",
    "driver.find_element(\"css selector\", \"#app > main > div.list-body.svelte-18nbps0 > section.listing-section.svelte-18nbps0.listing-new-design > div > div > div:nth-child(1) > div.product-block-top-main.vtmn-flex.vtmn-flex-col.vtmn-w-full.vtmn-items-center > div.dpb-models.vtmn-relative.vtmn-self-center.svelte-ki9j1i > div > a > img\").click()\n",
    "\n",
    "# 5. Inicializar el diccionario de resultados\n",
    "diccionario_resultados = {\"nombre\": [], \"precio\": [], \"puntuacion\": []}\n",
    "\n",
    "# 6. Iterar sobre los primeros 5 resultados\n",
    "resultados = driver.find_elements(\"css selector\", \".js-product-link.dkt-product-link\")\n",
    "\n",
    "for resultado in resultados[:5]:\n",
    "    # a. Hacer clic en el resultado\n",
    "    resultado.click()\n",
    "    \n",
    "    # b. Recopilar información del producto\n",
    "    nombre = driver.find_element(\"css selector\", \"\").text\n",
    "    precio = driver.find_element(\"css selector\", \"\").text\n",
    "    puntuacion = driver.find_element(\"css selector\", \"\").text\n",
    "    \n",
    "    # Almacenar la información en el diccionario\n",
    "    diccionario_resultados[\"nombre\"].append(nombre)\n",
    "    diccionario_resultados[\"precio\"].append(precio)\n",
    "    diccionario_resultados[\"puntuacion\"].append(puntuacion)\n",
    "    \n",
    "    # c. Volver a los resultados de búsqueda\n",
    "    driver.back()\n",
    "\n",
    "# 8. Cerrar el navegador\n",
    "driver.quit()\n",
    "\n",
    "# Crear DataFrame a partir del diccionario de resultados\n",
    "df_decath = pd.DataFrame(diccionario_resultados)\n",
    "\n",
    "# Mostrar el DataFrame\n",
    "print(df_decath)"
   ]
  },
  {
   "cell_type": "code",
   "execution_count": null,
   "metadata": {},
   "outputs": [],
   "source": [
    "# Crear lista vacia para almacenar las URLS de productos\n",
    "lista_url_decathlon = []\n",
    "\n",
    "# Itera desde 1 hasta 5(inclusive):\n",
    "for d in range(1, 6):\n",
    "    lista_url_decathlon.append(driver.find_element(\"xpath\", f'//*[@id=\"app\"]/main/article/div/div[2]/section[{d}]/a').get_attribute('href'))\n",
    "\n",
    "# Cerrar en navegador\n",
    "driver.close()\n",
    "\n",
    "# 6. Inicialice un diccionario llamado `diccionario_resultados` con tres listas vacías: \"nombre\", \"precio\" y \"puntuación\".\n",
    "diccionario_resultados = {\n",
    "    \"nombre\": [],\n",
    "    \"precio\": [],\n",
    "    \"puntuacion\": []\n",
    "}\n",
    "# 7. Itere sobre los primeros 5 resultados de la búsqueda y realice las siguientes acciones:\n",
    "    # a. Haga clic en un resultado específico.\n",
    "    # b. Recopile el nombre del producto, el precio y la puntuación del producto y almacénelos en las listas correspondientes en el diccionario `diccionario_resultados`.\n",
    "    # c. Navegue de regreso a los resultados de búsqueda.\n",
    "# Iterar a través de las URL en la lista_url.\n",
    "for url in lista_url_decathlon:\n",
    "    # Hacer una solicitud GET a la URL especificada.\n",
    "    res_decathlon = requests.get(url)\n",
    "     # Crear un objeto BeautifulSoup para analizar el contenido HTML de la página.\n",
    "    sopa_decathlon = BeautifulSoup(res_decathlon.content, \"html.parser\")\n",
    "    # Extraer el nombre, precio y puntuación; y agregarlo al diccionario.\n",
    "    diccionario_resultados[\"nombre\"].append(sopa_decathlon.find(\"h1\", {\"class\":\"h1\"}).text)\n",
    "    diccionario_resultados[\"precio\"].append(sopa_decathlon.find(\"span\", {\"class\":\"price\"}).text)\n",
    "    diccionario_resultados[\"puntuacion\"].append(sopa_decathlon.find(\"h1\", {\"class\":\"h1\"}).text)\n",
    "\n",
    "# 8. Cerrar el navegado\n",
    "driver.close()\n",
    "    "
   ]
  },
  {
   "cell_type": "code",
   "execution_count": null,
   "metadata": {},
   "outputs": [],
   "source": [
    "# 9. Crear DataFrame a partir del diccionario de resultados\n",
    "df_decathlon = pd.DataFrame(diccionario_resultados)\n",
    "\n",
    "# 10. Mostrar el DataFrame\n",
    "print(df_decathlon)"
   ]
  }
 ],
 "metadata": {
  "kernelspec": {
   "display_name": "Python 3",
   "language": "python",
   "name": "python3"
  },
  "language_info": {
   "codemirror_mode": {
    "name": "ipython",
    "version": 3
   },
   "file_extension": ".py",
   "mimetype": "text/x-python",
   "name": "python",
   "nbconvert_exporter": "python",
   "pygments_lexer": "ipython3",
   "version": "3.11.5"
  }
 },
 "nbformat": 4,
 "nbformat_minor": 2
}
