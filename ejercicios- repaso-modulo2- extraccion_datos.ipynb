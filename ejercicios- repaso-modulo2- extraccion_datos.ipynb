{
 "cells": [
  {
   "cell_type": "markdown",
   "metadata": {},
   "source": [
    "## REPASO SPRINT 1- MODULO 2\n",
    "\n",
    "Repaso: Scraping de Datos y Creación de una Base de Datos -- Extracción de Datos (Beautiful Soup, Selenium y API's)\n",
    "\n",
    "Descripción del Ejercicio:\n",
    "\n",
    "En este ejercicio de repaso, usaremos la API Books, API de Google y también utilizaremos Selenium para realizar scraping de datos desde una página web de una tienda en línea de libros para obtener información adicional. El objetivo es recopilar información detallada sobre libros de Stephen King y crear una base de datos local para almacenarlos.\n",
    "\n",
    "Pasos a Seguir:\n",
    "1. Consulta de Datos de Libros (API Books API - Google Books):\n",
    "- Utiliza la API Books API para buscar libros de Stephen King.  el link a su documentación.\n",
    "- Realiza una solicitud a la API y almacena los datos de los libros de Stephen King’s.\n",
    "2. Scraping de Datos de Libros (Selenium - Book Center):\n",
    "- Utiliza la biblioteca Selenium para automatizar la navegación en la página web de Book Center, una tienda en línea de libros.\n",
    "- Realiza búsquedas de libros en el sitio web y navega por las páginas de resultados.\n",
    "- Extrae información detallada de los libros, como el precio (con y sin descuento si está disponible), editorial, año de edición y número de páginas.\n",
    "- Almacena estos datos en una estructura de datos, como una lista de diccionarios.\n",
    "3. Creación de una Base de Datos Local:\n",
    "- Diseña una BBDD para almacenar la información de los libros.\n",
    "\n",
    "------------------------------------------------------------------------------\n"
   ]
  },
  {
   "cell_type": "markdown",
   "metadata": {},
   "source": [
    "Pasos:\n",
    "1. Consulta de Datos de Libros (API Books API - Google Books):\n",
    "- Utiliza la API Books API para buscar libros de Stephen King.  el link a su documentación.\n",
    "- Realiza una solicitud a la API y almacena los datos de los libros de Stephen King’s."
   ]
  },
  {
   "cell_type": "code",
   "execution_count": null,
   "metadata": {},
   "outputs": [],
   "source": [
    "# Instalar las herramientas a utilizar\n",
    "!pip install tqdm\n",
    "!pip install python-dotenv"
   ]
  },
  {
   "cell_type": "code",
   "execution_count": null,
   "metadata": {},
   "outputs": [],
   "source": [
    "!pip install requests\n",
    "!pip install pandas"
   ]
  },
  {
   "cell_type": "code",
   "execution_count": null,
   "metadata": {},
   "outputs": [],
   "source": [
    "# Importacion de librerias:\n",
    "\n",
    "# Librería para manipulación y análisis de datos\n",
    "import pandas as pd\n",
    "\n",
    "# Librerías para automatización de navegadores web\n",
    "from selenium import webdriver\n",
    "from webdriver_manager.chrome import ChromeDriverManager\n",
    "from selenium.webdriver.common.keys import Keys\n",
    "from time import sleep\n",
    "from tqdm import tqdm\n",
    "\n",
    "\n",
    "# Librerías para hacer solicitudes HTTP y extracción de datos\n",
    "import requests\n",
    "from bs4 import BeautifulSoup\n",
    "\n",
    "\n",
    "# Librería para suprimir advertencias\n",
    "import warnings\n",
    "warnings.filterwarnings('ignore')\n",
    "\n",
    "\n",
    "# Importar librería para ocultar contraseñas\n",
    "import os\n",
    "from dotenv import load_dotenv\n",
    "load_dotenv()"
   ]
  },
  {
   "cell_type": "code",
   "execution_count": 4,
   "metadata": {},
   "outputs": [],
   "source": [
    "# Configuración para poder visualizar todas las columnas de los DataFrames\n",
    "pd.set_option('display.max_columns', None) "
   ]
  },
  {
   "cell_type": "code",
   "execution_count": 5,
   "metadata": {},
   "outputs": [],
   "source": [
    "# Crear una contraseña \n",
    "key_usuario = os.getenv(\"key_usuario\")"
   ]
  },
  {
   "cell_type": "code",
   "execution_count": 6,
   "metadata": {},
   "outputs": [],
   "source": [
    "# Definir url\n",
    "url_books = f\"https://api.nytimes.com/svc/books/v3/reviews.json?author=Stephen%20King&api-key={key_usuario}\"\n"
   ]
  },
  {
   "cell_type": "code",
   "execution_count": 7,
   "metadata": {},
   "outputs": [
    {
     "name": "stdout",
     "output_type": "stream",
     "text": [
      "La llamada a la API nos ha dado una respuesta de tipo: 200\n"
     ]
    }
   ],
   "source": [
    "# Realiza una solicitud GET a la URL proporcionada y almacena la respuesta en 'llamada'.\n",
    "llamada_books = requests.get(url_books)\n",
    "    \n",
    "# Llamamos y imprime el código de estado de la respuesta.\n",
    "llamada_books.status_code\n",
    "print(f\"La llamada a la API nos ha dado una respuesta de tipo: {llamada_books.status_code}\")  "
   ]
  },
  {
   "cell_type": "code",
   "execution_count": null,
   "metadata": {},
   "outputs": [],
   "source": [
    "books_json = llamada_books.json()\n",
    "books_json"
   ]
  },
  {
   "cell_type": "code",
   "execution_count": 9,
   "metadata": {},
   "outputs": [
    {
     "data": {
      "text/plain": [
       "dict"
      ]
     },
     "execution_count": 9,
     "metadata": {},
     "output_type": "execute_result"
    }
   ],
   "source": [
    "# Solicito el tipo\n",
    "type(books_json)"
   ]
  },
  {
   "cell_type": "code",
   "execution_count": 10,
   "metadata": {},
   "outputs": [
    {
     "data": {
      "text/plain": [
       "4"
      ]
     },
     "execution_count": 10,
     "metadata": {},
     "output_type": "execute_result"
    }
   ],
   "source": [
    "# Observamos la longitud\n",
    "len(books_json)"
   ]
  },
  {
   "cell_type": "code",
   "execution_count": 11,
   "metadata": {},
   "outputs": [
    {
     "data": {
      "text/plain": [
       "dict_keys(['status', 'copyright', 'num_results', 'results'])"
      ]
     },
     "execution_count": 11,
     "metadata": {},
     "output_type": "execute_result"
    }
   ],
   "source": [
    "# Solicitamos las Keys para posteriormente acceder a cada una de ellas\n",
    "books_json.keys()"
   ]
  },
  {
   "cell_type": "code",
   "execution_count": 12,
   "metadata": {},
   "outputs": [
    {
     "data": {
      "text/plain": [
       "'OK'"
      ]
     },
     "execution_count": 12,
     "metadata": {},
     "output_type": "execute_result"
    }
   ],
   "source": [
    "books_json[\"status\"]"
   ]
  },
  {
   "cell_type": "code",
   "execution_count": 13,
   "metadata": {},
   "outputs": [
    {
     "data": {
      "text/plain": [
       "'Copyright (c) 2024 The New York Times Company.  All Rights Reserved.'"
      ]
     },
     "execution_count": 13,
     "metadata": {},
     "output_type": "execute_result"
    }
   ],
   "source": [
    "books_json[\"copyright\"]"
   ]
  },
  {
   "cell_type": "code",
   "execution_count": 14,
   "metadata": {},
   "outputs": [
    {
     "data": {
      "text/plain": [
       "66"
      ]
     },
     "execution_count": 14,
     "metadata": {},
     "output_type": "execute_result"
    }
   ],
   "source": [
    "books_json[\"num_results\"]"
   ]
  },
  {
   "cell_type": "code",
   "execution_count": null,
   "metadata": {},
   "outputs": [],
   "source": [
    "books_json[\"results\"]"
   ]
  },
  {
   "cell_type": "code",
   "execution_count": null,
   "metadata": {},
   "outputs": [],
   "source": [
    "books_json[\"results\"][0]"
   ]
  },
  {
   "cell_type": "code",
   "execution_count": 17,
   "metadata": {},
   "outputs": [
    {
     "data": {
      "text/html": [
       "<div>\n",
       "<style scoped>\n",
       "    .dataframe tbody tr th:only-of-type {\n",
       "        vertical-align: middle;\n",
       "    }\n",
       "\n",
       "    .dataframe tbody tr th {\n",
       "        vertical-align: top;\n",
       "    }\n",
       "\n",
       "    .dataframe thead th {\n",
       "        text-align: right;\n",
       "    }\n",
       "</style>\n",
       "<table border=\"1\" class=\"dataframe\">\n",
       "  <thead>\n",
       "    <tr style=\"text-align: right;\">\n",
       "      <th></th>\n",
       "      <th>url</th>\n",
       "      <th>publication_dt</th>\n",
       "      <th>byline</th>\n",
       "      <th>book_title</th>\n",
       "      <th>book_author</th>\n",
       "      <th>summary</th>\n",
       "      <th>uuid</th>\n",
       "      <th>uri</th>\n",
       "      <th>isbn13</th>\n",
       "    </tr>\n",
       "  </thead>\n",
       "  <tbody>\n",
       "    <tr>\n",
       "      <th>0</th>\n",
       "      <td>http://www.nytimes.com/2011/11/13/books/review...</td>\n",
       "      <td>2011-11-13</td>\n",
       "      <td>ERROL MORRIS</td>\n",
       "      <td>11/22/63</td>\n",
       "      <td>Stephen King</td>\n",
       "      <td>Stephen King’s time traveler tries to undo som...</td>\n",
       "      <td>00000000-0000-0000-0000-000000000000</td>\n",
       "      <td>nyt://book/00000000-0000-0000-0000-000000000000</td>\n",
       "      <td>[9780307951434, 9780606351461, 9781442344280, ...</td>\n",
       "    </tr>\n",
       "    <tr>\n",
       "      <th>1</th>\n",
       "      <td>http://www.nytimes.com/2011/10/31/books/stephe...</td>\n",
       "      <td>2011-10-31</td>\n",
       "      <td>JANET MASLIN</td>\n",
       "      <td>11/22/63</td>\n",
       "      <td>Stephen King</td>\n",
       "      <td>Stephen King’s latest novel, “11/22/63,” tells...</td>\n",
       "      <td>00000000-0000-0000-0000-000000000000</td>\n",
       "      <td>nyt://book/00000000-0000-0000-0000-000000000000</td>\n",
       "      <td>[9780307951434, 9780606351461, 9781442344280, ...</td>\n",
       "    </tr>\n",
       "    <tr>\n",
       "      <th>2</th>\n",
       "      <td>http://www.nytimes.com/2004/01/04/books/the-qu...</td>\n",
       "      <td>2004-01-04</td>\n",
       "      <td>ANDREW O'HEHIR</td>\n",
       "      <td>Wolves of the Calla</td>\n",
       "      <td>Stephen King</td>\n",
       "      <td></td>\n",
       "      <td>00000000-0000-0000-0000-000000000000</td>\n",
       "      <td>nyt://book/00000000-0000-0000-0000-000000000000</td>\n",
       "      <td>[9781848941137]</td>\n",
       "    </tr>\n",
       "    <tr>\n",
       "      <th>3</th>\n",
       "      <td>http://www.nytimes.com/1993/10/24/books/in-sho...</td>\n",
       "      <td>1993-10-24</td>\n",
       "      <td>RICHARD E. NICHOLLS</td>\n",
       "      <td>Nightmares and Dreamscapes</td>\n",
       "      <td>Stephen King</td>\n",
       "      <td></td>\n",
       "      <td>00000000-0000-0000-0000-000000000000</td>\n",
       "      <td>nyt://book/00000000-0000-0000-0000-000000000000</td>\n",
       "      <td>[9781441615299]</td>\n",
       "    </tr>\n",
       "    <tr>\n",
       "      <th>4</th>\n",
       "      <td>http://www.nytimes.com/2001/11/04/books/books-...</td>\n",
       "      <td>2001-11-04</td>\n",
       "      <td>MARY ELIZABETH WILLIAMS</td>\n",
       "      <td>Black House</td>\n",
       "      <td>Stephen King</td>\n",
       "      <td></td>\n",
       "      <td>00000000-0000-0000-0000-000000000000</td>\n",
       "      <td>nyt://book/00000000-0000-0000-0000-000000000000</td>\n",
       "      <td>[9780375504396]</td>\n",
       "    </tr>\n",
       "  </tbody>\n",
       "</table>\n",
       "</div>"
      ],
      "text/plain": [
       "                                                 url publication_dt  \\\n",
       "0  http://www.nytimes.com/2011/11/13/books/review...     2011-11-13   \n",
       "1  http://www.nytimes.com/2011/10/31/books/stephe...     2011-10-31   \n",
       "2  http://www.nytimes.com/2004/01/04/books/the-qu...     2004-01-04   \n",
       "3  http://www.nytimes.com/1993/10/24/books/in-sho...     1993-10-24   \n",
       "4  http://www.nytimes.com/2001/11/04/books/books-...     2001-11-04   \n",
       "\n",
       "                    byline                  book_title   book_author  \\\n",
       "0             ERROL MORRIS                    11/22/63  Stephen King   \n",
       "1             JANET MASLIN                    11/22/63  Stephen King   \n",
       "2           ANDREW O'HEHIR         Wolves of the Calla  Stephen King   \n",
       "3      RICHARD E. NICHOLLS  Nightmares and Dreamscapes  Stephen King   \n",
       "4  MARY ELIZABETH WILLIAMS                 Black House  Stephen King   \n",
       "\n",
       "                                             summary  \\\n",
       "0  Stephen King’s time traveler tries to undo som...   \n",
       "1  Stephen King’s latest novel, “11/22/63,” tells...   \n",
       "2                                                      \n",
       "3                                                      \n",
       "4                                                      \n",
       "\n",
       "                                   uuid  \\\n",
       "0  00000000-0000-0000-0000-000000000000   \n",
       "1  00000000-0000-0000-0000-000000000000   \n",
       "2  00000000-0000-0000-0000-000000000000   \n",
       "3  00000000-0000-0000-0000-000000000000   \n",
       "4  00000000-0000-0000-0000-000000000000   \n",
       "\n",
       "                                               uri  \\\n",
       "0  nyt://book/00000000-0000-0000-0000-000000000000   \n",
       "1  nyt://book/00000000-0000-0000-0000-000000000000   \n",
       "2  nyt://book/00000000-0000-0000-0000-000000000000   \n",
       "3  nyt://book/00000000-0000-0000-0000-000000000000   \n",
       "4  nyt://book/00000000-0000-0000-0000-000000000000   \n",
       "\n",
       "                                              isbn13  \n",
       "0  [9780307951434, 9780606351461, 9781442344280, ...  \n",
       "1  [9780307951434, 9780606351461, 9781442344280, ...  \n",
       "2                                    [9781848941137]  \n",
       "3                                    [9781441615299]  \n",
       "4                                    [9780375504396]  "
      ]
     },
     "execution_count": 17,
     "metadata": {},
     "output_type": "execute_result"
    }
   ],
   "source": [
    "# Imprimimos el DataFrame\n",
    "df_libros = pd.DataFrame(books_json[\"results\"])\n",
    "df_libros.head()"
   ]
  },
  {
   "cell_type": "code",
   "execution_count": null,
   "metadata": {},
   "outputs": [],
   "source": [
    "# Obtención de los datos de la columna title y lista con los nombres unicos sin estar repetidos\n",
    "df_libros[\"book_title\"].unique()"
   ]
  },
  {
   "cell_type": "code",
   "execution_count": 19,
   "metadata": {},
   "outputs": [],
   "source": [
    "# guardamos el dataFrame en un csv\n",
    "df_libros.to_csv(\"libros.csv\")"
   ]
  },
  {
   "cell_type": "markdown",
   "metadata": {},
   "source": [
    "2. Scraping de Datos de Libros (Selenium - Book Center):\n",
    "- Utiliza la biblioteca Selenium para automatizar la navegación en la página web de Book Center, una tienda en línea de libros.\n",
    "- Realiza búsquedas de libros en el sitio web y navega por las páginas de resultados.\n",
    "- Extrae información detallada de los libros, como el precio (con y sin descuento si está disponible), editorial, año de edición y número de páginas.\n",
    "- Almacena estos datos en una estructura de datos, como una lista de diccionarios."
   ]
  },
  {
   "cell_type": "code",
   "execution_count": null,
   "metadata": {},
   "outputs": [],
   "source": [
    "!pip install pandas\n",
    "!pip install requests"
   ]
  },
  {
   "cell_type": "code",
   "execution_count": 21,
   "metadata": {},
   "outputs": [],
   "source": [
    "# Importar librerías para tratamiento de datos\n",
    "import pandas as pd  # Pandas es una poderosa librería para manipulación y análisis de datos en Python.\n",
    "\n",
    "# Importar librerías para web scraping y manipulación de datos\n",
    "from bs4 import BeautifulSoup\n",
    "import requests\n",
    "\n",
    "# Importar librerías para automatización de navegadores web con Selenium\n",
    "from selenium import webdriver  # Selenium es una herramienta para automatizar la interacción con navegadores web.\n",
    "from webdriver_manager.chrome import ChromeDriverManager  # ChromeDriverManager gestiona la instalación del controlador de Chrome.\n",
    "from selenium.webdriver.common.keys import Keys  # Keys es útil para simular eventos de teclado en Selenium.\n",
    "from selenium.webdriver.support.ui import Select  # Select se utiliza para interactuar con elementos <select> en páginas web.\n",
    "from tqdm import tqdm\n",
    "\n",
    "# Importar librerías para pausar la ejecución\n",
    "from time import sleep  # Sleep se utiliza para pausar la ejecución del programa por un número de segundos.\n",
    "\n",
    "# Importar libreria para los warnings\n",
    "import warnings\n",
    "warnings.filterwarnings('ignore')\n",
    "\n",
    "# Importar libreria numpy\n",
    "import numpy as np\n",
    "\n",
    "# Configuraciones\n",
    "pd.set_option('display.max_columns', None)  # Establece una opción de Pandas para mostrar todas las columnas de un DataFrame.\n"
   ]
  },
  {
   "cell_type": "code",
   "execution_count": null,
   "metadata": {},
   "outputs": [],
   "source": [
    "# 1.Inicializar un navegador web Chrome a través de WebDriver\n",
    "driver = webdriver.Chrome()\n",
    "\n",
    "# 2.Navegar a la página web de BookCenter que contiene información de libros\n",
    "driver.get(\"https://www.bookcenter.es/\")\n",
    "\n",
    "# 1.Maximizar la ventana del navegador\n",
    "driver.maximize_window()\n",
    "\n",
    "# Esperar 4 segundos\n",
    "sleep(4)\n",
    "\n",
    "# 3.Aceptar las cookies en la página web\n",
    "driver.find_element(\"css selector\", \"#cookie-accept\").click()\n",
    "\n",
    "# Esperar 4 segundos\n",
    "sleep(4)\n",
    "\n",
    "# 5. Creamos una lista vacia de las url de los libros\n",
    "listaurl_libros = []\n",
    "\n",
    "# 6. Iteramos sobre la lista de las url_libros\n",
    "for libros in tqdm(listaurl_libros):\n",
    "    try:\n",
    "        # Uso el texto ingresado para buscar productos en el sitio web de Books center y presione la tecla \"Enter\" para iniciar la búsqueda.\n",
    "        driver.find_element(\"css selector\", \"#busqueda > input.search-text\").send_keys(libros, Keys.ENTER)\n",
    "    \n",
    "        # Esperar 2 segundos\n",
    "        sleep(2)\n",
    "    \n",
    "        # Obtener la URL del primer resultado de búsqueda en el sitio web\n",
    "        url_libro = driver.find_element(\"css selector\", \"#main-container > div > div > div.row > ul > li:nth-child(1) > form > dl > dd.title > a\").get_attribute(\"href\")\n",
    "\n",
    "        # Agregar la URL del libro a la lista \"lista_url_libros\"\n",
    "        listaurl_libros.append(url_libro)\n",
    "    except:\n",
    "        pass\n",
    "# 8. Cerrar el navegador\n",
    "driver.close()"
   ]
  },
  {
   "cell_type": "code",
   "execution_count": null,
   "metadata": {},
   "outputs": [],
   "source": [
    "listaurl_libros"
   ]
  },
  {
   "cell_type": "code",
   "execution_count": 37,
   "metadata": {},
   "outputs": [],
   "source": [
    "# Crear un diccionario llamado \"diccionario_detalles\" con claves para diferentes detalles de libros\n",
    "diccionario_detalles = {\"precios\": [], \"nombre_libro\": [], \"Editorial\": [], \"Año de edicion\": [], \"Paginas\": []}"
   ]
  },
  {
   "cell_type": "code",
   "execution_count": 38,
   "metadata": {},
   "outputs": [
    {
     "data": {
      "text/plain": [
       "{'precios': [],\n",
       " 'nombre_libro': [],\n",
       " 'Editorial': [],\n",
       " 'Año de edicion': [],\n",
       " 'Paginas': []}"
      ]
     },
     "execution_count": 38,
     "metadata": {},
     "output_type": "execute_result"
    }
   ],
   "source": [
    "# Iterar a través de las URL de libros en la lista \"lista_url_libros\", para obtener la información de los libros de Stephen King\n",
    "for url in listaurl_libros:\n",
    "    # Realizar una solicitud HTTP a la URL y obtener la respuesta\n",
    "    respuesta_libro = requests.get(url)\n",
    "    \n",
    "    # Ver el estado de la respuesta\n",
    "    respuesta_libro.status_code\n",
    "    \n",
    "    # Analizar el contenido HTML de la respuesta y almacenarlo en la variable \"sopa\"\n",
    "    sopa = BeautifulSoup(respuesta_libro.content, \"html.parser\")\n",
    "\n",
    "    detalles = sopa.find_all(\"dl\", {\"class\": \"summary col-md-8 col-sm-8\"})[0].text.split(\"\\n\")\n",
    "\n",
    "    diccionario_detalles[\"nombre_libro\"].append(detalles[1])\n",
    "    diccionario_detalles[\"precios\"].append(detalles[7])\n",
    "\n",
    "    for indice, elemento in enumerate(detalles):\n",
    "        if elemento == \"Editorial:\":\n",
    "            ind = indice + 1\n",
    "            diccionario_detalles[\"Editorial\"].append(detalles[ind])\n",
    "            \n",
    "        elif elemento == \"Páginas:\":\n",
    "            \n",
    "            ind = indice + 1\n",
    "            diccionario_detalles[\"Paginas\"].append(detalles[ind])\n",
    "        \n",
    "        elif elemento == \"Año de edición: \":\n",
    "            ind = indice + 1\n",
    "            diccionario_detalles[\"Año de edicion\"].append(detalles[ind])\n",
    "\n",
    "    if len(diccionario_detalles[\"Editorial\"]) != len(diccionario_detalles[\"Año de edicion\"]):\n",
    "        diccionario_detalles[\"Año de edicion\"].append(\"desc\")\n",
    "\n",
    "    if len(diccionario_detalles[\"Editorial\"]) != len(diccionario_detalles[\"Paginas\"]):\n",
    "        diccionario_detalles[\"Paginas\"].append(\"desc\")\n",
    "    break \n",
    "        \n",
    "diccionario_detalles"
   ]
  },
  {
   "cell_type": "code",
   "execution_count": 27,
   "metadata": {},
   "outputs": [
    {
     "data": {
      "text/plain": [
       "{'precios': [],\n",
       " 'nombre_libro': [],\n",
       " 'Editorial': [],\n",
       " 'Año de edicion': [],\n",
       " 'Paginas': []}"
      ]
     },
     "execution_count": 27,
     "metadata": {},
     "output_type": "execute_result"
    }
   ],
   "source": [
    "# Imprimir para ver la información recopilada\n",
    "diccionario_detalles"
   ]
  },
  {
   "cell_type": "markdown",
   "metadata": {},
   "source": [
    "3. Creación de una Base de Datos Local:\n",
    "- Diseña una BBDD para almacenar la información de los libros."
   ]
  },
  {
   "cell_type": "code",
   "execution_count": null,
   "metadata": {},
   "outputs": [],
   "source": [
    "CREATE TABLE Libros (\n",
    "    id INT PRIMARY KEY AUTO_INCREMENT,\n",
    "    nombre_libro VARCHAR(255),\n",
    "    editorial VARCHAR(255),\n",
    "    anio_edicion INT,\n",
    "    paginas INT,\n",
    "    precio DECIMAL(10, 2));"
   ]
  }
 ],
 "metadata": {
  "kernelspec": {
   "display_name": "base",
   "language": "python",
   "name": "python3"
  },
  "language_info": {
   "codemirror_mode": {
    "name": "ipython",
    "version": 3
   },
   "file_extension": ".py",
   "mimetype": "text/x-python",
   "name": "python",
   "nbconvert_exporter": "python",
   "pygments_lexer": "ipython3",
   "version": "3.12.1"
  }
 },
 "nbformat": 4,
 "nbformat_minor": 2
}
